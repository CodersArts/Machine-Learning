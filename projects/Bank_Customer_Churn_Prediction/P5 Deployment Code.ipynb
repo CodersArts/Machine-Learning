{
  "nbformat": 4,
  "nbformat_minor": 0,
  "metadata": {
    "colab": {
      "provenance": []
    },
    "kernelspec": {
      "name": "python3",
      "display_name": "Python 3"
    },
    "language_info": {
      "name": "python"
    }
  },
  "cells": [
    {
      "cell_type": "code",
      "execution_count": null,
      "metadata": {
        "id": "xM5G9vo5CI0r"
      },
      "outputs": [],
      "source": [
        "import numpy as np\n",
        "import pandas as pd"
      ]
    },
    {
      "cell_type": "code",
      "source": [
        "!pip install -q streamlit"
      ],
      "metadata": {
        "id": "rOLOVD8nDDLW"
      },
      "execution_count": null,
      "outputs": []
    },
    {
      "cell_type": "code",
      "source": [
        "import keras"
      ],
      "metadata": {
        "id": "umTKI4ikDNfg"
      },
      "execution_count": null,
      "outputs": []
    },
    {
      "cell_type": "code",
      "source": [
        "%%writefile app.py\n",
        "import keras\n",
        "from keras.models import load_model\n",
        "\n",
        "model = load_model('/content/BankExit.h5')\n",
        "import streamlit as st\n",
        "\n",
        "a=[0,0,0,0,0,0,0,0,0,0]\n",
        "credit = st.number_input('Credit Score')\n",
        "geo = st.number_input('0:france 1:spain 2:germany')\n",
        "gen = st.number_input('Gender 0 for female 1 for male')\n",
        "age = st.number_input('Age')\n",
        "ten = st.number_input('tenure')\n",
        "bal = st.number_input('Balance')\n",
        "prod = st.number_input('Products')\n",
        "card = st.number_input('Has card')\n",
        "act = st.number_input('Is active')\n",
        "sal = st.number_input('Salary')\n",
        "\n",
        "a[0]=credit\n",
        "a[1]=geo\n",
        "a[2]=gen\n",
        "a[3]=age\n",
        "a[4]=ten\n",
        "a[5]=bal\n",
        "a[6]=prod\n",
        "a[7]=card\n",
        "a[8]=act\n",
        "a[9]=sal\n",
        "\n",
        "output = model.predict([a])\n",
        "st.write('output',output)"
      ],
      "metadata": {
        "colab": {
          "base_uri": "https://localhost:8080/"
        },
        "id": "gUibDCbIDSuE",
        "outputId": "33d3b0f0-1d54-4c4d-e376-fcc72d200ee3"
      },
      "execution_count": null,
      "outputs": [
        {
          "output_type": "stream",
          "name": "stdout",
          "text": [
            "Overwriting app.py\n"
          ]
        }
      ]
    },
    {
      "cell_type": "code",
      "source": [
        "!npm install localtunnel"
      ],
      "metadata": {
        "colab": {
          "base_uri": "https://localhost:8080/"
        },
        "id": "gEQSNxyjGTc5",
        "outputId": "1604e70d-6a4e-43fd-fe33-ec547d5f7f17"
      },
      "execution_count": null,
      "outputs": [
        {
          "output_type": "stream",
          "name": "stdout",
          "text": [
            "\u001b[K\u001b[?25h\u001b[37;40mnpm\u001b[0m \u001b[0m\u001b[30;43mWARN\u001b[0m \u001b[0m\u001b[35msaveError\u001b[0m ENOENT: no such file or directory, open '/content/package.json'\n",
            "\u001b[0m\u001b[37;40mnpm\u001b[0m \u001b[0m\u001b[34;40mnotice\u001b[0m\u001b[35m\u001b[0m created a lockfile as package-lock.json. You should commit this file.\n",
            "\u001b[0m\u001b[37;40mnpm\u001b[0m \u001b[0m\u001b[30;43mWARN\u001b[0m \u001b[0m\u001b[35menoent\u001b[0m ENOENT: no such file or directory, open '/content/package.json'\n",
            "\u001b[0m\u001b[37;40mnpm\u001b[0m \u001b[0m\u001b[30;43mWARN\u001b[0m\u001b[35m\u001b[0m content No description\n",
            "\u001b[0m\u001b[37;40mnpm\u001b[0m \u001b[0m\u001b[30;43mWARN\u001b[0m\u001b[35m\u001b[0m content No repository field.\n",
            "\u001b[0m\u001b[37;40mnpm\u001b[0m \u001b[0m\u001b[30;43mWARN\u001b[0m\u001b[35m\u001b[0m content No README data\n",
            "\u001b[0m\u001b[37;40mnpm\u001b[0m \u001b[0m\u001b[30;43mWARN\u001b[0m\u001b[35m\u001b[0m content No license field.\n",
            "\u001b[0m\n",
            "+ localtunnel@2.0.2\n",
            "added 22 packages from 22 contributors and audited 22 packages in 1.968s\n",
            "\n",
            "3 packages are looking for funding\n",
            "  run `npm fund` for details\n",
            "\n",
            "found \u001b[92m0\u001b[0m vulnerabilities\n",
            "\n",
            "\u001b[K\u001b[?25h"
          ]
        }
      ]
    },
    {
      "cell_type": "code",
      "source": [
        "!streamlit run /content/app.py &>/content/logs.txt &"
      ],
      "metadata": {
        "id": "yxK-HhyUFLvr"
      },
      "execution_count": null,
      "outputs": []
    },
    {
      "cell_type": "code",
      "source": [
        "!npx localtunnel --port 8501"
      ],
      "metadata": {
        "colab": {
          "base_uri": "https://localhost:8080/"
        },
        "id": "8N2zEro0Fad3",
        "outputId": "884a9ead-2e01-4274-f717-d35650f4ba8d"
      },
      "execution_count": null,
      "outputs": [
        {
          "output_type": "stream",
          "name": "stdout",
          "text": [
            "\u001b[K\u001b[?25hnpx: installed 22 in 2.008s\n",
            "your url is: https://heavy-teeth-tell-35-197-112-95.loca.lt\n",
            "/root/.npm/_npx/153/lib/node_modules/localtunnel/bin/lt.js:81\n",
            "    throw err;\n",
            "    ^\n",
            "\n",
            "Error: connection refused: localtunnel.me:46671 (check your firewall settings)\n",
            "    at Socket.<anonymous> (/root/.npm/_npx/153/lib/node_modules/\u001b[4mlocaltunnel\u001b[24m/lib/TunnelCluster.js:52:11)\n",
            "\u001b[90m    at Socket.emit (events.js:315:20)\u001b[39m\n",
            "\u001b[90m    at emitErrorNT (internal/streams/destroy.js:106:8)\u001b[39m\n",
            "\u001b[90m    at emitErrorCloseNT (internal/streams/destroy.js:74:3)\u001b[39m\n",
            "\u001b[90m    at processTicksAndRejections (internal/process/task_queues.js:80:21)\u001b[39m\n"
          ]
        }
      ]
    },
    {
      "cell_type": "code",
      "source": [
        "!streamlit run app.py & npx localtunnel --port 8501"
      ],
      "metadata": {
        "colab": {
          "base_uri": "https://localhost:8080/"
        },
        "id": "iMileHNAKHBh",
        "outputId": "38721a8c-1397-4d3b-e6c5-d0d400ad9634"
      },
      "execution_count": null,
      "outputs": [
        {
          "output_type": "stream",
          "name": "stdout",
          "text": [
            "Traceback (most recent call last):\n",
            "  File \"/usr/local/bin/streamlit\", line 5, in <module>\n",
            "    from streamlit.web.cli import main\n",
            "  File \"/usr/local/lib/python3.7/dist-packages/streamlit/__init__.py\", line 55, in <module>\n",
            "    from streamlit.delta_generator import DeltaGenerator as _DeltaGenerator\n",
            "  File \"/usr/local/lib/python3.7/dist-packages/streamlit/delta_generator.py\", line 45, in <module>\n",
            "    from streamlit.elements.arrow_altair import ArrowAltairMixin\n",
            "  File \"/usr/local/lib/python3.7/dist-packages/streamlit/elements/arrow_altair.py\", line 42, in <module>\n",
            "    from streamlit.elements.utils import last_index_for_melted_dataframes\n",
            "  File \"/usr/local/lib/python3.7/dist-packages/streamlit/elements/utils.py\", line 82, in <module>\n",
            "    ) -> LabelVisibilityMessage.LabelVisibilityOptions.ValueType:\n",
            "  File \"/usr/local/lib/python3.7/dist-packages/google/protobuf/internal/enum_type_wrapper.py\", line 115, in __getattr__\n",
            "    self._enum_type.name, name))\n",
            "AttributeError: Enum LabelVisibilityOptions has no value defined for name 'ValueType'\n",
            "\u001b[K\u001b[?25hnpx: installed 22 in 2.976s\n",
            "your url is: https://bright-regions-drop-35-192-19-64.loca.lt\n",
            "^C\n"
          ]
        }
      ]
    }
  ]
}