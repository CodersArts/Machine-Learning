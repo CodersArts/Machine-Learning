{
  "nbformat": 4,
  "nbformat_minor": 0,
  "metadata": {
    "colab": {
      "provenance": []
    },
    "kernelspec": {
      "name": "python3",
      "display_name": "Python 3"
    },
    "language_info": {
      "name": "python"
    }
  },
  "cells": [
    {
      "cell_type": "markdown",
      "source": [
        "Missing Values"
      ],
      "metadata": {
        "id": "cWa7NJ-avkKz"
      }
    },
    {
      "cell_type": "code",
      "execution_count": null,
      "metadata": {
        "colab": {
          "base_uri": "https://localhost:8080/"
        },
        "id": "90N8U0d5dJUi",
        "outputId": "df0ca6f8-c7ce-4675-a385-948c43cb98c0"
      },
      "outputs": [
        {
          "output_type": "stream",
          "name": "stdout",
          "text": [
            "     f1   f2   f3\n",
            "0   5.0  2.0  3.0\n",
            "1   NaN  NaN  4.0\n",
            "2  -3.0  2.0  1.0\n",
            "3   8.0  NaN  4.0\n",
            "4  10.0  NaN  5.0\n"
          ]
        }
      ],
      "source": [
        "import numpy as np\n",
        "import pandas as pd\n",
        "X = pd.DataFrame(np.array([5,2,3,np.NaN,np.NaN,4,-3,2,1,8,np.NaN,4,10,np.NaN,5]).reshape(5,3))\n",
        "X.columns = ['f1','f2','f3']\n",
        "print(X)\n",
        "z = X"
      ]
    },
    {
      "cell_type": "code",
      "source": [
        "X.isnull().sum()"
      ],
      "metadata": {
        "colab": {
          "base_uri": "https://localhost:8080/"
        },
        "id": "DUccsVn5sacI",
        "outputId": "e606d8fb-8df6-4bd3-82bf-46d2d5481659"
      },
      "execution_count": null,
      "outputs": [
        {
          "output_type": "execute_result",
          "data": {
            "text/plain": [
              "f1    1\n",
              "f2    3\n",
              "f3    0\n",
              "dtype: int64"
            ]
          },
          "metadata": {},
          "execution_count": 5
        }
      ]
    },
    {
      "cell_type": "code",
      "source": [
        "X.isnull().sum().sum()"
      ],
      "metadata": {
        "colab": {
          "base_uri": "https://localhost:8080/"
        },
        "id": "8m7KGQWnslAn",
        "outputId": "c862e1b1-1e97-46b3-9b18-291014a7c210"
      },
      "execution_count": null,
      "outputs": [
        {
          "output_type": "execute_result",
          "data": {
            "text/plain": [
              "4"
            ]
          },
          "metadata": {},
          "execution_count": 6
        }
      ]
    },
    {
      "cell_type": "code",
      "source": [
        "from sklearn.impute import MissingIndicator\n",
        "indicator = MissingIndicator(missing_values=np.NaN)\n",
        "indicator = indicator.fit_transform(X)\n",
        "indicator = pd.DataFrame(indicator,columns=['a1','a2'])\n",
        "print(indicator)"
      ],
      "metadata": {
        "colab": {
          "base_uri": "https://localhost:8080/"
        },
        "id": "bLJEmGEmssCZ",
        "outputId": "b70d62e3-9744-4dfc-ad6b-f1415f656ee2"
      },
      "execution_count": null,
      "outputs": [
        {
          "output_type": "stream",
          "name": "stdout",
          "text": [
            "      a1     a2\n",
            "0  False  False\n",
            "1   True   True\n",
            "2  False  False\n",
            "3  False   True\n",
            "4  False   True\n"
          ]
        }
      ]
    },
    {
      "cell_type": "code",
      "source": [
        "from sklearn.impute import SimpleImputer\n",
        "imp = SimpleImputer(missing_values=np.NaN, strategy='most_frequent')\n",
        "X= pd.DataFrame(imp.fit_transform(X))\n",
        "X.columns = ['f1','f2','f3']\n",
        "print(X)"
      ],
      "metadata": {
        "colab": {
          "base_uri": "https://localhost:8080/"
        },
        "id": "vfzSHHxitsoi",
        "outputId": "dfa63fdb-65f2-4e30-8129-aa49bfc9e8f3"
      },
      "execution_count": null,
      "outputs": [
        {
          "output_type": "stream",
          "name": "stdout",
          "text": [
            "     f1   f2   f3\n",
            "0   5.0  2.0  3.0\n",
            "1   5.0  2.0  4.0\n",
            "2  -3.0  2.0  1.0\n",
            "3   8.0  2.0  4.0\n",
            "4  10.0  2.0  5.0\n"
          ]
        }
      ]
    },
    {
      "cell_type": "code",
      "source": [
        "df = z.dropna(axis=0)\n",
        "df.reset_index(inplace=True)\n",
        "print(df)"
      ],
      "metadata": {
        "colab": {
          "base_uri": "https://localhost:8080/"
        },
        "id": "IZYzbo8tuRt2",
        "outputId": "c9612f5d-e5fa-49c1-f833-d1aa0f7be576"
      },
      "execution_count": null,
      "outputs": [
        {
          "output_type": "stream",
          "name": "stdout",
          "text": [
            "   index   f1   f2   f3\n",
            "0      0  5.0  2.0  3.0\n",
            "1      2 -3.0  2.0  1.0\n"
          ]
        }
      ]
    },
    {
      "cell_type": "markdown",
      "source": [
        "Handling Categorical Values"
      ],
      "metadata": {
        "id": "xYuuI-fG8TA7"
      }
    },
    {
      "cell_type": "code",
      "source": [
        "import numpy as np\n",
        "import pandas as pd\n",
        "X = pd.DataFrame(\n",
        "    np.array(['M', 'O-', 'medium',\n",
        "             'M', 'O-', 'high',\n",
        "              'F', 'O+', 'high',\n",
        "              'F', 'AB', 'low',\n",
        "              'F', 'B+', 'medium'])\n",
        "              .reshape((5,3)))\n",
        "X.columns = ['gender','blood_type','edu_level']\n",
        "df = X\n",
        "print(X)"
      ],
      "metadata": {
        "colab": {
          "base_uri": "https://localhost:8080/"
        },
        "id": "t6OwTYEl8VSf",
        "outputId": "79810bbc-b892-4baa-f5ea-13a5ac6a4f89"
      },
      "execution_count": null,
      "outputs": [
        {
          "output_type": "stream",
          "name": "stdout",
          "text": [
            "  gender blood_type edu_level\n",
            "0      M         O-    medium\n",
            "1      M         O-      high\n",
            "2      F         O+      high\n",
            "3      F         AB       low\n",
            "4      F         B+    medium\n"
          ]
        }
      ]
    },
    {
      "cell_type": "code",
      "source": [
        "from sklearn.preprocessing import OrdinalEncoder\n",
        "encoder = OrdinalEncoder(dtype='int')\n",
        "X.edu_level = encoder.fit_transform(X.edu_level.values.reshape(-1,1))\n",
        "print(X)"
      ],
      "metadata": {
        "colab": {
          "base_uri": "https://localhost:8080/"
        },
        "id": "9_gQ_scJ84IJ",
        "outputId": "fd008faa-815f-4f9b-ad50-aa2360a00d22"
      },
      "execution_count": null,
      "outputs": [
        {
          "output_type": "stream",
          "name": "stdout",
          "text": [
            "  gender blood_type  edu_level\n",
            "0      M         O-          2\n",
            "1      M         O-          0\n",
            "2      F         O+          0\n",
            "3      F         AB          1\n",
            "4      F         B+          2\n"
          ]
        }
      ]
    },
    {
      "cell_type": "code",
      "source": [
        "from sklearn.preprocessing import LabelEncoder \n",
        "le = LabelEncoder()\n",
        "df['edu_level'] = le.fit_transform(df['edu_level'])\n",
        "print(df)"
      ],
      "metadata": {
        "colab": {
          "base_uri": "https://localhost:8080/"
        },
        "id": "jrJT2b1T9Z9Z",
        "outputId": "77958fa9-5d6e-4071-9bbc-aa03962259bb"
      },
      "execution_count": null,
      "outputs": [
        {
          "output_type": "stream",
          "name": "stdout",
          "text": [
            "  gender blood_type  edu_level\n",
            "0      M         O-          2\n",
            "1      M         O-          0\n",
            "2      F         O+          0\n",
            "3      F         AB          1\n",
            "4      F         B+          2\n"
          ]
        }
      ]
    },
    {
      "cell_type": "code",
      "source": [
        "from sklearn.preprocessing import OneHotEncoder\n",
        "onehot = OneHotEncoder(dtype='int')\n",
        "n = pd.DataFrame(\n",
        "    onehot.fit_transform(X[['gender','blood_type']])\n",
        "    .toarray(),\n",
        "    columns=['F','M','AB','B+','O+','O-'])\n",
        "n['edu_level']=X.edu_level\n",
        "print(n)\n"
      ],
      "metadata": {
        "colab": {
          "base_uri": "https://localhost:8080/"
        },
        "id": "kYnWsrn4-MOX",
        "outputId": "7a721c2a-fad2-4a4b-f9ae-397329e08972"
      },
      "execution_count": null,
      "outputs": [
        {
          "output_type": "stream",
          "name": "stdout",
          "text": [
            "   F  M  AB  B+  O+  O-  edu_level\n",
            "0  0  1   0   0   0   1          2\n",
            "1  0  1   0   0   0   1          0\n",
            "2  1  0   0   0   1   0          0\n",
            "3  1  0   1   0   0   0          1\n",
            "4  1  0   0   1   0   0          2\n"
          ]
        }
      ]
    },
    {
      "cell_type": "markdown",
      "source": [
        "Numerical Features"
      ],
      "metadata": {
        "id": "FEgCrIMuCiOX"
      }
    },
    {
      "cell_type": "code",
      "source": [
        "import pandas as pd\n",
        "from sklearn.datasets import load_iris\n",
        "#for Discretization\n",
        "from sklearn.preprocessing import KBinsDiscretizer"
      ],
      "metadata": {
        "id": "4v1SWR5MCjnv"
      },
      "execution_count": null,
      "outputs": []
    },
    {
      "cell_type": "code",
      "source": [
        "disc = KBinsDiscretizer(n_bins = 3, encode = 'ordinal', strategy='uniform')\n",
        "d = load_iris()\n",
        "df = pd.DataFrame(data=d.data, columns = d.feature_names)"
      ],
      "metadata": {
        "id": "tm2KfYlvCzSc"
      },
      "execution_count": null,
      "outputs": []
    },
    {
      "cell_type": "code",
      "source": [
        "df.head()"
      ],
      "metadata": {
        "colab": {
          "base_uri": "https://localhost:8080/",
          "height": 206
        },
        "id": "nGYRtVBLDPk_",
        "outputId": "40690193-adf5-4fd3-e3f2-c1634a1987f6"
      },
      "execution_count": null,
      "outputs": [
        {
          "output_type": "execute_result",
          "data": {
            "text/plain": [
              "   sepal length (cm)  sepal width (cm)  petal length (cm)  petal width (cm)\n",
              "0                5.1               3.5                1.4               0.2\n",
              "1                4.9               3.0                1.4               0.2\n",
              "2                4.7               3.2                1.3               0.2\n",
              "3                4.6               3.1                1.5               0.2\n",
              "4                5.0               3.6                1.4               0.2"
            ],
            "text/html": [
              "\n",
              "  <div id=\"df-2acb0bb3-6565-445c-ac0f-de46c8f70e7b\">\n",
              "    <div class=\"colab-df-container\">\n",
              "      <div>\n",
              "<style scoped>\n",
              "    .dataframe tbody tr th:only-of-type {\n",
              "        vertical-align: middle;\n",
              "    }\n",
              "\n",
              "    .dataframe tbody tr th {\n",
              "        vertical-align: top;\n",
              "    }\n",
              "\n",
              "    .dataframe thead th {\n",
              "        text-align: right;\n",
              "    }\n",
              "</style>\n",
              "<table border=\"1\" class=\"dataframe\">\n",
              "  <thead>\n",
              "    <tr style=\"text-align: right;\">\n",
              "      <th></th>\n",
              "      <th>sepal length (cm)</th>\n",
              "      <th>sepal width (cm)</th>\n",
              "      <th>petal length (cm)</th>\n",
              "      <th>petal width (cm)</th>\n",
              "    </tr>\n",
              "  </thead>\n",
              "  <tbody>\n",
              "    <tr>\n",
              "      <th>0</th>\n",
              "      <td>5.1</td>\n",
              "      <td>3.5</td>\n",
              "      <td>1.4</td>\n",
              "      <td>0.2</td>\n",
              "    </tr>\n",
              "    <tr>\n",
              "      <th>1</th>\n",
              "      <td>4.9</td>\n",
              "      <td>3.0</td>\n",
              "      <td>1.4</td>\n",
              "      <td>0.2</td>\n",
              "    </tr>\n",
              "    <tr>\n",
              "      <th>2</th>\n",
              "      <td>4.7</td>\n",
              "      <td>3.2</td>\n",
              "      <td>1.3</td>\n",
              "      <td>0.2</td>\n",
              "    </tr>\n",
              "    <tr>\n",
              "      <th>3</th>\n",
              "      <td>4.6</td>\n",
              "      <td>3.1</td>\n",
              "      <td>1.5</td>\n",
              "      <td>0.2</td>\n",
              "    </tr>\n",
              "    <tr>\n",
              "      <th>4</th>\n",
              "      <td>5.0</td>\n",
              "      <td>3.6</td>\n",
              "      <td>1.4</td>\n",
              "      <td>0.2</td>\n",
              "    </tr>\n",
              "  </tbody>\n",
              "</table>\n",
              "</div>\n",
              "      <button class=\"colab-df-convert\" onclick=\"convertToInteractive('df-2acb0bb3-6565-445c-ac0f-de46c8f70e7b')\"\n",
              "              title=\"Convert this dataframe to an interactive table.\"\n",
              "              style=\"display:none;\">\n",
              "        \n",
              "  <svg xmlns=\"http://www.w3.org/2000/svg\" height=\"24px\"viewBox=\"0 0 24 24\"\n",
              "       width=\"24px\">\n",
              "    <path d=\"M0 0h24v24H0V0z\" fill=\"none\"/>\n",
              "    <path d=\"M18.56 5.44l.94 2.06.94-2.06 2.06-.94-2.06-.94-.94-2.06-.94 2.06-2.06.94zm-11 1L8.5 8.5l.94-2.06 2.06-.94-2.06-.94L8.5 2.5l-.94 2.06-2.06.94zm10 10l.94 2.06.94-2.06 2.06-.94-2.06-.94-.94-2.06-.94 2.06-2.06.94z\"/><path d=\"M17.41 7.96l-1.37-1.37c-.4-.4-.92-.59-1.43-.59-.52 0-1.04.2-1.43.59L10.3 9.45l-7.72 7.72c-.78.78-.78 2.05 0 2.83L4 21.41c.39.39.9.59 1.41.59.51 0 1.02-.2 1.41-.59l7.78-7.78 2.81-2.81c.8-.78.8-2.07 0-2.86zM5.41 20L4 18.59l7.72-7.72 1.47 1.35L5.41 20z\"/>\n",
              "  </svg>\n",
              "      </button>\n",
              "      \n",
              "  <style>\n",
              "    .colab-df-container {\n",
              "      display:flex;\n",
              "      flex-wrap:wrap;\n",
              "      gap: 12px;\n",
              "    }\n",
              "\n",
              "    .colab-df-convert {\n",
              "      background-color: #E8F0FE;\n",
              "      border: none;\n",
              "      border-radius: 50%;\n",
              "      cursor: pointer;\n",
              "      display: none;\n",
              "      fill: #1967D2;\n",
              "      height: 32px;\n",
              "      padding: 0 0 0 0;\n",
              "      width: 32px;\n",
              "    }\n",
              "\n",
              "    .colab-df-convert:hover {\n",
              "      background-color: #E2EBFA;\n",
              "      box-shadow: 0px 1px 2px rgba(60, 64, 67, 0.3), 0px 1px 3px 1px rgba(60, 64, 67, 0.15);\n",
              "      fill: #174EA6;\n",
              "    }\n",
              "\n",
              "    [theme=dark] .colab-df-convert {\n",
              "      background-color: #3B4455;\n",
              "      fill: #D2E3FC;\n",
              "    }\n",
              "\n",
              "    [theme=dark] .colab-df-convert:hover {\n",
              "      background-color: #434B5C;\n",
              "      box-shadow: 0px 1px 3px 1px rgba(0, 0, 0, 0.15);\n",
              "      filter: drop-shadow(0px 1px 2px rgba(0, 0, 0, 0.3));\n",
              "      fill: #FFFFFF;\n",
              "    }\n",
              "  </style>\n",
              "\n",
              "      <script>\n",
              "        const buttonEl =\n",
              "          document.querySelector('#df-2acb0bb3-6565-445c-ac0f-de46c8f70e7b button.colab-df-convert');\n",
              "        buttonEl.style.display =\n",
              "          google.colab.kernel.accessAllowed ? 'block' : 'none';\n",
              "\n",
              "        async function convertToInteractive(key) {\n",
              "          const element = document.querySelector('#df-2acb0bb3-6565-445c-ac0f-de46c8f70e7b');\n",
              "          const dataTable =\n",
              "            await google.colab.kernel.invokeFunction('convertToInteractive',\n",
              "                                                     [key], {});\n",
              "          if (!dataTable) return;\n",
              "\n",
              "          const docLinkHtml = 'Like what you see? Visit the ' +\n",
              "            '<a target=\"_blank\" href=https://colab.research.google.com/notebooks/data_table.ipynb>data table notebook</a>'\n",
              "            + ' to learn more about interactive tables.';\n",
              "          element.innerHTML = '';\n",
              "          dataTable['output_type'] = 'display_data';\n",
              "          await google.colab.output.renderOutput(dataTable, element);\n",
              "          const docLink = document.createElement('div');\n",
              "          docLink.innerHTML = docLinkHtml;\n",
              "          element.appendChild(docLink);\n",
              "        }\n",
              "      </script>\n",
              "    </div>\n",
              "  </div>\n",
              "  "
            ]
          },
          "metadata": {},
          "execution_count": 3
        }
      ]
    },
    {
      "cell_type": "code",
      "source": [
        "disc.fit_transform(df)"
      ],
      "metadata": {
        "colab": {
          "base_uri": "https://localhost:8080/"
        },
        "id": "C0wBlsbFDSBG",
        "outputId": "b7d4d9a4-6070-49fe-950b-525905295e0d"
      },
      "execution_count": null,
      "outputs": [
        {
          "output_type": "execute_result",
          "data": {
            "text/plain": [
              "array([[0., 1., 0., 0.],\n",
              "       [0., 1., 0., 0.],\n",
              "       [0., 1., 0., 0.],\n",
              "       [0., 1., 0., 0.],\n",
              "       [0., 2., 0., 0.],\n",
              "       [0., 2., 0., 0.],\n",
              "       [0., 1., 0., 0.],\n",
              "       [0., 1., 0., 0.],\n",
              "       [0., 1., 0., 0.],\n",
              "       [0., 1., 0., 0.],\n",
              "       [0., 2., 0., 0.],\n",
              "       [0., 1., 0., 0.],\n",
              "       [0., 1., 0., 0.],\n",
              "       [0., 1., 0., 0.],\n",
              "       [1., 2., 0., 0.],\n",
              "       [1., 2., 0., 0.],\n",
              "       [0., 2., 0., 0.],\n",
              "       [0., 1., 0., 0.],\n",
              "       [1., 2., 0., 0.],\n",
              "       [0., 2., 0., 0.],\n",
              "       [0., 1., 0., 0.],\n",
              "       [0., 2., 0., 0.],\n",
              "       [0., 2., 0., 0.],\n",
              "       [0., 1., 0., 0.],\n",
              "       [0., 1., 0., 0.],\n",
              "       [0., 1., 0., 0.],\n",
              "       [0., 1., 0., 0.],\n",
              "       [0., 1., 0., 0.],\n",
              "       [0., 1., 0., 0.],\n",
              "       [0., 1., 0., 0.],\n",
              "       [0., 1., 0., 0.],\n",
              "       [0., 1., 0., 0.],\n",
              "       [0., 2., 0., 0.],\n",
              "       [1., 2., 0., 0.],\n",
              "       [0., 1., 0., 0.],\n",
              "       [0., 1., 0., 0.],\n",
              "       [1., 1., 0., 0.],\n",
              "       [0., 2., 0., 0.],\n",
              "       [0., 1., 0., 0.],\n",
              "       [0., 1., 0., 0.],\n",
              "       [0., 1., 0., 0.],\n",
              "       [0., 0., 0., 0.],\n",
              "       [0., 1., 0., 0.],\n",
              "       [0., 1., 0., 0.],\n",
              "       [0., 2., 0., 0.],\n",
              "       [0., 1., 0., 0.],\n",
              "       [0., 2., 0., 0.],\n",
              "       [0., 1., 0., 0.],\n",
              "       [0., 2., 0., 0.],\n",
              "       [0., 1., 0., 0.],\n",
              "       [2., 1., 1., 1.],\n",
              "       [1., 1., 1., 1.],\n",
              "       [2., 1., 1., 1.],\n",
              "       [1., 0., 1., 1.],\n",
              "       [1., 1., 1., 1.],\n",
              "       [1., 1., 1., 1.],\n",
              "       [1., 1., 1., 1.],\n",
              "       [0., 0., 1., 1.],\n",
              "       [1., 1., 1., 1.],\n",
              "       [0., 0., 1., 1.],\n",
              "       [0., 0., 1., 1.],\n",
              "       [1., 1., 1., 1.],\n",
              "       [1., 0., 1., 1.],\n",
              "       [1., 1., 1., 1.],\n",
              "       [1., 1., 1., 1.],\n",
              "       [2., 1., 1., 1.],\n",
              "       [1., 1., 1., 1.],\n",
              "       [1., 0., 1., 1.],\n",
              "       [1., 0., 1., 1.],\n",
              "       [1., 0., 1., 1.],\n",
              "       [1., 1., 1., 2.],\n",
              "       [1., 1., 1., 1.],\n",
              "       [1., 0., 1., 1.],\n",
              "       [1., 1., 1., 1.],\n",
              "       [1., 1., 1., 1.],\n",
              "       [1., 1., 1., 1.],\n",
              "       [2., 1., 1., 1.],\n",
              "       [2., 1., 2., 2.],\n",
              "       [1., 1., 1., 1.],\n",
              "       [1., 0., 1., 1.],\n",
              "       [1., 0., 1., 1.],\n",
              "       [1., 0., 1., 1.],\n",
              "       [1., 0., 1., 1.],\n",
              "       [1., 0., 2., 1.],\n",
              "       [0., 1., 1., 1.],\n",
              "       [1., 1., 1., 1.],\n",
              "       [2., 1., 1., 1.],\n",
              "       [1., 0., 1., 1.],\n",
              "       [1., 1., 1., 1.],\n",
              "       [1., 0., 1., 1.],\n",
              "       [1., 0., 1., 1.],\n",
              "       [1., 1., 1., 1.],\n",
              "       [1., 0., 1., 1.],\n",
              "       [0., 0., 1., 1.],\n",
              "       [1., 0., 1., 1.],\n",
              "       [1., 1., 1., 1.],\n",
              "       [1., 1., 1., 1.],\n",
              "       [1., 1., 1., 1.],\n",
              "       [0., 0., 1., 1.],\n",
              "       [1., 1., 1., 1.],\n",
              "       [1., 1., 2., 2.],\n",
              "       [1., 0., 2., 2.],\n",
              "       [2., 1., 2., 2.],\n",
              "       [1., 1., 2., 2.],\n",
              "       [1., 1., 2., 2.],\n",
              "       [2., 1., 2., 2.],\n",
              "       [0., 0., 1., 2.],\n",
              "       [2., 1., 2., 2.],\n",
              "       [2., 0., 2., 2.],\n",
              "       [2., 2., 2., 2.],\n",
              "       [1., 1., 2., 2.],\n",
              "       [1., 0., 2., 2.],\n",
              "       [2., 1., 2., 2.],\n",
              "       [1., 0., 2., 2.],\n",
              "       [1., 1., 2., 2.],\n",
              "       [1., 1., 2., 2.],\n",
              "       [1., 1., 2., 2.],\n",
              "       [2., 2., 2., 2.],\n",
              "       [2., 0., 2., 2.],\n",
              "       [1., 0., 2., 1.],\n",
              "       [2., 1., 2., 2.],\n",
              "       [1., 1., 1., 2.],\n",
              "       [2., 1., 2., 2.],\n",
              "       [1., 0., 1., 2.],\n",
              "       [2., 1., 2., 2.],\n",
              "       [2., 1., 2., 2.],\n",
              "       [1., 1., 1., 2.],\n",
              "       [1., 1., 1., 2.],\n",
              "       [1., 1., 2., 2.],\n",
              "       [2., 1., 2., 1.],\n",
              "       [2., 1., 2., 2.],\n",
              "       [2., 2., 2., 2.],\n",
              "       [1., 1., 2., 2.],\n",
              "       [1., 1., 2., 1.],\n",
              "       [1., 0., 2., 1.],\n",
              "       [2., 1., 2., 2.],\n",
              "       [1., 1., 2., 2.],\n",
              "       [1., 1., 2., 2.],\n",
              "       [1., 1., 1., 2.],\n",
              "       [2., 1., 2., 2.],\n",
              "       [2., 1., 2., 2.],\n",
              "       [2., 1., 2., 2.],\n",
              "       [1., 0., 2., 2.],\n",
              "       [2., 1., 2., 2.],\n",
              "       [2., 1., 2., 2.],\n",
              "       [2., 1., 2., 2.],\n",
              "       [1., 0., 2., 2.],\n",
              "       [1., 1., 2., 2.],\n",
              "       [1., 1., 2., 2.],\n",
              "       [1., 1., 2., 2.]])"
            ]
          },
          "metadata": {},
          "execution_count": 4
        }
      ]
    },
    {
      "cell_type": "code",
      "source": [
        "bins = disc.bin_edges_\n",
        "print(bins)"
      ],
      "metadata": {
        "colab": {
          "base_uri": "https://localhost:8080/"
        },
        "id": "CercjsSzDepp",
        "outputId": "cf49ec00-1385-495e-d7c7-1b7836eb0469"
      },
      "execution_count": null,
      "outputs": [
        {
          "output_type": "stream",
          "name": "stdout",
          "text": [
            "[array([4.3, 5.5, 6.7, 7.9]) array([2. , 2.8, 3.6, 4.4])\n",
            " array([1.        , 2.96666667, 4.93333333, 6.9       ])\n",
            " array([0.1, 0.9, 1.7, 2.5])]\n"
          ]
        }
      ]
    },
    {
      "cell_type": "code",
      "source": [
        "#Binarisation\n",
        "from sklearn.preprocessing import Binarizer\n",
        "print(df.head())\n",
        "b = Binarizer(threshold = 5)"
      ],
      "metadata": {
        "colab": {
          "base_uri": "https://localhost:8080/"
        },
        "id": "hJIt0msKD627",
        "outputId": "9d51d331-68e5-42fd-ceec-7780ede2750c"
      },
      "execution_count": null,
      "outputs": [
        {
          "output_type": "stream",
          "name": "stdout",
          "text": [
            "   sepal length (cm)  sepal width (cm)  petal length (cm)  petal width (cm)\n",
            "0                5.1               3.5                1.4               0.2\n",
            "1                4.9               3.0                1.4               0.2\n",
            "2                4.7               3.2                1.3               0.2\n",
            "3                4.6               3.1                1.5               0.2\n",
            "4                5.0               3.6                1.4               0.2\n"
          ]
        }
      ]
    },
    {
      "cell_type": "code",
      "source": [
        "b.fit_transform(df['sepal length (cm)'].values.reshape(-1,1))"
      ],
      "metadata": {
        "colab": {
          "base_uri": "https://localhost:8080/"
        },
        "id": "1WZA6AKwELa-",
        "outputId": "f902a322-77ac-428a-a7b5-e18d3567d4bc"
      },
      "execution_count": null,
      "outputs": [
        {
          "output_type": "execute_result",
          "data": {
            "text/plain": [
              "array([[1.],\n",
              "       [0.],\n",
              "       [0.],\n",
              "       [0.],\n",
              "       [0.],\n",
              "       [1.],\n",
              "       [0.],\n",
              "       [0.],\n",
              "       [0.],\n",
              "       [0.],\n",
              "       [1.],\n",
              "       [0.],\n",
              "       [0.],\n",
              "       [0.],\n",
              "       [1.],\n",
              "       [1.],\n",
              "       [1.],\n",
              "       [1.],\n",
              "       [1.],\n",
              "       [1.],\n",
              "       [1.],\n",
              "       [1.],\n",
              "       [0.],\n",
              "       [1.],\n",
              "       [0.],\n",
              "       [0.],\n",
              "       [0.],\n",
              "       [1.],\n",
              "       [1.],\n",
              "       [0.],\n",
              "       [0.],\n",
              "       [1.],\n",
              "       [1.],\n",
              "       [1.],\n",
              "       [0.],\n",
              "       [0.],\n",
              "       [1.],\n",
              "       [0.],\n",
              "       [0.],\n",
              "       [1.],\n",
              "       [0.],\n",
              "       [0.],\n",
              "       [0.],\n",
              "       [0.],\n",
              "       [1.],\n",
              "       [0.],\n",
              "       [1.],\n",
              "       [0.],\n",
              "       [1.],\n",
              "       [0.],\n",
              "       [1.],\n",
              "       [1.],\n",
              "       [1.],\n",
              "       [1.],\n",
              "       [1.],\n",
              "       [1.],\n",
              "       [1.],\n",
              "       [0.],\n",
              "       [1.],\n",
              "       [1.],\n",
              "       [0.],\n",
              "       [1.],\n",
              "       [1.],\n",
              "       [1.],\n",
              "       [1.],\n",
              "       [1.],\n",
              "       [1.],\n",
              "       [1.],\n",
              "       [1.],\n",
              "       [1.],\n",
              "       [1.],\n",
              "       [1.],\n",
              "       [1.],\n",
              "       [1.],\n",
              "       [1.],\n",
              "       [1.],\n",
              "       [1.],\n",
              "       [1.],\n",
              "       [1.],\n",
              "       [1.],\n",
              "       [1.],\n",
              "       [1.],\n",
              "       [1.],\n",
              "       [1.],\n",
              "       [1.],\n",
              "       [1.],\n",
              "       [1.],\n",
              "       [1.],\n",
              "       [1.],\n",
              "       [1.],\n",
              "       [1.],\n",
              "       [1.],\n",
              "       [1.],\n",
              "       [0.],\n",
              "       [1.],\n",
              "       [1.],\n",
              "       [1.],\n",
              "       [1.],\n",
              "       [1.],\n",
              "       [1.],\n",
              "       [1.],\n",
              "       [1.],\n",
              "       [1.],\n",
              "       [1.],\n",
              "       [1.],\n",
              "       [1.],\n",
              "       [0.],\n",
              "       [1.],\n",
              "       [1.],\n",
              "       [1.],\n",
              "       [1.],\n",
              "       [1.],\n",
              "       [1.],\n",
              "       [1.],\n",
              "       [1.],\n",
              "       [1.],\n",
              "       [1.],\n",
              "       [1.],\n",
              "       [1.],\n",
              "       [1.],\n",
              "       [1.],\n",
              "       [1.],\n",
              "       [1.],\n",
              "       [1.],\n",
              "       [1.],\n",
              "       [1.],\n",
              "       [1.],\n",
              "       [1.],\n",
              "       [1.],\n",
              "       [1.],\n",
              "       [1.],\n",
              "       [1.],\n",
              "       [1.],\n",
              "       [1.],\n",
              "       [1.],\n",
              "       [1.],\n",
              "       [1.],\n",
              "       [1.],\n",
              "       [1.],\n",
              "       [1.],\n",
              "       [1.],\n",
              "       [1.],\n",
              "       [1.],\n",
              "       [1.],\n",
              "       [1.],\n",
              "       [1.],\n",
              "       [1.],\n",
              "       [1.],\n",
              "       [1.],\n",
              "       [1.]])"
            ]
          },
          "metadata": {},
          "execution_count": 10
        }
      ]
    },
    {
      "cell_type": "markdown",
      "source": [
        "Scalers"
      ],
      "metadata": {
        "id": "9CkujKWGXGin"
      }
    },
    {
      "cell_type": "code",
      "source": [
        "import pandas as pd\n",
        "from sklearn.datasets import load_iris\n",
        "d = load_iris()\n",
        "df = pd.DataFrame(data = d.data, columns = d.feature_names)\n",
        "print(df.head())"
      ],
      "metadata": {
        "colab": {
          "base_uri": "https://localhost:8080/",
          "height": 206
        },
        "id": "EZvm2-tvXILm",
        "outputId": "5fe27b1d-6811-4d8f-cb72-472a06bd3ae4"
      },
      "execution_count": null,
      "outputs": [
        {
          "output_type": "execute_result",
          "data": {
            "text/plain": [
              "   sepal length (cm)  sepal width (cm)  petal length (cm)  petal width (cm)\n",
              "0                5.1               3.5                1.4               0.2\n",
              "1                4.9               3.0                1.4               0.2\n",
              "2                4.7               3.2                1.3               0.2\n",
              "3                4.6               3.1                1.5               0.2\n",
              "4                5.0               3.6                1.4               0.2"
            ],
            "text/html": [
              "\n",
              "  <div id=\"df-9bc99b50-2819-42f8-9e18-d3237d2380da\">\n",
              "    <div class=\"colab-df-container\">\n",
              "      <div>\n",
              "<style scoped>\n",
              "    .dataframe tbody tr th:only-of-type {\n",
              "        vertical-align: middle;\n",
              "    }\n",
              "\n",
              "    .dataframe tbody tr th {\n",
              "        vertical-align: top;\n",
              "    }\n",
              "\n",
              "    .dataframe thead th {\n",
              "        text-align: right;\n",
              "    }\n",
              "</style>\n",
              "<table border=\"1\" class=\"dataframe\">\n",
              "  <thead>\n",
              "    <tr style=\"text-align: right;\">\n",
              "      <th></th>\n",
              "      <th>sepal length (cm)</th>\n",
              "      <th>sepal width (cm)</th>\n",
              "      <th>petal length (cm)</th>\n",
              "      <th>petal width (cm)</th>\n",
              "    </tr>\n",
              "  </thead>\n",
              "  <tbody>\n",
              "    <tr>\n",
              "      <th>0</th>\n",
              "      <td>5.1</td>\n",
              "      <td>3.5</td>\n",
              "      <td>1.4</td>\n",
              "      <td>0.2</td>\n",
              "    </tr>\n",
              "    <tr>\n",
              "      <th>1</th>\n",
              "      <td>4.9</td>\n",
              "      <td>3.0</td>\n",
              "      <td>1.4</td>\n",
              "      <td>0.2</td>\n",
              "    </tr>\n",
              "    <tr>\n",
              "      <th>2</th>\n",
              "      <td>4.7</td>\n",
              "      <td>3.2</td>\n",
              "      <td>1.3</td>\n",
              "      <td>0.2</td>\n",
              "    </tr>\n",
              "    <tr>\n",
              "      <th>3</th>\n",
              "      <td>4.6</td>\n",
              "      <td>3.1</td>\n",
              "      <td>1.5</td>\n",
              "      <td>0.2</td>\n",
              "    </tr>\n",
              "    <tr>\n",
              "      <th>4</th>\n",
              "      <td>5.0</td>\n",
              "      <td>3.6</td>\n",
              "      <td>1.4</td>\n",
              "      <td>0.2</td>\n",
              "    </tr>\n",
              "  </tbody>\n",
              "</table>\n",
              "</div>\n",
              "      <button class=\"colab-df-convert\" onclick=\"convertToInteractive('df-9bc99b50-2819-42f8-9e18-d3237d2380da')\"\n",
              "              title=\"Convert this dataframe to an interactive table.\"\n",
              "              style=\"display:none;\">\n",
              "        \n",
              "  <svg xmlns=\"http://www.w3.org/2000/svg\" height=\"24px\"viewBox=\"0 0 24 24\"\n",
              "       width=\"24px\">\n",
              "    <path d=\"M0 0h24v24H0V0z\" fill=\"none\"/>\n",
              "    <path d=\"M18.56 5.44l.94 2.06.94-2.06 2.06-.94-2.06-.94-.94-2.06-.94 2.06-2.06.94zm-11 1L8.5 8.5l.94-2.06 2.06-.94-2.06-.94L8.5 2.5l-.94 2.06-2.06.94zm10 10l.94 2.06.94-2.06 2.06-.94-2.06-.94-.94-2.06-.94 2.06-2.06.94z\"/><path d=\"M17.41 7.96l-1.37-1.37c-.4-.4-.92-.59-1.43-.59-.52 0-1.04.2-1.43.59L10.3 9.45l-7.72 7.72c-.78.78-.78 2.05 0 2.83L4 21.41c.39.39.9.59 1.41.59.51 0 1.02-.2 1.41-.59l7.78-7.78 2.81-2.81c.8-.78.8-2.07 0-2.86zM5.41 20L4 18.59l7.72-7.72 1.47 1.35L5.41 20z\"/>\n",
              "  </svg>\n",
              "      </button>\n",
              "      \n",
              "  <style>\n",
              "    .colab-df-container {\n",
              "      display:flex;\n",
              "      flex-wrap:wrap;\n",
              "      gap: 12px;\n",
              "    }\n",
              "\n",
              "    .colab-df-convert {\n",
              "      background-color: #E8F0FE;\n",
              "      border: none;\n",
              "      border-radius: 50%;\n",
              "      cursor: pointer;\n",
              "      display: none;\n",
              "      fill: #1967D2;\n",
              "      height: 32px;\n",
              "      padding: 0 0 0 0;\n",
              "      width: 32px;\n",
              "    }\n",
              "\n",
              "    .colab-df-convert:hover {\n",
              "      background-color: #E2EBFA;\n",
              "      box-shadow: 0px 1px 2px rgba(60, 64, 67, 0.3), 0px 1px 3px 1px rgba(60, 64, 67, 0.15);\n",
              "      fill: #174EA6;\n",
              "    }\n",
              "\n",
              "    [theme=dark] .colab-df-convert {\n",
              "      background-color: #3B4455;\n",
              "      fill: #D2E3FC;\n",
              "    }\n",
              "\n",
              "    [theme=dark] .colab-df-convert:hover {\n",
              "      background-color: #434B5C;\n",
              "      box-shadow: 0px 1px 3px 1px rgba(0, 0, 0, 0.15);\n",
              "      filter: drop-shadow(0px 1px 2px rgba(0, 0, 0, 0.3));\n",
              "      fill: #FFFFFF;\n",
              "    }\n",
              "  </style>\n",
              "\n",
              "      <script>\n",
              "        const buttonEl =\n",
              "          document.querySelector('#df-9bc99b50-2819-42f8-9e18-d3237d2380da button.colab-df-convert');\n",
              "        buttonEl.style.display =\n",
              "          google.colab.kernel.accessAllowed ? 'block' : 'none';\n",
              "\n",
              "        async function convertToInteractive(key) {\n",
              "          const element = document.querySelector('#df-9bc99b50-2819-42f8-9e18-d3237d2380da');\n",
              "          const dataTable =\n",
              "            await google.colab.kernel.invokeFunction('convertToInteractive',\n",
              "                                                     [key], {});\n",
              "          if (!dataTable) return;\n",
              "\n",
              "          const docLinkHtml = 'Like what you see? Visit the ' +\n",
              "            '<a target=\"_blank\" href=https://colab.research.google.com/notebooks/data_table.ipynb>data table notebook</a>'\n",
              "            + ' to learn more about interactive tables.';\n",
              "          element.innerHTML = '';\n",
              "          dataTable['output_type'] = 'display_data';\n",
              "          await google.colab.output.renderOutput(dataTable, element);\n",
              "          const docLink = document.createElement('div');\n",
              "          docLink.innerHTML = docLinkHtml;\n",
              "          element.appendChild(docLink);\n",
              "        }\n",
              "      </script>\n",
              "    </div>\n",
              "  </div>\n",
              "  "
            ]
          },
          "metadata": {},
          "execution_count": 1
        }
      ]
    },
    {
      "cell_type": "code",
      "source": [
        "#standard scaler\n",
        "from sklearn.preprocessing import StandardScaler\n",
        "scaler = StandardScaler()\n",
        "print(scaler.fit_transform(df['petal length (cm)'].values.reshape(-1,1)))"
      ],
      "metadata": {
        "colab": {
          "base_uri": "https://localhost:8080/"
        },
        "id": "fj5qOLbMXdQs",
        "outputId": "81f3964e-e984-4c3f-e35f-573c4bf4f9cf"
      },
      "execution_count": null,
      "outputs": [
        {
          "output_type": "stream",
          "name": "stdout",
          "text": [
            "[[-1.34022653]\n",
            " [-1.34022653]\n",
            " [-1.39706395]\n",
            " [-1.2833891 ]\n",
            " [-1.34022653]\n",
            " [-1.16971425]\n",
            " [-1.34022653]\n",
            " [-1.2833891 ]\n",
            " [-1.34022653]\n",
            " [-1.2833891 ]\n",
            " [-1.2833891 ]\n",
            " [-1.22655167]\n",
            " [-1.34022653]\n",
            " [-1.51073881]\n",
            " [-1.45390138]\n",
            " [-1.2833891 ]\n",
            " [-1.39706395]\n",
            " [-1.34022653]\n",
            " [-1.16971425]\n",
            " [-1.2833891 ]\n",
            " [-1.16971425]\n",
            " [-1.2833891 ]\n",
            " [-1.56757623]\n",
            " [-1.16971425]\n",
            " [-1.05603939]\n",
            " [-1.22655167]\n",
            " [-1.22655167]\n",
            " [-1.2833891 ]\n",
            " [-1.34022653]\n",
            " [-1.22655167]\n",
            " [-1.22655167]\n",
            " [-1.2833891 ]\n",
            " [-1.2833891 ]\n",
            " [-1.34022653]\n",
            " [-1.2833891 ]\n",
            " [-1.45390138]\n",
            " [-1.39706395]\n",
            " [-1.34022653]\n",
            " [-1.39706395]\n",
            " [-1.2833891 ]\n",
            " [-1.39706395]\n",
            " [-1.39706395]\n",
            " [-1.39706395]\n",
            " [-1.22655167]\n",
            " [-1.05603939]\n",
            " [-1.34022653]\n",
            " [-1.22655167]\n",
            " [-1.34022653]\n",
            " [-1.2833891 ]\n",
            " [-1.34022653]\n",
            " [ 0.53540856]\n",
            " [ 0.42173371]\n",
            " [ 0.64908342]\n",
            " [ 0.13754657]\n",
            " [ 0.47857113]\n",
            " [ 0.42173371]\n",
            " [ 0.53540856]\n",
            " [-0.26031542]\n",
            " [ 0.47857113]\n",
            " [ 0.08070915]\n",
            " [-0.14664056]\n",
            " [ 0.25122143]\n",
            " [ 0.13754657]\n",
            " [ 0.53540856]\n",
            " [-0.08980313]\n",
            " [ 0.36489628]\n",
            " [ 0.42173371]\n",
            " [ 0.194384  ]\n",
            " [ 0.42173371]\n",
            " [ 0.08070915]\n",
            " [ 0.59224599]\n",
            " [ 0.13754657]\n",
            " [ 0.64908342]\n",
            " [ 0.53540856]\n",
            " [ 0.30805885]\n",
            " [ 0.36489628]\n",
            " [ 0.59224599]\n",
            " [ 0.70592084]\n",
            " [ 0.42173371]\n",
            " [-0.14664056]\n",
            " [ 0.02387172]\n",
            " [-0.03296571]\n",
            " [ 0.08070915]\n",
            " [ 0.76275827]\n",
            " [ 0.42173371]\n",
            " [ 0.42173371]\n",
            " [ 0.53540856]\n",
            " [ 0.36489628]\n",
            " [ 0.194384  ]\n",
            " [ 0.13754657]\n",
            " [ 0.36489628]\n",
            " [ 0.47857113]\n",
            " [ 0.13754657]\n",
            " [-0.26031542]\n",
            " [ 0.25122143]\n",
            " [ 0.25122143]\n",
            " [ 0.25122143]\n",
            " [ 0.30805885]\n",
            " [-0.4308277 ]\n",
            " [ 0.194384  ]\n",
            " [ 1.27429511]\n",
            " [ 0.76275827]\n",
            " [ 1.21745768]\n",
            " [ 1.0469454 ]\n",
            " [ 1.16062026]\n",
            " [ 1.61531967]\n",
            " [ 0.42173371]\n",
            " [ 1.44480739]\n",
            " [ 1.16062026]\n",
            " [ 1.33113254]\n",
            " [ 0.76275827]\n",
            " [ 0.87643312]\n",
            " [ 0.99010798]\n",
            " [ 0.70592084]\n",
            " [ 0.76275827]\n",
            " [ 0.87643312]\n",
            " [ 0.99010798]\n",
            " [ 1.6721571 ]\n",
            " [ 1.78583195]\n",
            " [ 0.70592084]\n",
            " [ 1.10378283]\n",
            " [ 0.64908342]\n",
            " [ 1.6721571 ]\n",
            " [ 0.64908342]\n",
            " [ 1.10378283]\n",
            " [ 1.27429511]\n",
            " [ 0.59224599]\n",
            " [ 0.64908342]\n",
            " [ 1.0469454 ]\n",
            " [ 1.16062026]\n",
            " [ 1.33113254]\n",
            " [ 1.50164482]\n",
            " [ 1.0469454 ]\n",
            " [ 0.76275827]\n",
            " [ 1.0469454 ]\n",
            " [ 1.33113254]\n",
            " [ 1.0469454 ]\n",
            " [ 0.99010798]\n",
            " [ 0.59224599]\n",
            " [ 0.93327055]\n",
            " [ 1.0469454 ]\n",
            " [ 0.76275827]\n",
            " [ 0.76275827]\n",
            " [ 1.21745768]\n",
            " [ 1.10378283]\n",
            " [ 0.8195957 ]\n",
            " [ 0.70592084]\n",
            " [ 0.8195957 ]\n",
            " [ 0.93327055]\n",
            " [ 0.76275827]]\n"
          ]
        }
      ]
    },
    {
      "cell_type": "code",
      "source": [
        "#MinMaxScaler\n",
        "from sklearn.preprocessing import MinMaxScaler\n",
        "scaler = MinMaxScaler(feature_range=(0,1))\n",
        "print(scaler.fit_transform(df['sepal width (cm)'].values.reshape(-1,1)))"
      ],
      "metadata": {
        "colab": {
          "base_uri": "https://localhost:8080/"
        },
        "id": "Ttr2CP9zYCsp",
        "outputId": "481c90b3-8f2f-437b-aa62-3a464fc8714e"
      },
      "execution_count": null,
      "outputs": [
        {
          "output_type": "stream",
          "name": "stdout",
          "text": [
            "[[0.625     ]\n",
            " [0.41666667]\n",
            " [0.5       ]\n",
            " [0.45833333]\n",
            " [0.66666667]\n",
            " [0.79166667]\n",
            " [0.58333333]\n",
            " [0.58333333]\n",
            " [0.375     ]\n",
            " [0.45833333]\n",
            " [0.70833333]\n",
            " [0.58333333]\n",
            " [0.41666667]\n",
            " [0.41666667]\n",
            " [0.83333333]\n",
            " [1.        ]\n",
            " [0.79166667]\n",
            " [0.625     ]\n",
            " [0.75      ]\n",
            " [0.75      ]\n",
            " [0.58333333]\n",
            " [0.70833333]\n",
            " [0.66666667]\n",
            " [0.54166667]\n",
            " [0.58333333]\n",
            " [0.41666667]\n",
            " [0.58333333]\n",
            " [0.625     ]\n",
            " [0.58333333]\n",
            " [0.5       ]\n",
            " [0.45833333]\n",
            " [0.58333333]\n",
            " [0.875     ]\n",
            " [0.91666667]\n",
            " [0.45833333]\n",
            " [0.5       ]\n",
            " [0.625     ]\n",
            " [0.66666667]\n",
            " [0.41666667]\n",
            " [0.58333333]\n",
            " [0.625     ]\n",
            " [0.125     ]\n",
            " [0.5       ]\n",
            " [0.625     ]\n",
            " [0.75      ]\n",
            " [0.41666667]\n",
            " [0.75      ]\n",
            " [0.5       ]\n",
            " [0.70833333]\n",
            " [0.54166667]\n",
            " [0.5       ]\n",
            " [0.5       ]\n",
            " [0.45833333]\n",
            " [0.125     ]\n",
            " [0.33333333]\n",
            " [0.33333333]\n",
            " [0.54166667]\n",
            " [0.16666667]\n",
            " [0.375     ]\n",
            " [0.29166667]\n",
            " [0.        ]\n",
            " [0.41666667]\n",
            " [0.08333333]\n",
            " [0.375     ]\n",
            " [0.375     ]\n",
            " [0.45833333]\n",
            " [0.41666667]\n",
            " [0.29166667]\n",
            " [0.08333333]\n",
            " [0.20833333]\n",
            " [0.5       ]\n",
            " [0.33333333]\n",
            " [0.20833333]\n",
            " [0.33333333]\n",
            " [0.375     ]\n",
            " [0.41666667]\n",
            " [0.33333333]\n",
            " [0.41666667]\n",
            " [0.375     ]\n",
            " [0.25      ]\n",
            " [0.16666667]\n",
            " [0.16666667]\n",
            " [0.29166667]\n",
            " [0.29166667]\n",
            " [0.41666667]\n",
            " [0.58333333]\n",
            " [0.45833333]\n",
            " [0.125     ]\n",
            " [0.41666667]\n",
            " [0.20833333]\n",
            " [0.25      ]\n",
            " [0.41666667]\n",
            " [0.25      ]\n",
            " [0.125     ]\n",
            " [0.29166667]\n",
            " [0.41666667]\n",
            " [0.375     ]\n",
            " [0.375     ]\n",
            " [0.20833333]\n",
            " [0.33333333]\n",
            " [0.54166667]\n",
            " [0.29166667]\n",
            " [0.41666667]\n",
            " [0.375     ]\n",
            " [0.41666667]\n",
            " [0.41666667]\n",
            " [0.20833333]\n",
            " [0.375     ]\n",
            " [0.20833333]\n",
            " [0.66666667]\n",
            " [0.5       ]\n",
            " [0.29166667]\n",
            " [0.41666667]\n",
            " [0.20833333]\n",
            " [0.33333333]\n",
            " [0.5       ]\n",
            " [0.41666667]\n",
            " [0.75      ]\n",
            " [0.25      ]\n",
            " [0.08333333]\n",
            " [0.5       ]\n",
            " [0.33333333]\n",
            " [0.33333333]\n",
            " [0.29166667]\n",
            " [0.54166667]\n",
            " [0.5       ]\n",
            " [0.33333333]\n",
            " [0.41666667]\n",
            " [0.33333333]\n",
            " [0.41666667]\n",
            " [0.33333333]\n",
            " [0.75      ]\n",
            " [0.33333333]\n",
            " [0.33333333]\n",
            " [0.25      ]\n",
            " [0.41666667]\n",
            " [0.58333333]\n",
            " [0.45833333]\n",
            " [0.41666667]\n",
            " [0.45833333]\n",
            " [0.45833333]\n",
            " [0.45833333]\n",
            " [0.29166667]\n",
            " [0.5       ]\n",
            " [0.54166667]\n",
            " [0.41666667]\n",
            " [0.20833333]\n",
            " [0.41666667]\n",
            " [0.58333333]\n",
            " [0.41666667]]\n"
          ]
        }
      ]
    },
    {
      "cell_type": "code",
      "source": [
        "from sklearn.preprocessing import MaxAbsScaler\n",
        "scaler = MaxAbsScaler()\n",
        "print(scaler.fit_transform(df['sepal length (cm)'].values.reshape(-1,1)))"
      ],
      "metadata": {
        "colab": {
          "base_uri": "https://localhost:8080/"
        },
        "id": "cmZie1JWYpQu",
        "outputId": "782667b0-fbff-48dc-d804-ac8ad93a52c3"
      },
      "execution_count": null,
      "outputs": [
        {
          "output_type": "stream",
          "name": "stdout",
          "text": [
            "[[0.64556962]\n",
            " [0.62025316]\n",
            " [0.59493671]\n",
            " [0.58227848]\n",
            " [0.63291139]\n",
            " [0.6835443 ]\n",
            " [0.58227848]\n",
            " [0.63291139]\n",
            " [0.55696203]\n",
            " [0.62025316]\n",
            " [0.6835443 ]\n",
            " [0.60759494]\n",
            " [0.60759494]\n",
            " [0.5443038 ]\n",
            " [0.73417722]\n",
            " [0.72151899]\n",
            " [0.6835443 ]\n",
            " [0.64556962]\n",
            " [0.72151899]\n",
            " [0.64556962]\n",
            " [0.6835443 ]\n",
            " [0.64556962]\n",
            " [0.58227848]\n",
            " [0.64556962]\n",
            " [0.60759494]\n",
            " [0.63291139]\n",
            " [0.63291139]\n",
            " [0.65822785]\n",
            " [0.65822785]\n",
            " [0.59493671]\n",
            " [0.60759494]\n",
            " [0.6835443 ]\n",
            " [0.65822785]\n",
            " [0.69620253]\n",
            " [0.62025316]\n",
            " [0.63291139]\n",
            " [0.69620253]\n",
            " [0.62025316]\n",
            " [0.55696203]\n",
            " [0.64556962]\n",
            " [0.63291139]\n",
            " [0.56962025]\n",
            " [0.55696203]\n",
            " [0.63291139]\n",
            " [0.64556962]\n",
            " [0.60759494]\n",
            " [0.64556962]\n",
            " [0.58227848]\n",
            " [0.67088608]\n",
            " [0.63291139]\n",
            " [0.88607595]\n",
            " [0.81012658]\n",
            " [0.87341772]\n",
            " [0.69620253]\n",
            " [0.82278481]\n",
            " [0.72151899]\n",
            " [0.79746835]\n",
            " [0.62025316]\n",
            " [0.83544304]\n",
            " [0.65822785]\n",
            " [0.63291139]\n",
            " [0.74683544]\n",
            " [0.75949367]\n",
            " [0.7721519 ]\n",
            " [0.70886076]\n",
            " [0.84810127]\n",
            " [0.70886076]\n",
            " [0.73417722]\n",
            " [0.78481013]\n",
            " [0.70886076]\n",
            " [0.74683544]\n",
            " [0.7721519 ]\n",
            " [0.79746835]\n",
            " [0.7721519 ]\n",
            " [0.81012658]\n",
            " [0.83544304]\n",
            " [0.86075949]\n",
            " [0.84810127]\n",
            " [0.75949367]\n",
            " [0.72151899]\n",
            " [0.69620253]\n",
            " [0.69620253]\n",
            " [0.73417722]\n",
            " [0.75949367]\n",
            " [0.6835443 ]\n",
            " [0.75949367]\n",
            " [0.84810127]\n",
            " [0.79746835]\n",
            " [0.70886076]\n",
            " [0.69620253]\n",
            " [0.69620253]\n",
            " [0.7721519 ]\n",
            " [0.73417722]\n",
            " [0.63291139]\n",
            " [0.70886076]\n",
            " [0.72151899]\n",
            " [0.72151899]\n",
            " [0.78481013]\n",
            " [0.64556962]\n",
            " [0.72151899]\n",
            " [0.79746835]\n",
            " [0.73417722]\n",
            " [0.89873418]\n",
            " [0.79746835]\n",
            " [0.82278481]\n",
            " [0.96202532]\n",
            " [0.62025316]\n",
            " [0.92405063]\n",
            " [0.84810127]\n",
            " [0.91139241]\n",
            " [0.82278481]\n",
            " [0.81012658]\n",
            " [0.86075949]\n",
            " [0.72151899]\n",
            " [0.73417722]\n",
            " [0.81012658]\n",
            " [0.82278481]\n",
            " [0.97468354]\n",
            " [0.97468354]\n",
            " [0.75949367]\n",
            " [0.87341772]\n",
            " [0.70886076]\n",
            " [0.97468354]\n",
            " [0.79746835]\n",
            " [0.84810127]\n",
            " [0.91139241]\n",
            " [0.78481013]\n",
            " [0.7721519 ]\n",
            " [0.81012658]\n",
            " [0.91139241]\n",
            " [0.93670886]\n",
            " [1.        ]\n",
            " [0.81012658]\n",
            " [0.79746835]\n",
            " [0.7721519 ]\n",
            " [0.97468354]\n",
            " [0.79746835]\n",
            " [0.81012658]\n",
            " [0.75949367]\n",
            " [0.87341772]\n",
            " [0.84810127]\n",
            " [0.87341772]\n",
            " [0.73417722]\n",
            " [0.86075949]\n",
            " [0.84810127]\n",
            " [0.84810127]\n",
            " [0.79746835]\n",
            " [0.82278481]\n",
            " [0.78481013]\n",
            " [0.74683544]]\n"
          ]
        }
      ]
    },
    {
      "cell_type": "code",
      "source": [
        "from sklearn.preprocessing import RobustScaler\n",
        "scaler = RobustScaler()\n",
        "print(scaler.fit_transform(df['petal width (cm)'].values.reshape(-1,1)))"
      ],
      "metadata": {
        "colab": {
          "base_uri": "https://localhost:8080/"
        },
        "id": "SzFQ5YT8ZBrI",
        "outputId": "3999defd-ba68-45ca-d6e8-e3ef505ef5ce"
      },
      "execution_count": null,
      "outputs": [
        {
          "output_type": "stream",
          "name": "stdout",
          "text": [
            "[[-0.73333333]\n",
            " [-0.73333333]\n",
            " [-0.73333333]\n",
            " [-0.73333333]\n",
            " [-0.73333333]\n",
            " [-0.6       ]\n",
            " [-0.66666667]\n",
            " [-0.73333333]\n",
            " [-0.73333333]\n",
            " [-0.8       ]\n",
            " [-0.73333333]\n",
            " [-0.73333333]\n",
            " [-0.8       ]\n",
            " [-0.8       ]\n",
            " [-0.73333333]\n",
            " [-0.6       ]\n",
            " [-0.6       ]\n",
            " [-0.66666667]\n",
            " [-0.66666667]\n",
            " [-0.66666667]\n",
            " [-0.73333333]\n",
            " [-0.6       ]\n",
            " [-0.73333333]\n",
            " [-0.53333333]\n",
            " [-0.73333333]\n",
            " [-0.73333333]\n",
            " [-0.6       ]\n",
            " [-0.73333333]\n",
            " [-0.73333333]\n",
            " [-0.73333333]\n",
            " [-0.73333333]\n",
            " [-0.6       ]\n",
            " [-0.8       ]\n",
            " [-0.73333333]\n",
            " [-0.73333333]\n",
            " [-0.73333333]\n",
            " [-0.73333333]\n",
            " [-0.8       ]\n",
            " [-0.73333333]\n",
            " [-0.73333333]\n",
            " [-0.66666667]\n",
            " [-0.66666667]\n",
            " [-0.73333333]\n",
            " [-0.46666667]\n",
            " [-0.6       ]\n",
            " [-0.66666667]\n",
            " [-0.73333333]\n",
            " [-0.73333333]\n",
            " [-0.73333333]\n",
            " [-0.73333333]\n",
            " [ 0.06666667]\n",
            " [ 0.13333333]\n",
            " [ 0.13333333]\n",
            " [ 0.        ]\n",
            " [ 0.13333333]\n",
            " [ 0.        ]\n",
            " [ 0.2       ]\n",
            " [-0.2       ]\n",
            " [ 0.        ]\n",
            " [ 0.06666667]\n",
            " [-0.2       ]\n",
            " [ 0.13333333]\n",
            " [-0.2       ]\n",
            " [ 0.06666667]\n",
            " [ 0.        ]\n",
            " [ 0.06666667]\n",
            " [ 0.13333333]\n",
            " [-0.2       ]\n",
            " [ 0.13333333]\n",
            " [-0.13333333]\n",
            " [ 0.33333333]\n",
            " [ 0.        ]\n",
            " [ 0.13333333]\n",
            " [-0.06666667]\n",
            " [ 0.        ]\n",
            " [ 0.06666667]\n",
            " [ 0.06666667]\n",
            " [ 0.26666667]\n",
            " [ 0.13333333]\n",
            " [-0.2       ]\n",
            " [-0.13333333]\n",
            " [-0.2       ]\n",
            " [-0.06666667]\n",
            " [ 0.2       ]\n",
            " [ 0.13333333]\n",
            " [ 0.2       ]\n",
            " [ 0.13333333]\n",
            " [ 0.        ]\n",
            " [ 0.        ]\n",
            " [ 0.        ]\n",
            " [-0.06666667]\n",
            " [ 0.06666667]\n",
            " [-0.06666667]\n",
            " [-0.2       ]\n",
            " [ 0.        ]\n",
            " [-0.06666667]\n",
            " [ 0.        ]\n",
            " [ 0.        ]\n",
            " [-0.13333333]\n",
            " [ 0.        ]\n",
            " [ 0.8       ]\n",
            " [ 0.4       ]\n",
            " [ 0.53333333]\n",
            " [ 0.33333333]\n",
            " [ 0.6       ]\n",
            " [ 0.53333333]\n",
            " [ 0.26666667]\n",
            " [ 0.33333333]\n",
            " [ 0.33333333]\n",
            " [ 0.8       ]\n",
            " [ 0.46666667]\n",
            " [ 0.4       ]\n",
            " [ 0.53333333]\n",
            " [ 0.46666667]\n",
            " [ 0.73333333]\n",
            " [ 0.66666667]\n",
            " [ 0.33333333]\n",
            " [ 0.6       ]\n",
            " [ 0.66666667]\n",
            " [ 0.13333333]\n",
            " [ 0.66666667]\n",
            " [ 0.46666667]\n",
            " [ 0.46666667]\n",
            " [ 0.33333333]\n",
            " [ 0.53333333]\n",
            " [ 0.33333333]\n",
            " [ 0.33333333]\n",
            " [ 0.33333333]\n",
            " [ 0.53333333]\n",
            " [ 0.2       ]\n",
            " [ 0.4       ]\n",
            " [ 0.46666667]\n",
            " [ 0.6       ]\n",
            " [ 0.13333333]\n",
            " [ 0.06666667]\n",
            " [ 0.66666667]\n",
            " [ 0.73333333]\n",
            " [ 0.33333333]\n",
            " [ 0.33333333]\n",
            " [ 0.53333333]\n",
            " [ 0.73333333]\n",
            " [ 0.66666667]\n",
            " [ 0.4       ]\n",
            " [ 0.66666667]\n",
            " [ 0.8       ]\n",
            " [ 0.66666667]\n",
            " [ 0.4       ]\n",
            " [ 0.46666667]\n",
            " [ 0.66666667]\n",
            " [ 0.33333333]]\n"
          ]
        }
      ]
    },
    {
      "cell_type": "markdown",
      "source": [
        "normalization"
      ],
      "metadata": {
        "id": "3tb3cT7wpDFC"
      }
    },
    {
      "cell_type": "code",
      "source": [
        "X = [[1, -1, 2],\n",
        "     [4,1,2],\n",
        "     [0,1,-1]]"
      ],
      "metadata": {
        "id": "4UK3PSmepJOR"
      },
      "execution_count": null,
      "outputs": []
    },
    {
      "cell_type": "code",
      "source": [
        "from sklearn.preprocessing import normalize\n",
        "import pandas as pd\n",
        "import math\n",
        "#max norm\n",
        "X_norm = normalize(X,norm='max')\n",
        "print(X_norm)"
      ],
      "metadata": {
        "colab": {
          "base_uri": "https://localhost:8080/"
        },
        "id": "Zci2zCeZpUG_",
        "outputId": "00132438-c807-4a3e-8880-73d1892aa4fc"
      },
      "execution_count": null,
      "outputs": [
        {
          "output_type": "stream",
          "name": "stdout",
          "text": [
            "[[ 0.5  -0.5   1.  ]\n",
            " [ 1.    0.25  0.5 ]\n",
            " [ 0.    1.   -1.  ]]\n"
          ]
        }
      ]
    },
    {
      "cell_type": "code",
      "source": [
        "#without sklearn\n",
        "df = pd.DataFrame(data=X)\n",
        "norm_max = list(max(list(abs(i) for i in df.iloc[r])) for r in range(len(X)))\n",
        "print(norm_max)"
      ],
      "metadata": {
        "colab": {
          "base_uri": "https://localhost:8080/"
        },
        "id": "ub_GVte-prT2",
        "outputId": "342af0a6-07a6-41f3-9379-df54ab9f281f"
      },
      "execution_count": null,
      "outputs": [
        {
          "output_type": "stream",
          "name": "stdout",
          "text": [
            "[2, 4, 1]\n"
          ]
        }
      ]
    },
    {
      "cell_type": "code",
      "source": [
        "import numpy as np\n",
        "norm_data = np.array(list(list(i/norm_max[r] for i in df.iloc[r]) for r in range(len(X))))\n",
        "print(norm_data)"
      ],
      "metadata": {
        "colab": {
          "base_uri": "https://localhost:8080/"
        },
        "id": "__l8lcQfqQC7",
        "outputId": "148eb5c5-17b4-4e7c-eac7-2e753353bc15"
      },
      "execution_count": null,
      "outputs": [
        {
          "output_type": "stream",
          "name": "stdout",
          "text": [
            "[[ 0.5  -0.5   1.  ]\n",
            " [ 1.    0.25  0.5 ]\n",
            " [ 0.    1.   -1.  ]]\n"
          ]
        }
      ]
    },
    {
      "cell_type": "code",
      "source": [
        "#l1 norm\n",
        "X_norm = normalize(X,norm='l1')\n",
        "print(X_norm)"
      ],
      "metadata": {
        "colab": {
          "base_uri": "https://localhost:8080/"
        },
        "id": "3Z2bmVHFqvSB",
        "outputId": "062a4487-b3c6-4661-d50d-bf15164ba0c5"
      },
      "execution_count": null,
      "outputs": [
        {
          "output_type": "stream",
          "name": "stdout",
          "text": [
            "[[ 0.25       -0.25        0.5       ]\n",
            " [ 0.57142857  0.14285714  0.28571429]\n",
            " [ 0.          0.5        -0.5       ]]\n"
          ]
        }
      ]
    },
    {
      "cell_type": "code",
      "source": [
        "#without sklearn\n",
        "df = pd.DataFrame(data=X)\n",
        "norm_max = list(sum(list(abs(i) for i in df.iloc[r])) for r in range(len(X)))\n",
        "print(norm_max)"
      ],
      "metadata": {
        "colab": {
          "base_uri": "https://localhost:8080/"
        },
        "id": "bLj540Zzq6cS",
        "outputId": "169298dd-5956-49b0-ecd5-e4a9db7e6678"
      },
      "execution_count": null,
      "outputs": [
        {
          "output_type": "stream",
          "name": "stdout",
          "text": [
            "[4, 7, 2]\n"
          ]
        }
      ]
    },
    {
      "cell_type": "code",
      "source": [
        "norm_data = np.array(list(list(i/norm_max[r] for i in df.iloc[r]) for r in range(len(X))))\n",
        "print(norm_data)"
      ],
      "metadata": {
        "colab": {
          "base_uri": "https://localhost:8080/"
        },
        "id": "y0WX91HcrKRe",
        "outputId": "a1d93fcb-6214-4a07-bc06-f8c9167d1cf9"
      },
      "execution_count": null,
      "outputs": [
        {
          "output_type": "stream",
          "name": "stdout",
          "text": [
            "[[ 0.25       -0.25        0.5       ]\n",
            " [ 0.57142857  0.14285714  0.28571429]\n",
            " [ 0.          0.5        -0.5       ]]\n"
          ]
        }
      ]
    },
    {
      "cell_type": "code",
      "source": [
        "#l2 norm\n",
        "X_norm = normalize(X, norm='l2')\n",
        "print(X_norm)"
      ],
      "metadata": {
        "colab": {
          "base_uri": "https://localhost:8080/"
        },
        "id": "uX4vHtadrQdL",
        "outputId": "52eb3223-ae19-4872-a066-a632b8b04a29"
      },
      "execution_count": null,
      "outputs": [
        {
          "output_type": "stream",
          "name": "stdout",
          "text": [
            "[[ 0.40824829 -0.40824829  0.81649658]\n",
            " [ 0.87287156  0.21821789  0.43643578]\n",
            " [ 0.          0.70710678 -0.70710678]]\n"
          ]
        }
      ]
    },
    {
      "cell_type": "code",
      "source": [
        "#alternative\n",
        "from sklearn.preprocessing import Normalizer\n",
        "normalizer = Normalizer()\n",
        "print(normalizer.transform(X))"
      ],
      "metadata": {
        "colab": {
          "base_uri": "https://localhost:8080/"
        },
        "id": "VjgnmBP5rb1v",
        "outputId": "4b59e051-9c4c-4c9a-87be-2180b0c1f813"
      },
      "execution_count": null,
      "outputs": [
        {
          "output_type": "stream",
          "name": "stdout",
          "text": [
            "[[ 0.40824829 -0.40824829  0.81649658]\n",
            " [ 0.87287156  0.21821789  0.43643578]\n",
            " [ 0.          0.70710678 -0.70710678]]\n"
          ]
        }
      ]
    },
    {
      "cell_type": "code",
      "source": [
        "#without sklearn\n",
        "df = pd.DataFrame(data=X)\n",
        "norm_l2 = list(math.sqrt(sum(list(i**2 for i in df.iloc[r]))) for r in range(len(X)))\n",
        "print(norm_l2)"
      ],
      "metadata": {
        "colab": {
          "base_uri": "https://localhost:8080/"
        },
        "id": "0EJWbJU8rpU4",
        "outputId": "4d6c44fb-8281-4ebe-8f2e-51ba90350dfa"
      },
      "execution_count": null,
      "outputs": [
        {
          "output_type": "stream",
          "name": "stdout",
          "text": [
            "[2.449489742783178, 4.58257569495584, 1.4142135623730951]\n"
          ]
        }
      ]
    },
    {
      "cell_type": "code",
      "source": [
        "norm_data = list(((list(i/norm_l2[r] for i in df.iloc[r]))) for r in range(len(X)))\n",
        "print(np.array(norm_data))"
      ],
      "metadata": {
        "colab": {
          "base_uri": "https://localhost:8080/"
        },
        "id": "7IXtAVRosG30",
        "outputId": "2e1e519d-bbfc-4a8f-fa38-08f64d0c734f"
      },
      "execution_count": null,
      "outputs": [
        {
          "output_type": "stream",
          "name": "stdout",
          "text": [
            "[[ 0.40824829 -0.40824829  0.81649658]\n",
            " [ 0.87287156  0.21821789  0.43643578]\n",
            " [ 0.          0.70710678 -0.70710678]]\n"
          ]
        }
      ]
    },
    {
      "cell_type": "markdown",
      "source": [
        "Polynomial Features"
      ],
      "metadata": {
        "id": "N6fVFegilWCI"
      }
    },
    {
      "cell_type": "code",
      "source": [
        "import numpy as np\n",
        "from sklearn.preprocessing import PolynomialFeatures\n",
        "X = np.arange(6).reshape(3,2)\n",
        "print(X)\n",
        "p = PolynomialFeatures(2)\n",
        "p.fit_transform(X)"
      ],
      "metadata": {
        "colab": {
          "base_uri": "https://localhost:8080/"
        },
        "id": "qV3MVSTklYx_",
        "outputId": "cafecabd-d77a-44fa-da9b-7d0a8d2bb048"
      },
      "execution_count": null,
      "outputs": [
        {
          "output_type": "stream",
          "name": "stdout",
          "text": [
            "[[0 1]\n",
            " [2 3]\n",
            " [4 5]]\n"
          ]
        },
        {
          "output_type": "execute_result",
          "data": {
            "text/plain": [
              "array([[ 1.,  0.,  1.,  0.,  0.,  1.],\n",
              "       [ 1.,  2.,  3.,  4.,  6.,  9.],\n",
              "       [ 1.,  4.,  5., 16., 20., 25.]])"
            ]
          },
          "metadata": {},
          "execution_count": 2
        }
      ]
    },
    {
      "cell_type": "code",
      "source": [
        "#degree = 3\n",
        "X = np.arange(9).reshape(3,3)\n",
        "print(X)\n",
        "p = PolynomialFeatures(degree=3, interaction_only = True)\n",
        "p.fit_transform(X)"
      ],
      "metadata": {
        "colab": {
          "base_uri": "https://localhost:8080/"
        },
        "id": "L8ZFP9Gnl09r",
        "outputId": "1b3e48b1-caac-4144-ca1b-b56c6d7000f4"
      },
      "execution_count": null,
      "outputs": [
        {
          "output_type": "stream",
          "name": "stdout",
          "text": [
            "[[0 1 2]\n",
            " [3 4 5]\n",
            " [6 7 8]]\n"
          ]
        },
        {
          "output_type": "execute_result",
          "data": {
            "text/plain": [
              "array([[  1.,   0.,   1.,   2.,   0.,   0.,   2.,   0.],\n",
              "       [  1.,   3.,   4.,   5.,  12.,  15.,  20.,  60.],\n",
              "       [  1.,   6.,   7.,   8.,  42.,  48.,  56., 336.]])"
            ]
          },
          "metadata": {},
          "execution_count": 3
        }
      ]
    },
    {
      "cell_type": "code",
      "source": [
        "#spline transformer\n",
        "from sklearn.preprocessing import SplineTransformer\n",
        "X = np.arange(5).reshape(5,1)\n",
        "print(X)\n",
        "spline = SplineTransformer(degree=2, n_knots=3)\n",
        "print(spline.fit_transform(X))"
      ],
      "metadata": {
        "colab": {
          "base_uri": "https://localhost:8080/"
        },
        "id": "1X6Qvc4ImKOm",
        "outputId": "10bb4dcc-2e7c-477b-fe01-1d0a2054af63"
      },
      "execution_count": null,
      "outputs": [
        {
          "output_type": "stream",
          "name": "stdout",
          "text": [
            "[[0]\n",
            " [1]\n",
            " [2]\n",
            " [3]\n",
            " [4]]\n",
            "[[0.5   0.5   0.    0.   ]\n",
            " [0.125 0.75  0.125 0.   ]\n",
            " [0.    0.5   0.5   0.   ]\n",
            " [0.    0.125 0.75  0.125]\n",
            " [0.    0.    0.5   0.5  ]]\n"
          ]
        }
      ]
    },
    {
      "cell_type": "code",
      "source": [
        "#custom transformers\n",
        "from sklearn.preprocessing import FunctionTransformer\n",
        "X = np.arange(9).reshape(3,3)\n",
        "print(X)"
      ],
      "metadata": {
        "colab": {
          "base_uri": "https://localhost:8080/"
        },
        "id": "afAdHlwBmkS8",
        "outputId": "e64436a0-bfc8-40b9-8c25-42575da447d9"
      },
      "execution_count": null,
      "outputs": [
        {
          "output_type": "stream",
          "name": "stdout",
          "text": [
            "[[0 1 2]\n",
            " [3 4 5]\n",
            " [6 7 8]]\n"
          ]
        }
      ]
    },
    {
      "cell_type": "code",
      "source": [
        "t = FunctionTransformer(np.log1p, validate = True)\n",
        "t.fit_transform(X)"
      ],
      "metadata": {
        "colab": {
          "base_uri": "https://localhost:8080/"
        },
        "id": "FnGXU81Dmuma",
        "outputId": "50c5f54a-79cf-4e02-9670-6ca19c88c747"
      },
      "execution_count": null,
      "outputs": [
        {
          "output_type": "execute_result",
          "data": {
            "text/plain": [
              "array([[0.        , 0.69314718, 1.09861229],\n",
              "       [1.38629436, 1.60943791, 1.79175947],\n",
              "       [1.94591015, 2.07944154, 2.19722458]])"
            ]
          },
          "metadata": {},
          "execution_count": 8
        }
      ]
    },
    {
      "cell_type": "code",
      "source": [
        "import pandas as pd\n",
        "X = pd.DataFrame(np.arange(9).reshape(3,3))\n",
        "X.apply(lambda y : np.log1p(y))"
      ],
      "metadata": {
        "colab": {
          "base_uri": "https://localhost:8080/",
          "height": 143
        },
        "id": "ztm6Cq24nF9u",
        "outputId": "8e1d68af-f802-412c-96f4-68f538225529"
      },
      "execution_count": null,
      "outputs": [
        {
          "output_type": "execute_result",
          "data": {
            "text/plain": [
              "          0         1         2\n",
              "0  0.000000  0.693147  1.098612\n",
              "1  1.386294  1.609438  1.791759\n",
              "2  1.945910  2.079442  2.197225"
            ],
            "text/html": [
              "\n",
              "  <div id=\"df-52242c16-f4d5-4022-9dc6-28c607400a59\">\n",
              "    <div class=\"colab-df-container\">\n",
              "      <div>\n",
              "<style scoped>\n",
              "    .dataframe tbody tr th:only-of-type {\n",
              "        vertical-align: middle;\n",
              "    }\n",
              "\n",
              "    .dataframe tbody tr th {\n",
              "        vertical-align: top;\n",
              "    }\n",
              "\n",
              "    .dataframe thead th {\n",
              "        text-align: right;\n",
              "    }\n",
              "</style>\n",
              "<table border=\"1\" class=\"dataframe\">\n",
              "  <thead>\n",
              "    <tr style=\"text-align: right;\">\n",
              "      <th></th>\n",
              "      <th>0</th>\n",
              "      <th>1</th>\n",
              "      <th>2</th>\n",
              "    </tr>\n",
              "  </thead>\n",
              "  <tbody>\n",
              "    <tr>\n",
              "      <th>0</th>\n",
              "      <td>0.000000</td>\n",
              "      <td>0.693147</td>\n",
              "      <td>1.098612</td>\n",
              "    </tr>\n",
              "    <tr>\n",
              "      <th>1</th>\n",
              "      <td>1.386294</td>\n",
              "      <td>1.609438</td>\n",
              "      <td>1.791759</td>\n",
              "    </tr>\n",
              "    <tr>\n",
              "      <th>2</th>\n",
              "      <td>1.945910</td>\n",
              "      <td>2.079442</td>\n",
              "      <td>2.197225</td>\n",
              "    </tr>\n",
              "  </tbody>\n",
              "</table>\n",
              "</div>\n",
              "      <button class=\"colab-df-convert\" onclick=\"convertToInteractive('df-52242c16-f4d5-4022-9dc6-28c607400a59')\"\n",
              "              title=\"Convert this dataframe to an interactive table.\"\n",
              "              style=\"display:none;\">\n",
              "        \n",
              "  <svg xmlns=\"http://www.w3.org/2000/svg\" height=\"24px\"viewBox=\"0 0 24 24\"\n",
              "       width=\"24px\">\n",
              "    <path d=\"M0 0h24v24H0V0z\" fill=\"none\"/>\n",
              "    <path d=\"M18.56 5.44l.94 2.06.94-2.06 2.06-.94-2.06-.94-.94-2.06-.94 2.06-2.06.94zm-11 1L8.5 8.5l.94-2.06 2.06-.94-2.06-.94L8.5 2.5l-.94 2.06-2.06.94zm10 10l.94 2.06.94-2.06 2.06-.94-2.06-.94-.94-2.06-.94 2.06-2.06.94z\"/><path d=\"M17.41 7.96l-1.37-1.37c-.4-.4-.92-.59-1.43-.59-.52 0-1.04.2-1.43.59L10.3 9.45l-7.72 7.72c-.78.78-.78 2.05 0 2.83L4 21.41c.39.39.9.59 1.41.59.51 0 1.02-.2 1.41-.59l7.78-7.78 2.81-2.81c.8-.78.8-2.07 0-2.86zM5.41 20L4 18.59l7.72-7.72 1.47 1.35L5.41 20z\"/>\n",
              "  </svg>\n",
              "      </button>\n",
              "      \n",
              "  <style>\n",
              "    .colab-df-container {\n",
              "      display:flex;\n",
              "      flex-wrap:wrap;\n",
              "      gap: 12px;\n",
              "    }\n",
              "\n",
              "    .colab-df-convert {\n",
              "      background-color: #E8F0FE;\n",
              "      border: none;\n",
              "      border-radius: 50%;\n",
              "      cursor: pointer;\n",
              "      display: none;\n",
              "      fill: #1967D2;\n",
              "      height: 32px;\n",
              "      padding: 0 0 0 0;\n",
              "      width: 32px;\n",
              "    }\n",
              "\n",
              "    .colab-df-convert:hover {\n",
              "      background-color: #E2EBFA;\n",
              "      box-shadow: 0px 1px 2px rgba(60, 64, 67, 0.3), 0px 1px 3px 1px rgba(60, 64, 67, 0.15);\n",
              "      fill: #174EA6;\n",
              "    }\n",
              "\n",
              "    [theme=dark] .colab-df-convert {\n",
              "      background-color: #3B4455;\n",
              "      fill: #D2E3FC;\n",
              "    }\n",
              "\n",
              "    [theme=dark] .colab-df-convert:hover {\n",
              "      background-color: #434B5C;\n",
              "      box-shadow: 0px 1px 3px 1px rgba(0, 0, 0, 0.15);\n",
              "      filter: drop-shadow(0px 1px 2px rgba(0, 0, 0, 0.3));\n",
              "      fill: #FFFFFF;\n",
              "    }\n",
              "  </style>\n",
              "\n",
              "      <script>\n",
              "        const buttonEl =\n",
              "          document.querySelector('#df-52242c16-f4d5-4022-9dc6-28c607400a59 button.colab-df-convert');\n",
              "        buttonEl.style.display =\n",
              "          google.colab.kernel.accessAllowed ? 'block' : 'none';\n",
              "\n",
              "        async function convertToInteractive(key) {\n",
              "          const element = document.querySelector('#df-52242c16-f4d5-4022-9dc6-28c607400a59');\n",
              "          const dataTable =\n",
              "            await google.colab.kernel.invokeFunction('convertToInteractive',\n",
              "                                                     [key], {});\n",
              "          if (!dataTable) return;\n",
              "\n",
              "          const docLinkHtml = 'Like what you see? Visit the ' +\n",
              "            '<a target=\"_blank\" href=https://colab.research.google.com/notebooks/data_table.ipynb>data table notebook</a>'\n",
              "            + ' to learn more about interactive tables.';\n",
              "          element.innerHTML = '';\n",
              "          dataTable['output_type'] = 'display_data';\n",
              "          await google.colab.output.renderOutput(dataTable, element);\n",
              "          const docLink = document.createElement('div');\n",
              "          docLink.innerHTML = docLinkHtml;\n",
              "          element.appendChild(docLink);\n",
              "        }\n",
              "      </script>\n",
              "    </div>\n",
              "  </div>\n",
              "  "
            ]
          },
          "metadata": {},
          "execution_count": 9
        }
      ]
    }
  ]
}