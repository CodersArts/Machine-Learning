{
  "metadata": {
    "kernelspec": {
      "language": "python",
      "display_name": "Python 3",
      "name": "python3"
    },
    "language_info": {
      "name": "python",
      "version": "3.10.13",
      "mimetype": "text/x-python",
      "codemirror_mode": {
        "name": "ipython",
        "version": 3
      },
      "pygments_lexer": "ipython3",
      "nbconvert_exporter": "python",
      "file_extension": ".py"
    },
    "kaggle": {
      "accelerator": "nvidiaTeslaT4",
      "dataSources": [],
      "dockerImageVersionId": 30747,
      "isInternetEnabled": true,
      "language": "python",
      "sourceType": "notebook",
      "isGpuEnabled": true
    },
    "colab": {
      "provenance": []
    }
  },
  "nbformat_minor": 0,
  "nbformat": 4,
  "cells": [
    {
      "cell_type": "code",
      "source": [
        "# https://github.com/serp-ai/bark-with-voice-clone?tab=readme-ov-file"
      ],
      "metadata": {
        "_uuid": "8f2839f25d086af736a60e9eeb907d3b93b6e0e5",
        "_cell_guid": "b1076dfc-b9ad-4769-8c92-a6c4dae69d19",
        "execution": {
          "iopub.status.busy": "2024-08-20T03:09:56.589186Z",
          "iopub.status.idle": "2024-08-20T03:10:12.498978Z",
          "shell.execute_reply.started": "2024-08-20T03:09:56.589587Z",
          "shell.execute_reply": "2024-08-20T03:10:12.498030Z"
        },
        "trusted": true,
        "id": "J4BO2aEjUQzb",
        "outputId": "b78e959b-87d5-4eca-893b-8af8bb1132e6"
      },
      "execution_count": null,
      "outputs": [
        {
          "name": "stderr",
          "text": "2024-08-20 03:10:02.723006: E external/local_xla/xla/stream_executor/cuda/cuda_dnn.cc:9261] Unable to register cuDNN factory: Attempting to register factory for plugin cuDNN when one has already been registered\n2024-08-20 03:10:02.723158: E external/local_xla/xla/stream_executor/cuda/cuda_fft.cc:607] Unable to register cuFFT factory: Attempting to register factory for plugin cuFFT when one has already been registered\n2024-08-20 03:10:02.825754: E external/local_xla/xla/stream_executor/cuda/cuda_blas.cc:1515] Unable to register cuBLAS factory: Attempting to register factory for plugin cuBLAS when one has already been registered\n",
          "output_type": "stream"
        }
      ]
    },
    {
      "cell_type": "code",
      "source": [
        "from transformers import AutoProcessor, AutoModel\n",
        "import scipy\n",
        "import ipywidgets as widgets\n",
        "from IPython.display import display, HTML\n",
        "import ipywidgets as widgets\n",
        "from IPython.display import display\n",
        "from transformers import AutoProcessor, AutoModel\n",
        "import scipy.io.wavfile"
      ],
      "metadata": {
        "id": "QjpW2f3dUQzf"
      },
      "execution_count": null,
      "outputs": []
    },
    {
      "cell_type": "code",
      "source": [
        "# Load the model and processor\n",
        "processor = AutoProcessor.from_pretrained(\"suno/bark\")\n",
        "model = AutoModel.from_pretrained(\"suno/bark\")\n",
        "model.to('cuda')"
      ],
      "metadata": {
        "execution": {
          "iopub.status.busy": "2024-08-20T03:10:12.500974Z",
          "iopub.execute_input": "2024-08-20T03:10:12.501645Z",
          "iopub.status.idle": "2024-08-20T03:10:48.036014Z",
          "shell.execute_reply.started": "2024-08-20T03:10:12.501611Z",
          "shell.execute_reply": "2024-08-20T03:10:48.035047Z"
        },
        "trusted": true,
        "id": "sQG67MUxUQzf",
        "outputId": "f80ce16a-6cc3-4eaa-b4f5-e682fdd710d4",
        "colab": {
          "referenced_widgets": [
            "ba0357285cb841f7823d1b70c34df9df",
            "f67f5c693996433d86d267d8afc88167",
            "6d4dd927d4954e9283beaa79bbf06047",
            "ff7cf5f843194b1fbcc37f6ff3ce25b6",
            "0116b8329e4e4dc98ff040370d017530",
            "7a01c62612d842869119e2b011ad5403",
            "862b210824264023ab266dc6290ab4de",
            "d51ed2ea2ea74b049f05db6a4b0d9ddb"
          ]
        }
      },
      "execution_count": null,
      "outputs": [
        {
          "output_type": "display_data",
          "data": {
            "text/plain": "tokenizer_config.json:   0%|          | 0.00/353 [00:00<?, ?B/s]",
            "application/vnd.jupyter.widget-view+json": {
              "version_major": 2,
              "version_minor": 0,
              "model_id": "ba0357285cb841f7823d1b70c34df9df"
            }
          },
          "metadata": {}
        },
        {
          "output_type": "display_data",
          "data": {
            "text/plain": "speaker_embeddings_path.json:   0%|          | 0.00/61.1k [00:00<?, ?B/s]",
            "application/vnd.jupyter.widget-view+json": {
              "version_major": 2,
              "version_minor": 0,
              "model_id": "f67f5c693996433d86d267d8afc88167"
            }
          },
          "metadata": {}
        },
        {
          "output_type": "display_data",
          "data": {
            "text/plain": "vocab.txt:   0%|          | 0.00/996k [00:00<?, ?B/s]",
            "application/vnd.jupyter.widget-view+json": {
              "version_major": 2,
              "version_minor": 0,
              "model_id": "6d4dd927d4954e9283beaa79bbf06047"
            }
          },
          "metadata": {}
        },
        {
          "output_type": "display_data",
          "data": {
            "text/plain": "tokenizer.json:   0%|          | 0.00/2.92M [00:00<?, ?B/s]",
            "application/vnd.jupyter.widget-view+json": {
              "version_major": 2,
              "version_minor": 0,
              "model_id": "ff7cf5f843194b1fbcc37f6ff3ce25b6"
            }
          },
          "metadata": {}
        },
        {
          "output_type": "display_data",
          "data": {
            "text/plain": "special_tokens_map.json:   0%|          | 0.00/125 [00:00<?, ?B/s]",
            "application/vnd.jupyter.widget-view+json": {
              "version_major": 2,
              "version_minor": 0,
              "model_id": "0116b8329e4e4dc98ff040370d017530"
            }
          },
          "metadata": {}
        },
        {
          "output_type": "display_data",
          "data": {
            "text/plain": "config.json:   0%|          | 0.00/8.81k [00:00<?, ?B/s]",
            "application/vnd.jupyter.widget-view+json": {
              "version_major": 2,
              "version_minor": 0,
              "model_id": "7a01c62612d842869119e2b011ad5403"
            }
          },
          "metadata": {}
        },
        {
          "output_type": "display_data",
          "data": {
            "text/plain": "pytorch_model.bin:   0%|          | 0.00/4.49G [00:00<?, ?B/s]",
            "application/vnd.jupyter.widget-view+json": {
              "version_major": 2,
              "version_minor": 0,
              "model_id": "862b210824264023ab266dc6290ab4de"
            }
          },
          "metadata": {}
        },
        {
          "name": "stderr",
          "text": "/opt/conda/lib/python3.10/site-packages/torch/_utils.py:831: UserWarning: TypedStorage is deprecated. It will be removed in the future and UntypedStorage will be the only storage class. This should only matter to you if you are using storages directly.  To access UntypedStorage directly, use tensor.untyped_storage() instead of tensor.storage()\n  return self.fget.__get__(instance, owner)()\n/opt/conda/lib/python3.10/site-packages/torch/nn/utils/weight_norm.py:30: UserWarning: torch.nn.utils.weight_norm is deprecated in favor of torch.nn.utils.parametrizations.weight_norm.\n  warnings.warn(\"torch.nn.utils.weight_norm is deprecated in favor of torch.nn.utils.parametrizations.weight_norm.\")\n/opt/conda/lib/python3.10/site-packages/transformers/models/encodec/modeling_encodec.py:120: UserWarning: To copy construct from a tensor, it is recommended to use sourceTensor.clone().detach() or sourceTensor.clone().detach().requires_grad_(True), rather than torch.tensor(sourceTensor).\n  self.register_buffer(\"padding_total\", torch.tensor(kernel_size - stride, dtype=torch.int64), persistent=False)\n",
          "output_type": "stream"
        },
        {
          "output_type": "display_data",
          "data": {
            "text/plain": "generation_config.json:   0%|          | 0.00/4.91k [00:00<?, ?B/s]",
            "application/vnd.jupyter.widget-view+json": {
              "version_major": 2,
              "version_minor": 0,
              "model_id": "d51ed2ea2ea74b049f05db6a4b0d9ddb"
            }
          },
          "metadata": {}
        },
        {
          "execution_count": 2,
          "output_type": "execute_result",
          "data": {
            "text/plain": "BarkModel(\n  (semantic): BarkSemanticModel(\n    (input_embeds_layer): Embedding(129600, 1024)\n    (position_embeds_layer): Embedding(1024, 1024)\n    (drop): Dropout(p=0.0, inplace=False)\n    (layers): ModuleList(\n      (0-23): 24 x BarkBlock(\n        (layernorm_1): BarkLayerNorm()\n        (layernorm_2): BarkLayerNorm()\n        (attn): BarkSelfAttention(\n          (attn_dropout): Dropout(p=0.0, inplace=False)\n          (resid_dropout): Dropout(p=0.0, inplace=False)\n          (att_proj): Linear(in_features=1024, out_features=3072, bias=False)\n          (out_proj): Linear(in_features=1024, out_features=1024, bias=False)\n        )\n        (mlp): BarkMLP(\n          (in_proj): Linear(in_features=1024, out_features=4096, bias=False)\n          (out_proj): Linear(in_features=4096, out_features=1024, bias=False)\n          (dropout): Dropout(p=0.0, inplace=False)\n          (gelu): GELU(approximate='none')\n        )\n      )\n    )\n    (layernorm_final): BarkLayerNorm()\n    (lm_head): Linear(in_features=1024, out_features=10048, bias=False)\n  )\n  (coarse_acoustics): BarkCoarseModel(\n    (input_embeds_layer): Embedding(12096, 1024)\n    (position_embeds_layer): Embedding(1024, 1024)\n    (drop): Dropout(p=0.0, inplace=False)\n    (layers): ModuleList(\n      (0-23): 24 x BarkBlock(\n        (layernorm_1): BarkLayerNorm()\n        (layernorm_2): BarkLayerNorm()\n        (attn): BarkSelfAttention(\n          (attn_dropout): Dropout(p=0.0, inplace=False)\n          (resid_dropout): Dropout(p=0.0, inplace=False)\n          (att_proj): Linear(in_features=1024, out_features=3072, bias=False)\n          (out_proj): Linear(in_features=1024, out_features=1024, bias=False)\n        )\n        (mlp): BarkMLP(\n          (in_proj): Linear(in_features=1024, out_features=4096, bias=False)\n          (out_proj): Linear(in_features=4096, out_features=1024, bias=False)\n          (dropout): Dropout(p=0.0, inplace=False)\n          (gelu): GELU(approximate='none')\n        )\n      )\n    )\n    (layernorm_final): BarkLayerNorm()\n    (lm_head): Linear(in_features=1024, out_features=12096, bias=False)\n  )\n  (fine_acoustics): BarkFineModel(\n    (input_embeds_layers): ModuleList(\n      (0-7): 8 x Embedding(1056, 1024)\n    )\n    (position_embeds_layer): Embedding(1024, 1024)\n    (drop): Dropout(p=0.0, inplace=False)\n    (layers): ModuleList(\n      (0-23): 24 x BarkBlock(\n        (layernorm_1): LayerNorm((1024,), eps=1e-05, elementwise_affine=True)\n        (layernorm_2): LayerNorm((1024,), eps=1e-05, elementwise_affine=True)\n        (attn): BarkSelfAttention(\n          (attn_dropout): Dropout(p=0.0, inplace=False)\n          (resid_dropout): Dropout(p=0.0, inplace=False)\n          (att_proj): Linear(in_features=1024, out_features=3072, bias=False)\n          (out_proj): Linear(in_features=1024, out_features=1024, bias=False)\n        )\n        (mlp): BarkMLP(\n          (in_proj): Linear(in_features=1024, out_features=4096, bias=False)\n          (out_proj): Linear(in_features=4096, out_features=1024, bias=False)\n          (dropout): Dropout(p=0.0, inplace=False)\n          (gelu): GELU(approximate='none')\n        )\n      )\n    )\n    (layernorm_final): LayerNorm((1024,), eps=1e-05, elementwise_affine=True)\n    (lm_heads): ModuleList(\n      (0-6): 7 x Linear(in_features=1024, out_features=1056, bias=False)\n    )\n  )\n  (codec_model): EncodecModel(\n    (encoder): EncodecEncoder(\n      (layers): ModuleList(\n        (0): EncodecConv1d(\n          (conv): Conv1d(1, 32, kernel_size=(7,), stride=(1,))\n        )\n        (1): EncodecResnetBlock(\n          (block): ModuleList(\n            (0): ELU(alpha=1.0)\n            (1): EncodecConv1d(\n              (conv): Conv1d(32, 16, kernel_size=(3,), stride=(1,))\n            )\n            (2): ELU(alpha=1.0)\n            (3): EncodecConv1d(\n              (conv): Conv1d(16, 32, kernel_size=(1,), stride=(1,))\n            )\n          )\n          (shortcut): EncodecConv1d(\n            (conv): Conv1d(32, 32, kernel_size=(1,), stride=(1,))\n          )\n        )\n        (2): ELU(alpha=1.0)\n        (3): EncodecConv1d(\n          (conv): Conv1d(32, 64, kernel_size=(4,), stride=(2,))\n        )\n        (4): EncodecResnetBlock(\n          (block): ModuleList(\n            (0): ELU(alpha=1.0)\n            (1): EncodecConv1d(\n              (conv): Conv1d(64, 32, kernel_size=(3,), stride=(1,))\n            )\n            (2): ELU(alpha=1.0)\n            (3): EncodecConv1d(\n              (conv): Conv1d(32, 64, kernel_size=(1,), stride=(1,))\n            )\n          )\n          (shortcut): EncodecConv1d(\n            (conv): Conv1d(64, 64, kernel_size=(1,), stride=(1,))\n          )\n        )\n        (5): ELU(alpha=1.0)\n        (6): EncodecConv1d(\n          (conv): Conv1d(64, 128, kernel_size=(8,), stride=(4,))\n        )\n        (7): EncodecResnetBlock(\n          (block): ModuleList(\n            (0): ELU(alpha=1.0)\n            (1): EncodecConv1d(\n              (conv): Conv1d(128, 64, kernel_size=(3,), stride=(1,))\n            )\n            (2): ELU(alpha=1.0)\n            (3): EncodecConv1d(\n              (conv): Conv1d(64, 128, kernel_size=(1,), stride=(1,))\n            )\n          )\n          (shortcut): EncodecConv1d(\n            (conv): Conv1d(128, 128, kernel_size=(1,), stride=(1,))\n          )\n        )\n        (8): ELU(alpha=1.0)\n        (9): EncodecConv1d(\n          (conv): Conv1d(128, 256, kernel_size=(10,), stride=(5,))\n        )\n        (10): EncodecResnetBlock(\n          (block): ModuleList(\n            (0): ELU(alpha=1.0)\n            (1): EncodecConv1d(\n              (conv): Conv1d(256, 128, kernel_size=(3,), stride=(1,))\n            )\n            (2): ELU(alpha=1.0)\n            (3): EncodecConv1d(\n              (conv): Conv1d(128, 256, kernel_size=(1,), stride=(1,))\n            )\n          )\n          (shortcut): EncodecConv1d(\n            (conv): Conv1d(256, 256, kernel_size=(1,), stride=(1,))\n          )\n        )\n        (11): ELU(alpha=1.0)\n        (12): EncodecConv1d(\n          (conv): Conv1d(256, 512, kernel_size=(16,), stride=(8,))\n        )\n        (13): EncodecLSTM(\n          (lstm): LSTM(512, 512, num_layers=2)\n        )\n        (14): ELU(alpha=1.0)\n        (15): EncodecConv1d(\n          (conv): Conv1d(512, 128, kernel_size=(7,), stride=(1,))\n        )\n      )\n    )\n    (decoder): EncodecDecoder(\n      (layers): ModuleList(\n        (0): EncodecConv1d(\n          (conv): Conv1d(128, 512, kernel_size=(7,), stride=(1,))\n        )\n        (1): EncodecLSTM(\n          (lstm): LSTM(512, 512, num_layers=2)\n        )\n        (2): ELU(alpha=1.0)\n        (3): EncodecConvTranspose1d(\n          (conv): ConvTranspose1d(512, 256, kernel_size=(16,), stride=(8,))\n        )\n        (4): EncodecResnetBlock(\n          (block): ModuleList(\n            (0): ELU(alpha=1.0)\n            (1): EncodecConv1d(\n              (conv): Conv1d(256, 128, kernel_size=(3,), stride=(1,))\n            )\n            (2): ELU(alpha=1.0)\n            (3): EncodecConv1d(\n              (conv): Conv1d(128, 256, kernel_size=(1,), stride=(1,))\n            )\n          )\n          (shortcut): EncodecConv1d(\n            (conv): Conv1d(256, 256, kernel_size=(1,), stride=(1,))\n          )\n        )\n        (5): ELU(alpha=1.0)\n        (6): EncodecConvTranspose1d(\n          (conv): ConvTranspose1d(256, 128, kernel_size=(10,), stride=(5,))\n        )\n        (7): EncodecResnetBlock(\n          (block): ModuleList(\n            (0): ELU(alpha=1.0)\n            (1): EncodecConv1d(\n              (conv): Conv1d(128, 64, kernel_size=(3,), stride=(1,))\n            )\n            (2): ELU(alpha=1.0)\n            (3): EncodecConv1d(\n              (conv): Conv1d(64, 128, kernel_size=(1,), stride=(1,))\n            )\n          )\n          (shortcut): EncodecConv1d(\n            (conv): Conv1d(128, 128, kernel_size=(1,), stride=(1,))\n          )\n        )\n        (8): ELU(alpha=1.0)\n        (9): EncodecConvTranspose1d(\n          (conv): ConvTranspose1d(128, 64, kernel_size=(8,), stride=(4,))\n        )\n        (10): EncodecResnetBlock(\n          (block): ModuleList(\n            (0): ELU(alpha=1.0)\n            (1): EncodecConv1d(\n              (conv): Conv1d(64, 32, kernel_size=(3,), stride=(1,))\n            )\n            (2): ELU(alpha=1.0)\n            (3): EncodecConv1d(\n              (conv): Conv1d(32, 64, kernel_size=(1,), stride=(1,))\n            )\n          )\n          (shortcut): EncodecConv1d(\n            (conv): Conv1d(64, 64, kernel_size=(1,), stride=(1,))\n          )\n        )\n        (11): ELU(alpha=1.0)\n        (12): EncodecConvTranspose1d(\n          (conv): ConvTranspose1d(64, 32, kernel_size=(4,), stride=(2,))\n        )\n        (13): EncodecResnetBlock(\n          (block): ModuleList(\n            (0): ELU(alpha=1.0)\n            (1): EncodecConv1d(\n              (conv): Conv1d(32, 16, kernel_size=(3,), stride=(1,))\n            )\n            (2): ELU(alpha=1.0)\n            (3): EncodecConv1d(\n              (conv): Conv1d(16, 32, kernel_size=(1,), stride=(1,))\n            )\n          )\n          (shortcut): EncodecConv1d(\n            (conv): Conv1d(32, 32, kernel_size=(1,), stride=(1,))\n          )\n        )\n        (14): ELU(alpha=1.0)\n        (15): EncodecConv1d(\n          (conv): Conv1d(32, 1, kernel_size=(7,), stride=(1,))\n        )\n      )\n    )\n    (quantizer): EncodecResidualVectorQuantizer(\n      (layers): ModuleList(\n        (0-31): 32 x EncodecVectorQuantization(\n          (codebook): EncodecEuclideanCodebook()\n        )\n      )\n    )\n  )\n)"
          },
          "metadata": {}
        }
      ]
    },
    {
      "cell_type": "code",
      "source": [
        "# Function to generate audio\n",
        "def generate_audio(text, preset, output):\n",
        "    inputs = processor(text, voice_preset=preset)\n",
        "    for k, v in inputs.items():\n",
        "        inputs[k] = v.to(\"cuda\")\n",
        "    audio_array = model.generate(**inputs)\n",
        "    audio_array = audio_array.cpu().numpy().squeeze()\n",
        "    sample_rate = model.generation_config.sample_rate\n",
        "    scipy.io.wavfile.write(output, rate=sample_rate, data=audio_array)\n",
        "    print(f\"Audio saved as {output}\")"
      ],
      "metadata": {
        "execution": {
          "iopub.status.busy": "2024-08-20T03:10:48.037241Z",
          "iopub.execute_input": "2024-08-20T03:10:48.037504Z",
          "iopub.status.idle": "2024-08-20T03:10:48.043554Z",
          "shell.execute_reply.started": "2024-08-20T03:10:48.037482Z",
          "shell.execute_reply": "2024-08-20T03:10:48.042623Z"
        },
        "trusted": true,
        "id": "91VKG9dtUQzg"
      },
      "execution_count": null,
      "outputs": []
    },
    {
      "cell_type": "code",
      "source": [
        "from IPython.display import display, HTML\n",
        "import ipywidgets as widgets\n",
        "import scipy.io.wavfile\n",
        "\n",
        "# Updated vibrant color palette\n",
        "colors = {\n",
        "    'background': '#1A1A2E',\n",
        "    'primary': '#16213E',\n",
        "    'secondary': '#0F3460',\n",
        "    'accent': '#E94E77',  # Vibrant pink\n",
        "    'text': '#FFA07A',    # Light Salmon (Warm Orange)\n",
        "    'header_text': '#4d4dff'  # Deep Sky Blue\n",
        "}\n",
        "\n",
        "# Custom styles and layout\n",
        "header_style = {\n",
        "    'color': colors['header_text'],\n",
        "    'font-size': '32px',\n",
        "    'font-weight': 'bold',\n",
        "    'text-align': 'center',\n",
        "    'margin-bottom': '30px',\n",
        "    'font-family': '\"Segoe UI\", Arial, sans-serif',\n",
        "    'text-shadow': '2px 2px 4px rgba(0,0,0,0.3)'\n",
        "}\n",
        "\n",
        "label_style = {\n",
        "    'padding-top': '10px',\n",
        "    'margin-bottom': '5px',\n",
        "    'font-weight': 'bold',\n",
        "    'color': colors['text'],  # Changed to light salmon\n",
        "    'font-family': '\"Segoe UI\", Arial, sans-serif',\n",
        "    'font-size': '16px'\n",
        "}\n",
        "\n",
        "widget_style = {\n",
        "    'margin-bottom': '15px'\n",
        "}\n",
        "\n",
        "input_style = {\n",
        "    'width': '100%',\n",
        "    'padding': '12px',\n",
        "    'border': 'none',\n",
        "    'background-color': colors['primary'],\n",
        "    'border-radius': '12px',\n",
        "    'font-family': '\"Segoe UI\", Arial, sans-serif',\n",
        "    'font-size': '14px',\n",
        "    'color': colors['text'],\n",
        "    'box-shadow': '0 4px 8px rgba(0, 0, 0, 0.2)'\n",
        "}\n",
        "\n",
        "# Text input for speech and non-speech text\n",
        "text_input = widgets.Textarea(\n",
        "    placeholder='Type your text here...',\n",
        "    layout=widgets.Layout(height='150px', **input_style),\n",
        "    style={'description_width': '0px'}\n",
        ")\n",
        "\n",
        "# Dropdown for selecting the voice preset\n",
        "preset_dropdown = widgets.Dropdown(\n",
        "    options=[\n",
        "        ('Speaker 9', 'v2/en_speaker_9'),\n",
        "        ('Speaker 0', 'v2/en_speaker_0'),\n",
        "        ('Speaker 1', 'v2/en_speaker_1'),\n",
        "        ('Speaker 2', 'v2/en_speaker_2')\n",
        "    ],\n",
        "    value='v2/en_speaker_9',\n",
        "    layout=widgets.Layout(**input_style),\n",
        "    style={'description_width': '0px'}\n",
        ")\n",
        "\n",
        "# Text input for the output filename\n",
        "output_filename = widgets.Text(\n",
        "    value='output.wav',\n",
        "    placeholder='output.wav',\n",
        "    layout=widgets.Layout(**input_style),\n",
        "    style={'description_width': '0px'}\n",
        ")\n",
        "\n",
        "# Dropdown for inserting non-speech sounds, music, and speaker bias\n",
        "non_speech_dropdown = widgets.Dropdown(\n",
        "    options=[\n",
        "        ('Laughter', '[laughter]'),\n",
        "        ('Laughs', '[laughs]'),\n",
        "        ('Sighs', '[sighs]'),\n",
        "        ('Music', '[music]'),\n",
        "        ('Gasps', '[gasps]'),\n",
        "        ('Clears Throat', '[clears throat]'),\n",
        "        ('Hesitation', '— or ...'),\n",
        "        ('Song Lyrics', '♪ for song lyrics ♪'),\n",
        "        ('Emphasis', 'CAPITALIZATION for emphasis'),\n",
        "        ('Man Bias', 'MAN:'),\n",
        "        ('Woman Bias', 'WOMAN:')\n",
        "    ],\n",
        "    value=None,\n",
        "    layout=widgets.Layout(**input_style),\n",
        "    style={'description_width': '100px'}\n",
        ")\n",
        "\n",
        "# Function to insert selected non-speech sound into text area\n",
        "def insert_non_speech(change):\n",
        "    if change['new']:\n",
        "        text_input.value += ' ' + change['new']\n",
        "        non_speech_dropdown.value = None  # Reset dropdown\n",
        "\n",
        "non_speech_dropdown.observe(insert_non_speech, names='value')\n",
        "\n",
        "# Generate button with centered text\n",
        "generate_button = widgets.Button(\n",
        "    description='Generate Audio',\n",
        "    tooltip='Click to generate audio',\n",
        "    icon='play',\n",
        "    layout=widgets.Layout(\n",
        "        width='70%',\n",
        "        height='50px',  # Ensure the button has a sufficient height\n",
        "        padding='0px',  # Remove extra padding\n",
        "        border_radius='25px',\n",
        "        margin='30px auto',\n",
        "        justify_content='center',  # Center the content\n",
        "        align_items='center',  # Align text in the middle\n",
        "        display='flex',  # Flexbox for centering content\n",
        "        background_color=colors['accent'],\n",
        "        color=colors['text'],\n",
        "        font_weight='bold',\n",
        "        font_size='18px',\n",
        "        box_shadow='0 6px 12px rgba(233, 78, 119, 0.4)'  # Adjusted to match new accent color\n",
        "    )\n",
        ")\n",
        "\n",
        "# Function to generate audio\n",
        "def generate_audio(text, preset, output):\n",
        "    inputs = processor(text, voice_preset=preset)\n",
        "    for k, v in inputs.items():\n",
        "        inputs[k] = v.to(\"cuda\")\n",
        "    audio_array = model.generate(**inputs)\n",
        "    audio_array = audio_array.cpu().numpy().squeeze()\n",
        "    sample_rate = model.generation_config.sample_rate\n",
        "    scipy.io.wavfile.write(output, rate=sample_rate, data=audio_array)\n",
        "    print(f\"Audio saved as {output}\")\n",
        "\n",
        "# Define the button click event\n",
        "def on_button_click(b):\n",
        "    # Generate audio using the provided function\n",
        "    generate_audio(text_input.value, preset_dropdown.value, output_filename.value)\n",
        "\n",
        "generate_button.on_click(on_button_click)\n",
        "\n",
        "# Stylish container with vibrant background and glow effect\n",
        "container = widgets.VBox([\n",
        "    widgets.HTML(value=\"<div style='{}'>🎧 Audio Generator</div>\".format(';'.join([f\"{k}: {v}\" for k, v in header_style.items()]))),\n",
        "    widgets.Label('Enter Text:', style=label_style),\n",
        "    text_input,\n",
        "    widgets.Label('Insert Non-Speech:', style=label_style),\n",
        "    non_speech_dropdown,\n",
        "    widgets.Label('Select Voice:', style=label_style),\n",
        "    preset_dropdown,\n",
        "    widgets.Label('Output Filename:', style=label_style),\n",
        "    output_filename,\n",
        "    generate_button\n",
        "], layout=widgets.Layout(\n",
        "    align_items='stretch',\n",
        "    padding='40px',\n",
        "    border='none',\n",
        "    border_radius='20px',\n",
        "    background_color=colors['background'],\n",
        "    box_shadow=f'0 0 30px {colors[\"secondary\"]}',\n",
        "    width='500px',\n",
        "    margin='0 auto'\n",
        "))\n",
        "\n",
        "# Add some custom CSS for better styling\n",
        "custom_css = f\"\"\"\n",
        "<style>\n",
        "body {{\n",
        "    background-color: {colors['primary']};\n",
        "}}\n",
        ".widget-label {{\n",
        "    font-weight: bold;\n",
        "    margin-bottom: 10px;\n",
        "    margin-top: 30px;\n",
        "    color: {colors['text']};  # Changed to light salmon\n",
        "    font-family: \"Segoe UI\", Arial, sans-serif;\n",
        "    font-size: 16px;\n",
        "}}\n",
        ".widget-dropdown > select {{\n",
        "    appearance: none;\n",
        "    -webkit-appearance: none;\n",
        "    padding-right: 25px;\n",
        "    background-image: url('data:image/svg+xml;charset=US-ASCII,<svg width=\"14\" height=\"14\" viewBox=\"0 0 14 14\" fill=\"none\" xmlns=\"http://www.w3.org/2000/svg\"><path d=\"M7 10L3 6H11L7 10Z\" fill=\"%23E94E77\"/></svg>');\n",
        "    background-repeat: no-repeat;\n",
        "    background-position: right 10px center;\n",
        "}}\n",
        ".widget-button:hover {{\n",
        "    background-color: #E87A8D !important;\n",
        "    transform: translateY(-2px);\n",
        "    transition: all 0.3s ease;\n",
        "}}\n",
        ".jupyter-widgets.widget-button:before {{\n",
        "    content: '';\n",
        "    position: absolute;\n",
        "    top: -2px;\n",
        "    left: -2px;\n",
        "    right: -2px;\n",
        "    bottom: -2px;\n",
        "    background: linear-gradient(45deg, #E94E77, #F8A5B8, #F8E1E0, #E94E77);\n",
        "    border-radius: 27px;\n",
        "    z-index: -1;\n",
        "    filter: blur(10px);\n",
        "    opacity: 0;\n",
        "    transition: opacity 0.3s ease;\n",
        "}}\n",
        ".jupyter-widgets.widget-button:hover:before {{\n",
        "    opacity: 1;\n",
        "}}\n",
        "</style>\n",
        "\"\"\"\n",
        "\n",
        "display(HTML(custom_css))\n",
        "display(container)"
      ],
      "metadata": {
        "execution": {
          "iopub.status.busy": "2024-08-20T04:02:08.361295Z",
          "iopub.execute_input": "2024-08-20T04:02:08.362250Z",
          "iopub.status.idle": "2024-08-20T04:02:08.440435Z",
          "shell.execute_reply.started": "2024-08-20T04:02:08.362209Z",
          "shell.execute_reply": "2024-08-20T04:02:08.439591Z"
        },
        "trusted": true,
        "id": "rjzx1ThiUQzg",
        "outputId": "3b8f9ebf-a7ab-4789-d4f7-9a954fbf7b26",
        "colab": {
          "referenced_widgets": [
            "3bb9a1e563f3484b9809c54330c98adb"
          ]
        }
      },
      "execution_count": null,
      "outputs": [
        {
          "output_type": "display_data",
          "data": {
            "text/plain": "<IPython.core.display.HTML object>",
            "text/html": "\n<style>\nbody {\n    background-color: #16213E;\n}\n.widget-label {\n    font-weight: bold;\n    margin-bottom: 10px;\n    margin-top: 30px;\n    color: #FFA07A;  # Changed to light salmon\n    font-family: \"Segoe UI\", Arial, sans-serif;\n    font-size: 16px;\n}\n.widget-dropdown > select {\n    appearance: none;\n    -webkit-appearance: none;\n    padding-right: 25px;\n    background-image: url('data:image/svg+xml;charset=US-ASCII,<svg width=\"14\" height=\"14\" viewBox=\"0 0 14 14\" fill=\"none\" xmlns=\"http://www.w3.org/2000/svg\"><path d=\"M7 10L3 6H11L7 10Z\" fill=\"%23E94E77\"/></svg>');\n    background-repeat: no-repeat;\n    background-position: right 10px center;\n}\n.widget-button:hover {\n    background-color: #E87A8D !important;\n    transform: translateY(-2px);\n    transition: all 0.3s ease;\n}\n.jupyter-widgets.widget-button:before {\n    content: '';\n    position: absolute;\n    top: -2px;\n    left: -2px;\n    right: -2px;\n    bottom: -2px;\n    background: linear-gradient(45deg, #E94E77, #F8A5B8, #F8E1E0, #E94E77);\n    border-radius: 27px;\n    z-index: -1;\n    filter: blur(10px);\n    opacity: 0;\n    transition: opacity 0.3s ease;\n}\n.jupyter-widgets.widget-button:hover:before {\n    opacity: 1;\n}\n</style>\n"
          },
          "metadata": {}
        },
        {
          "output_type": "display_data",
          "data": {
            "text/plain": "VBox(children=(HTML(value='<div style=\\'color: #4d4dff;font-size: 32px;font-weight: bold;text-align: center;ma…",
            "application/vnd.jupyter.widget-view+json": {
              "version_major": 2,
              "version_minor": 0,
              "model_id": "3bb9a1e563f3484b9809c54330c98adb"
            }
          },
          "metadata": {}
        }
      ]
    }
  ]
}