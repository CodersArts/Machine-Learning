{
 "cells": [
  {
   "cell_type": "code",
   "execution_count": 1,
   "id": "e639d025",
   "metadata": {
    "_cell_guid": "b1076dfc-b9ad-4769-8c92-a6c4dae69d19",
    "_uuid": "8f2839f25d086af736a60e9eeb907d3b93b6e0e5",
    "execution": {
     "iopub.execute_input": "2022-11-15T11:09:45.236976Z",
     "iopub.status.busy": "2022-11-15T11:09:45.236558Z",
     "iopub.status.idle": "2022-11-15T11:09:46.698680Z",
     "shell.execute_reply": "2022-11-15T11:09:46.697579Z"
    },
    "papermill": {
     "duration": 1.473583,
     "end_time": "2022-11-15T11:09:46.701501",
     "exception": false,
     "start_time": "2022-11-15T11:09:45.227918",
     "status": "completed"
    },
    "tags": []
   },
   "outputs": [
    {
     "name": "stdout",
     "output_type": "stream",
     "text": [
      "/kaggle/input/seoul-bike-sharing-demand-prediction/SeoulBikeData.csv\n"
     ]
    }
   ],
   "source": [
    "# This Python 3 environment comes with many helpful analytics libraries installed\n",
    "# It is defined by the kaggle/python Docker image: https://github.com/kaggle/docker-python\n",
    "# For example, here's several helpful packages to load\n",
    "\n",
    "import numpy as np\n",
    "import pandas as pd\n",
    "import matplotlib.pyplot as plt\n",
    "import seaborn as sns\n",
    "from sklearn.ensemble import RandomForestClassifier\n",
    "from sklearn.svm import SVC\n",
    "from sklearn.linear_model import LogisticRegression\n",
    "\n",
    "from sklearn.metrics import confusion_matrix\n",
    "from sklearn.preprocessing import StandardScaler,LabelEncoder\n",
    "from sklearn.model_selection import train_test_split,GridSearchCV,cross_val_score\n",
    "%matplotlib inline\n",
    "\n",
    "# Input data files are available in the read-only \"../input/\" directory\n",
    "# For example, running this (by clicking run or pressing Shift+Enter) will list all files under the input directory\n",
    "\n",
    "import os\n",
    "for dirname, _, filenames in os.walk('/kaggle/input'):\n",
    "    for filename in filenames:\n",
    "        print(os.path.join(dirname, filename))\n",
    "\n",
    "# You can write up to 20GB to the current directory (/kaggle/working/) that gets preserved as output when you create a version using \"Save & Run All\" \n",
    "# You can also write temporary files to /kaggle/temp/, but they won't be saved outside of the current session"
   ]
  },
  {
   "cell_type": "code",
   "execution_count": 2,
   "id": "dd2152dc",
   "metadata": {
    "execution": {
     "iopub.execute_input": "2022-11-15T11:09:46.714683Z",
     "iopub.status.busy": "2022-11-15T11:09:46.714409Z",
     "iopub.status.idle": "2022-11-15T11:09:46.772327Z",
     "shell.execute_reply": "2022-11-15T11:09:46.771260Z"
    },
    "papermill": {
     "duration": 0.067578,
     "end_time": "2022-11-15T11:09:46.775144",
     "exception": false,
     "start_time": "2022-11-15T11:09:46.707566",
     "status": "completed"
    },
    "tags": []
   },
   "outputs": [
    {
     "data": {
      "text/html": [
       "<div>\n",
       "<style scoped>\n",
       "    .dataframe tbody tr th:only-of-type {\n",
       "        vertical-align: middle;\n",
       "    }\n",
       "\n",
       "    .dataframe tbody tr th {\n",
       "        vertical-align: top;\n",
       "    }\n",
       "\n",
       "    .dataframe thead th {\n",
       "        text-align: right;\n",
       "    }\n",
       "</style>\n",
       "<table border=\"1\" class=\"dataframe\">\n",
       "  <thead>\n",
       "    <tr style=\"text-align: right;\">\n",
       "      <th></th>\n",
       "      <th>Date</th>\n",
       "      <th>Rented Bike Count</th>\n",
       "      <th>Hour</th>\n",
       "      <th>Temperature(°C)</th>\n",
       "      <th>Humidity(%)</th>\n",
       "      <th>Wind speed (m/s)</th>\n",
       "      <th>Visibility (10m)</th>\n",
       "      <th>Dew point temperature(°C)</th>\n",
       "      <th>Solar Radiation (MJ/m2)</th>\n",
       "      <th>Rainfall(mm)</th>\n",
       "      <th>Snowfall (cm)</th>\n",
       "      <th>Seasons</th>\n",
       "      <th>Holiday</th>\n",
       "      <th>Functioning Day</th>\n",
       "    </tr>\n",
       "  </thead>\n",
       "  <tbody>\n",
       "    <tr>\n",
       "      <th>0</th>\n",
       "      <td>01/12/2017</td>\n",
       "      <td>254</td>\n",
       "      <td>0</td>\n",
       "      <td>-5.2</td>\n",
       "      <td>37</td>\n",
       "      <td>2.2</td>\n",
       "      <td>2000</td>\n",
       "      <td>-17.6</td>\n",
       "      <td>0.0</td>\n",
       "      <td>0.0</td>\n",
       "      <td>0.0</td>\n",
       "      <td>Winter</td>\n",
       "      <td>No Holiday</td>\n",
       "      <td>Yes</td>\n",
       "    </tr>\n",
       "    <tr>\n",
       "      <th>1</th>\n",
       "      <td>01/12/2017</td>\n",
       "      <td>204</td>\n",
       "      <td>1</td>\n",
       "      <td>-5.5</td>\n",
       "      <td>38</td>\n",
       "      <td>0.8</td>\n",
       "      <td>2000</td>\n",
       "      <td>-17.6</td>\n",
       "      <td>0.0</td>\n",
       "      <td>0.0</td>\n",
       "      <td>0.0</td>\n",
       "      <td>Winter</td>\n",
       "      <td>No Holiday</td>\n",
       "      <td>Yes</td>\n",
       "    </tr>\n",
       "    <tr>\n",
       "      <th>2</th>\n",
       "      <td>01/12/2017</td>\n",
       "      <td>173</td>\n",
       "      <td>2</td>\n",
       "      <td>-6.0</td>\n",
       "      <td>39</td>\n",
       "      <td>1.0</td>\n",
       "      <td>2000</td>\n",
       "      <td>-17.7</td>\n",
       "      <td>0.0</td>\n",
       "      <td>0.0</td>\n",
       "      <td>0.0</td>\n",
       "      <td>Winter</td>\n",
       "      <td>No Holiday</td>\n",
       "      <td>Yes</td>\n",
       "    </tr>\n",
       "    <tr>\n",
       "      <th>3</th>\n",
       "      <td>01/12/2017</td>\n",
       "      <td>107</td>\n",
       "      <td>3</td>\n",
       "      <td>-6.2</td>\n",
       "      <td>40</td>\n",
       "      <td>0.9</td>\n",
       "      <td>2000</td>\n",
       "      <td>-17.6</td>\n",
       "      <td>0.0</td>\n",
       "      <td>0.0</td>\n",
       "      <td>0.0</td>\n",
       "      <td>Winter</td>\n",
       "      <td>No Holiday</td>\n",
       "      <td>Yes</td>\n",
       "    </tr>\n",
       "    <tr>\n",
       "      <th>4</th>\n",
       "      <td>01/12/2017</td>\n",
       "      <td>78</td>\n",
       "      <td>4</td>\n",
       "      <td>-6.0</td>\n",
       "      <td>36</td>\n",
       "      <td>2.3</td>\n",
       "      <td>2000</td>\n",
       "      <td>-18.6</td>\n",
       "      <td>0.0</td>\n",
       "      <td>0.0</td>\n",
       "      <td>0.0</td>\n",
       "      <td>Winter</td>\n",
       "      <td>No Holiday</td>\n",
       "      <td>Yes</td>\n",
       "    </tr>\n",
       "  </tbody>\n",
       "</table>\n",
       "</div>"
      ],
      "text/plain": [
       "         Date  Rented Bike Count  Hour  Temperature(°C)  Humidity(%)  \\\n",
       "0  01/12/2017                254     0             -5.2           37   \n",
       "1  01/12/2017                204     1             -5.5           38   \n",
       "2  01/12/2017                173     2             -6.0           39   \n",
       "3  01/12/2017                107     3             -6.2           40   \n",
       "4  01/12/2017                 78     4             -6.0           36   \n",
       "\n",
       "   Wind speed (m/s)  Visibility (10m)  Dew point temperature(°C)  \\\n",
       "0               2.2              2000                      -17.6   \n",
       "1               0.8              2000                      -17.6   \n",
       "2               1.0              2000                      -17.7   \n",
       "3               0.9              2000                      -17.6   \n",
       "4               2.3              2000                      -18.6   \n",
       "\n",
       "   Solar Radiation (MJ/m2)  Rainfall(mm)  Snowfall (cm) Seasons     Holiday  \\\n",
       "0                      0.0           0.0            0.0  Winter  No Holiday   \n",
       "1                      0.0           0.0            0.0  Winter  No Holiday   \n",
       "2                      0.0           0.0            0.0  Winter  No Holiday   \n",
       "3                      0.0           0.0            0.0  Winter  No Holiday   \n",
       "4                      0.0           0.0            0.0  Winter  No Holiday   \n",
       "\n",
       "  Functioning Day  \n",
       "0             Yes  \n",
       "1             Yes  \n",
       "2             Yes  \n",
       "3             Yes  \n",
       "4             Yes  "
      ]
     },
     "execution_count": 2,
     "metadata": {},
     "output_type": "execute_result"
    }
   ],
   "source": [
    "df = pd.read_csv('../input/seoul-bike-sharing-demand-prediction/SeoulBikeData.csv',encoding='unicode_escape')\n",
    "df.head(5)"
   ]
  },
  {
   "cell_type": "code",
   "execution_count": 3,
   "id": "6ab1d5b6",
   "metadata": {
    "execution": {
     "iopub.execute_input": "2022-11-15T11:09:46.789028Z",
     "iopub.status.busy": "2022-11-15T11:09:46.788757Z",
     "iopub.status.idle": "2022-11-15T11:09:46.794767Z",
     "shell.execute_reply": "2022-11-15T11:09:46.793936Z"
    },
    "papermill": {
     "duration": 0.014983,
     "end_time": "2022-11-15T11:09:46.796744",
     "exception": false,
     "start_time": "2022-11-15T11:09:46.781761",
     "status": "completed"
    },
    "tags": []
   },
   "outputs": [],
   "source": [
    "df.columns=df.columns.str.replace(' ',\"_\")"
   ]
  },
  {
   "cell_type": "code",
   "execution_count": 4,
   "id": "4059bc45",
   "metadata": {
    "execution": {
     "iopub.execute_input": "2022-11-15T11:09:46.810398Z",
     "iopub.status.busy": "2022-11-15T11:09:46.810082Z",
     "iopub.status.idle": "2022-11-15T11:09:46.827777Z",
     "shell.execute_reply": "2022-11-15T11:09:46.826765Z"
    },
    "papermill": {
     "duration": 0.027078,
     "end_time": "2022-11-15T11:09:46.830001",
     "exception": false,
     "start_time": "2022-11-15T11:09:46.802923",
     "status": "completed"
    },
    "tags": []
   },
   "outputs": [
    {
     "data": {
      "text/html": [
       "<div>\n",
       "<style scoped>\n",
       "    .dataframe tbody tr th:only-of-type {\n",
       "        vertical-align: middle;\n",
       "    }\n",
       "\n",
       "    .dataframe tbody tr th {\n",
       "        vertical-align: top;\n",
       "    }\n",
       "\n",
       "    .dataframe thead th {\n",
       "        text-align: right;\n",
       "    }\n",
       "</style>\n",
       "<table border=\"1\" class=\"dataframe\">\n",
       "  <thead>\n",
       "    <tr style=\"text-align: right;\">\n",
       "      <th></th>\n",
       "      <th>Date</th>\n",
       "      <th>Rented_Bike_Count</th>\n",
       "      <th>Hour</th>\n",
       "      <th>Temperature(°C)</th>\n",
       "      <th>Humidity(%)</th>\n",
       "      <th>Wind_speed_(m/s)</th>\n",
       "      <th>Visibility_(10m)</th>\n",
       "      <th>Dew_point_temperature(°C)</th>\n",
       "      <th>Solar_Radiation_(MJ/m2)</th>\n",
       "      <th>Rainfall(mm)</th>\n",
       "      <th>Snowfall_(cm)</th>\n",
       "      <th>Seasons</th>\n",
       "      <th>Holiday</th>\n",
       "      <th>Functioning_Day</th>\n",
       "    </tr>\n",
       "  </thead>\n",
       "  <tbody>\n",
       "    <tr>\n",
       "      <th>0</th>\n",
       "      <td>01/12/2017</td>\n",
       "      <td>254</td>\n",
       "      <td>0</td>\n",
       "      <td>-5.2</td>\n",
       "      <td>37</td>\n",
       "      <td>2.2</td>\n",
       "      <td>2000</td>\n",
       "      <td>-17.6</td>\n",
       "      <td>0.0</td>\n",
       "      <td>0.0</td>\n",
       "      <td>0.0</td>\n",
       "      <td>Winter</td>\n",
       "      <td>No Holiday</td>\n",
       "      <td>Yes</td>\n",
       "    </tr>\n",
       "    <tr>\n",
       "      <th>1</th>\n",
       "      <td>01/12/2017</td>\n",
       "      <td>204</td>\n",
       "      <td>1</td>\n",
       "      <td>-5.5</td>\n",
       "      <td>38</td>\n",
       "      <td>0.8</td>\n",
       "      <td>2000</td>\n",
       "      <td>-17.6</td>\n",
       "      <td>0.0</td>\n",
       "      <td>0.0</td>\n",
       "      <td>0.0</td>\n",
       "      <td>Winter</td>\n",
       "      <td>No Holiday</td>\n",
       "      <td>Yes</td>\n",
       "    </tr>\n",
       "  </tbody>\n",
       "</table>\n",
       "</div>"
      ],
      "text/plain": [
       "         Date  Rented_Bike_Count  Hour  Temperature(°C)  Humidity(%)  \\\n",
       "0  01/12/2017                254     0             -5.2           37   \n",
       "1  01/12/2017                204     1             -5.5           38   \n",
       "\n",
       "   Wind_speed_(m/s)  Visibility_(10m)  Dew_point_temperature(°C)  \\\n",
       "0               2.2              2000                      -17.6   \n",
       "1               0.8              2000                      -17.6   \n",
       "\n",
       "   Solar_Radiation_(MJ/m2)  Rainfall(mm)  Snowfall_(cm) Seasons     Holiday  \\\n",
       "0                      0.0           0.0            0.0  Winter  No Holiday   \n",
       "1                      0.0           0.0            0.0  Winter  No Holiday   \n",
       "\n",
       "  Functioning_Day  \n",
       "0             Yes  \n",
       "1             Yes  "
      ]
     },
     "execution_count": 4,
     "metadata": {},
     "output_type": "execute_result"
    }
   ],
   "source": [
    "df.head(2)"
   ]
  },
  {
   "cell_type": "code",
   "execution_count": 5,
   "id": "2caf788e",
   "metadata": {
    "execution": {
     "iopub.execute_input": "2022-11-15T11:09:46.843630Z",
     "iopub.status.busy": "2022-11-15T11:09:46.843375Z",
     "iopub.status.idle": "2022-11-15T11:09:46.854190Z",
     "shell.execute_reply": "2022-11-15T11:09:46.853212Z"
    },
    "papermill": {
     "duration": 0.019525,
     "end_time": "2022-11-15T11:09:46.856055",
     "exception": false,
     "start_time": "2022-11-15T11:09:46.836530",
     "status": "completed"
    },
    "tags": []
   },
   "outputs": [
    {
     "data": {
      "text/plain": [
       "Date                         0\n",
       "Rented_Bike_Count            0\n",
       "Hour                         0\n",
       "Temperature(°C)              0\n",
       "Humidity(%)                  0\n",
       "Wind_speed_(m/s)             0\n",
       "Visibility_(10m)             0\n",
       "Dew_point_temperature(°C)    0\n",
       "Solar_Radiation_(MJ/m2)      0\n",
       "Rainfall(mm)                 0\n",
       "Snowfall_(cm)                0\n",
       "Seasons                      0\n",
       "Holiday                      0\n",
       "Functioning_Day              0\n",
       "dtype: int64"
      ]
     },
     "execution_count": 5,
     "metadata": {},
     "output_type": "execute_result"
    }
   ],
   "source": [
    "df.isnull().sum()"
   ]
  },
  {
   "cell_type": "code",
   "execution_count": 6,
   "id": "26796745",
   "metadata": {
    "execution": {
     "iopub.execute_input": "2022-11-15T11:09:46.871577Z",
     "iopub.status.busy": "2022-11-15T11:09:46.870694Z",
     "iopub.status.idle": "2022-11-15T11:09:46.910812Z",
     "shell.execute_reply": "2022-11-15T11:09:46.909582Z"
    },
    "papermill": {
     "duration": 0.049444,
     "end_time": "2022-11-15T11:09:46.913188",
     "exception": false,
     "start_time": "2022-11-15T11:09:46.863744",
     "status": "completed"
    },
    "tags": []
   },
   "outputs": [
    {
     "data": {
      "text/plain": [
       "Date        Rented_Bike_Count  Hour  Temperature(°C)  Humidity(%)  Wind_speed_(m/s)  Visibility_(10m)  Dew_point_temperature(°C)  Solar_Radiation_(MJ/m2)  Rainfall(mm)  Snowfall_(cm)  Seasons  Holiday     Functioning_Day\n",
       "01/01/2018  61                 5     -4.4             54           0.8               1786              -12.3                      0.00                     0.0           0.0            Winter   Holiday     Yes                1\n",
       "21/04/2018  707                0      16.3            59           0.2               756                8.2                       0.00                     0.0           0.0            Spring   No Holiday  Yes                1\n",
       "            324                7      12.5            68           1.1               457                6.7                       0.22                     0.0           0.0            Spring   No Holiday  Yes                1\n",
       "            436                2      14.7            63           1.8               611                7.7                       0.00                     0.0           0.0            Spring   No Holiday  Yes                1\n",
       "            600                8      14.6            54           0.9               431                5.3                       0.89                     0.0           0.0            Spring   No Holiday  Yes                1\n",
       "                                                                                                                                                                                                                               ..\n",
       "11/02/2018  112                0     -6.9             36           2.1               2000              -19.5                      0.00                     0.0           0.0            Winter   No Holiday  Yes                1\n",
       "            103                22    -5.8             57           3.2               1980              -12.9                      0.00                     0.0           0.0            Winter   No Holiday  Yes                1\n",
       "            95                 1     -7.0             38           2.6               2000              -18.9                      0.00                     0.0           0.0            Winter   No Holiday  Yes                1\n",
       "            93                 2     -7.0             42           1.6               2000              -17.7                      0.00                     0.0           0.0            Winter   No Holiday  Yes                1\n",
       "31/12/2017  300                15     3.1             25           3.9               2000              -15.0                      0.90                     0.0           0.0            Winter   Holiday     Yes                1\n",
       "Length: 8760, dtype: int64"
      ]
     },
     "execution_count": 6,
     "metadata": {},
     "output_type": "execute_result"
    }
   ],
   "source": [
    "df.value_counts()"
   ]
  },
  {
   "cell_type": "code",
   "execution_count": 7,
   "id": "29375578",
   "metadata": {
    "execution": {
     "iopub.execute_input": "2022-11-15T11:09:46.928323Z",
     "iopub.status.busy": "2022-11-15T11:09:46.928049Z",
     "iopub.status.idle": "2022-11-15T11:09:46.936696Z",
     "shell.execute_reply": "2022-11-15T11:09:46.935777Z"
    },
    "papermill": {
     "duration": 0.018213,
     "end_time": "2022-11-15T11:09:46.938605",
     "exception": false,
     "start_time": "2022-11-15T11:09:46.920392",
     "status": "completed"
    },
    "tags": []
   },
   "outputs": [
    {
     "data": {
      "text/plain": [
       "0       295\n",
       "122      19\n",
       "223      19\n",
       "262      19\n",
       "165      18\n",
       "       ... \n",
       "2096      1\n",
       "2440      1\n",
       "1600      1\n",
       "3384      1\n",
       "595       1\n",
       "Name: Rented_Bike_Count, Length: 2166, dtype: int64"
      ]
     },
     "execution_count": 7,
     "metadata": {},
     "output_type": "execute_result"
    }
   ],
   "source": [
    "df['Rented_Bike_Count'].value_counts()"
   ]
  },
  {
   "cell_type": "code",
   "execution_count": 8,
   "id": "2779781b",
   "metadata": {
    "execution": {
     "iopub.execute_input": "2022-11-15T11:09:46.953066Z",
     "iopub.status.busy": "2022-11-15T11:09:46.952212Z",
     "iopub.status.idle": "2022-11-15T11:09:46.958709Z",
     "shell.execute_reply": "2022-11-15T11:09:46.957711Z"
    },
    "papermill": {
     "duration": 0.015776,
     "end_time": "2022-11-15T11:09:46.960787",
     "exception": false,
     "start_time": "2022-11-15T11:09:46.945011",
     "status": "completed"
    },
    "tags": []
   },
   "outputs": [
    {
     "data": {
      "text/plain": [
       "3556"
      ]
     },
     "execution_count": 8,
     "metadata": {},
     "output_type": "execute_result"
    }
   ],
   "source": [
    "df['Rented_Bike_Count'].max()"
   ]
  },
  {
   "cell_type": "code",
   "execution_count": 9,
   "id": "93f266bd",
   "metadata": {
    "execution": {
     "iopub.execute_input": "2022-11-15T11:09:46.975653Z",
     "iopub.status.busy": "2022-11-15T11:09:46.974851Z",
     "iopub.status.idle": "2022-11-15T11:09:46.980849Z",
     "shell.execute_reply": "2022-11-15T11:09:46.979873Z"
    },
    "papermill": {
     "duration": 0.015174,
     "end_time": "2022-11-15T11:09:46.982811",
     "exception": false,
     "start_time": "2022-11-15T11:09:46.967637",
     "status": "completed"
    },
    "tags": []
   },
   "outputs": [
    {
     "data": {
      "text/plain": [
       "0"
      ]
     },
     "execution_count": 9,
     "metadata": {},
     "output_type": "execute_result"
    }
   ],
   "source": [
    "df['Rented_Bike_Count'].min()"
   ]
  },
  {
   "cell_type": "code",
   "execution_count": 10,
   "id": "79c3f75f",
   "metadata": {
    "execution": {
     "iopub.execute_input": "2022-11-15T11:09:46.998082Z",
     "iopub.status.busy": "2022-11-15T11:09:46.997192Z",
     "iopub.status.idle": "2022-11-15T11:09:47.006059Z",
     "shell.execute_reply": "2022-11-15T11:09:47.004992Z"
    },
    "papermill": {
     "duration": 0.019255,
     "end_time": "2022-11-15T11:09:47.008668",
     "exception": false,
     "start_time": "2022-11-15T11:09:46.989413",
     "status": "completed"
    },
    "tags": []
   },
   "outputs": [
    {
     "data": {
      "text/plain": [
       "504.5"
      ]
     },
     "execution_count": 10,
     "metadata": {},
     "output_type": "execute_result"
    }
   ],
   "source": [
    "df['Rented_Bike_Count'].median()"
   ]
  },
  {
   "cell_type": "code",
   "execution_count": 11,
   "id": "2459a993",
   "metadata": {
    "execution": {
     "iopub.execute_input": "2022-11-15T11:09:47.025736Z",
     "iopub.status.busy": "2022-11-15T11:09:47.025467Z",
     "iopub.status.idle": "2022-11-15T11:09:47.178069Z",
     "shell.execute_reply": "2022-11-15T11:09:47.177150Z"
    },
    "papermill": {
     "duration": 0.1632,
     "end_time": "2022-11-15T11:09:47.180391",
     "exception": false,
     "start_time": "2022-11-15T11:09:47.017191",
     "status": "completed"
    },
    "tags": []
   },
   "outputs": [],
   "source": [
    "def countsplit(df):\n",
    "    for i in range (8760):\n",
    "        if df.at[i,'Rented_Bike_Count']<400:\n",
    "            df.at[i,'Rented_Bike_Count']=0\n",
    "        elif df.at[i,'Rented_Bike_Count']>1000:\n",
    "            df.at[i,'Rented_Bike_Count']=2\n",
    "        else:\n",
    "            df.at[i,'Rented_Bike_Count']=1\n",
    "countsplit(df)"
   ]
  },
  {
   "cell_type": "code",
   "execution_count": 12,
   "id": "a6bc51a7",
   "metadata": {
    "execution": {
     "iopub.execute_input": "2022-11-15T11:09:47.211846Z",
     "iopub.status.busy": "2022-11-15T11:09:47.211085Z",
     "iopub.status.idle": "2022-11-15T11:09:47.220684Z",
     "shell.execute_reply": "2022-11-15T11:09:47.219684Z"
    },
    "papermill": {
     "duration": 0.03134,
     "end_time": "2022-11-15T11:09:47.227029",
     "exception": false,
     "start_time": "2022-11-15T11:09:47.195689",
     "status": "completed"
    },
    "tags": []
   },
   "outputs": [
    {
     "data": {
      "text/plain": [
       "0    3902\n",
       "1    2440\n",
       "2    2418\n",
       "Name: Rented_Bike_Count, dtype: int64"
      ]
     },
     "execution_count": 12,
     "metadata": {},
     "output_type": "execute_result"
    }
   ],
   "source": [
    "df['Rented_Bike_Count'].value_counts()"
   ]
  },
  {
   "cell_type": "code",
   "execution_count": 13,
   "id": "6b3f88c8",
   "metadata": {
    "execution": {
     "iopub.execute_input": "2022-11-15T11:09:47.252443Z",
     "iopub.status.busy": "2022-11-15T11:09:47.251733Z",
     "iopub.status.idle": "2022-11-15T11:09:47.851638Z",
     "shell.execute_reply": "2022-11-15T11:09:47.846975Z"
    },
    "papermill": {
     "duration": 0.615553,
     "end_time": "2022-11-15T11:09:47.853730",
     "exception": false,
     "start_time": "2022-11-15T11:09:47.238177",
     "status": "completed"
    },
    "tags": []
   },
   "outputs": [
    {
     "data": {
      "text/plain": [
       "<AxesSubplot:xlabel='Rented_Bike_Count', ylabel='Temperature(°C)'>"
      ]
     },
     "execution_count": 13,
     "metadata": {},
     "output_type": "execute_result"
    },
    {
     "data": {
      "image/png": "[encoded data removed]",
      "text/plain": [
       "<Figure size 1440x720 with 1 Axes>"
      ]
     },
     "metadata": {
      "needs_background": "light"
     },
     "output_type": "display_data"
    }
   ],
   "source": [
    "fig,ax = plt.subplots(figsize=(20,10))\n",
    "sns.barplot(x='Rented_Bike_Count',y='Temperature(°C)',data=df,ax=ax)"
   ]
  },
  {
   "cell_type": "code",
   "execution_count": 14,
   "id": "591879b4",
   "metadata": {
    "execution": {
     "iopub.execute_input": "2022-11-15T11:09:47.878928Z",
     "iopub.status.busy": "2022-11-15T11:09:47.878423Z",
     "iopub.status.idle": "2022-11-15T11:09:47.884648Z",
     "shell.execute_reply": "2022-11-15T11:09:47.882892Z"
    },
    "papermill": {
     "duration": 0.021916,
     "end_time": "2022-11-15T11:09:47.887530",
     "exception": false,
     "start_time": "2022-11-15T11:09:47.865614",
     "status": "completed"
    },
    "tags": []
   },
   "outputs": [],
   "source": [
    "l = LabelEncoder()"
   ]
  },
  {
   "cell_type": "code",
   "execution_count": 15,
   "id": "64033820",
   "metadata": {
    "execution": {
     "iopub.execute_input": "2022-11-15T11:09:47.911776Z",
     "iopub.status.busy": "2022-11-15T11:09:47.911291Z",
     "iopub.status.idle": "2022-11-15T11:09:47.934865Z",
     "shell.execute_reply": "2022-11-15T11:09:47.934000Z"
    },
    "papermill": {
     "duration": 0.038033,
     "end_time": "2022-11-15T11:09:47.937097",
     "exception": false,
     "start_time": "2022-11-15T11:09:47.899064",
     "status": "completed"
    },
    "tags": []
   },
   "outputs": [],
   "source": [
    "df['Date']=l.fit_transform(df['Date'])\n",
    "df['Seasons']=l.fit_transform(df['Seasons'])\n",
    "df['Holiday']=l.fit_transform(df['Holiday'])\n",
    "df['Functioning_Day']=l.fit_transform(df['Functioning_Day'])"
   ]
  },
  {
   "cell_type": "code",
   "execution_count": 16,
   "id": "7a0ed0c0",
   "metadata": {
    "execution": {
     "iopub.execute_input": "2022-11-15T11:09:47.961347Z",
     "iopub.status.busy": "2022-11-15T11:09:47.960742Z",
     "iopub.status.idle": "2022-11-15T11:09:47.969071Z",
     "shell.execute_reply": "2022-11-15T11:09:47.968251Z"
    },
    "papermill": {
     "duration": 0.023849,
     "end_time": "2022-11-15T11:09:47.971634",
     "exception": false,
     "start_time": "2022-11-15T11:09:47.947785",
     "status": "completed"
    },
    "tags": []
   },
   "outputs": [],
   "source": [
    "x=df.drop(['Rented_Bike_Count'],axis=1)\n",
    "y=df['Rented_Bike_Count']"
   ]
  },
  {
   "cell_type": "code",
   "execution_count": 17,
   "id": "9bc1ccca",
   "metadata": {
    "execution": {
     "iopub.execute_input": "2022-11-15T11:09:47.994168Z",
     "iopub.status.busy": "2022-11-15T11:09:47.993853Z",
     "iopub.status.idle": "2022-11-15T11:09:48.002701Z",
     "shell.execute_reply": "2022-11-15T11:09:48.001915Z"
    },
    "papermill": {
     "duration": 0.022872,
     "end_time": "2022-11-15T11:09:48.005173",
     "exception": false,
     "start_time": "2022-11-15T11:09:47.982301",
     "status": "completed"
    },
    "tags": []
   },
   "outputs": [],
   "source": [
    "xtrain,xtest,ytrain,ytest = train_test_split(x,y,test_size=0.2,random_state=42)"
   ]
  },
  {
   "cell_type": "code",
   "execution_count": 18,
   "id": "6ae4b18c",
   "metadata": {
    "execution": {
     "iopub.execute_input": "2022-11-15T11:09:48.027449Z",
     "iopub.status.busy": "2022-11-15T11:09:48.027093Z",
     "iopub.status.idle": "2022-11-15T11:09:48.042856Z",
     "shell.execute_reply": "2022-11-15T11:09:48.042089Z"
    },
    "papermill": {
     "duration": 0.029473,
     "end_time": "2022-11-15T11:09:48.045322",
     "exception": false,
     "start_time": "2022-11-15T11:09:48.015849",
     "status": "completed"
    },
    "tags": []
   },
   "outputs": [],
   "source": [
    "sc = StandardScaler()\n",
    "xtrain=sc.fit_transform(xtrain)\n",
    "xtest=sc.fit_transform(xtest)"
   ]
  },
  {
   "cell_type": "markdown",
   "id": "6332f813",
   "metadata": {
    "papermill": {
     "duration": 0.011491,
     "end_time": "2022-11-15T11:09:48.068011",
     "exception": false,
     "start_time": "2022-11-15T11:09:48.056520",
     "status": "completed"
    },
    "tags": []
   },
   "source": [
    "Random forest Classifier"
   ]
  },
  {
   "cell_type": "code",
   "execution_count": 19,
   "id": "45d6f526",
   "metadata": {
    "execution": {
     "iopub.execute_input": "2022-11-15T11:09:48.092714Z",
     "iopub.status.busy": "2022-11-15T11:09:48.092394Z",
     "iopub.status.idle": "2022-11-15T11:09:48.096826Z",
     "shell.execute_reply": "2022-11-15T11:09:48.095812Z"
    },
    "papermill": {
     "duration": 0.021796,
     "end_time": "2022-11-15T11:09:48.101234",
     "exception": false,
     "start_time": "2022-11-15T11:09:48.079438",
     "status": "completed"
    },
    "tags": []
   },
   "outputs": [],
   "source": [
    "rfc = RandomForestClassifier(n_estimators=200)"
   ]
  },
  {
   "cell_type": "code",
   "execution_count": 20,
   "id": "33f1e7dc",
   "metadata": {
    "execution": {
     "iopub.execute_input": "2022-11-15T11:09:48.126056Z",
     "iopub.status.busy": "2022-11-15T11:09:48.125735Z",
     "iopub.status.idle": "2022-11-15T11:09:50.176914Z",
     "shell.execute_reply": "2022-11-15T11:09:50.175994Z"
    },
    "papermill": {
     "duration": 2.065932,
     "end_time": "2022-11-15T11:09:50.179019",
     "exception": false,
     "start_time": "2022-11-15T11:09:48.113087",
     "status": "completed"
    },
    "tags": []
   },
   "outputs": [
    {
     "data": {
      "text/plain": [
       "RandomForestClassifier(n_estimators=200)"
      ]
     },
     "execution_count": 20,
     "metadata": {},
     "output_type": "execute_result"
    }
   ],
   "source": [
    "rfc.fit(xtrain,ytrain)"
   ]
  },
  {
   "cell_type": "code",
   "execution_count": 21,
   "id": "2c226c4d",
   "metadata": {
    "execution": {
     "iopub.execute_input": "2022-11-15T11:09:50.195151Z",
     "iopub.status.busy": "2022-11-15T11:09:50.194851Z",
     "iopub.status.idle": "2022-11-15T11:09:50.304505Z",
     "shell.execute_reply": "2022-11-15T11:09:50.303552Z"
    },
    "papermill": {
     "duration": 0.119803,
     "end_time": "2022-11-15T11:09:50.306399",
     "exception": false,
     "start_time": "2022-11-15T11:09:50.186596",
     "status": "completed"
    },
    "tags": []
   },
   "outputs": [
    {
     "data": {
      "text/plain": [
       "0.8538812785388128"
      ]
     },
     "execution_count": 21,
     "metadata": {},
     "output_type": "execute_result"
    }
   ],
   "source": [
    "rfc.score(xtest,ytest)"
   ]
  },
  {
   "cell_type": "markdown",
   "id": "53281c6b",
   "metadata": {
    "papermill": {
     "duration": 0.008198,
     "end_time": "2022-11-15T11:09:50.322249",
     "exception": false,
     "start_time": "2022-11-15T11:09:50.314051",
     "status": "completed"
    },
    "tags": []
   },
   "source": [
    "SVM"
   ]
  },
  {
   "cell_type": "code",
   "execution_count": 22,
   "id": "2faec818",
   "metadata": {
    "execution": {
     "iopub.execute_input": "2022-11-15T11:09:50.340048Z",
     "iopub.status.busy": "2022-11-15T11:09:50.338285Z",
     "iopub.status.idle": "2022-11-15T11:09:50.343445Z",
     "shell.execute_reply": "2022-11-15T11:09:50.342574Z"
    },
    "papermill": {
     "duration": 0.015849,
     "end_time": "2022-11-15T11:09:50.345631",
     "exception": false,
     "start_time": "2022-11-15T11:09:50.329782",
     "status": "completed"
    },
    "tags": []
   },
   "outputs": [],
   "source": [
    "sv = SVC()"
   ]
  },
  {
   "cell_type": "code",
   "execution_count": 23,
   "id": "372d7971",
   "metadata": {
    "execution": {
     "iopub.execute_input": "2022-11-15T11:09:50.361828Z",
     "iopub.status.busy": "2022-11-15T11:09:50.361027Z",
     "iopub.status.idle": "2022-11-15T11:09:52.414265Z",
     "shell.execute_reply": "2022-11-15T11:09:52.413161Z"
    },
    "papermill": {
     "duration": 2.06353,
     "end_time": "2022-11-15T11:09:52.416432",
     "exception": false,
     "start_time": "2022-11-15T11:09:50.352902",
     "status": "completed"
    },
    "tags": []
   },
   "outputs": [
    {
     "data": {
      "text/plain": [
       "0.785958904109589"
      ]
     },
     "execution_count": 23,
     "metadata": {},
     "output_type": "execute_result"
    }
   ],
   "source": [
    "sv.fit(xtrain,ytrain)\n",
    "sv.score(xtest,ytest)"
   ]
  },
  {
   "cell_type": "code",
   "execution_count": 24,
   "id": "51c14a96",
   "metadata": {
    "execution": {
     "iopub.execute_input": "2022-11-15T11:09:52.433674Z",
     "iopub.status.busy": "2022-11-15T11:09:52.432894Z",
     "iopub.status.idle": "2022-11-15T11:09:52.439131Z",
     "shell.execute_reply": "2022-11-15T11:09:52.438171Z"
    },
    "papermill": {
     "duration": 0.016742,
     "end_time": "2022-11-15T11:09:52.441463",
     "exception": false,
     "start_time": "2022-11-15T11:09:52.424721",
     "status": "completed"
    },
    "tags": []
   },
   "outputs": [
    {
     "data": {
      "text/plain": [
       "\"model = GridSearchCV(sv,{\\n    'C':[0.1,0.4,0.8,1.0,2.0],\\n    'gamma':[0.1,0.4,0.8,1.0,2.0],\\n    'kernel':['rbf','linear']\\n},scoring='accuracy',cv=10)\""
      ]
     },
     "execution_count": 24,
     "metadata": {},
     "output_type": "execute_result"
    }
   ],
   "source": [
    "\"\"\"model = GridSearchCV(sv,{\n",
    "    'C':[0.1,0.4,0.8,1.0,2.0],\n",
    "    'gamma':[0.1,0.4,0.8,1.0,2.0],\n",
    "    'kernel':['rbf','linear']\n",
    "},scoring='accuracy',cv=10)\"\"\""
   ]
  },
  {
   "cell_type": "code",
   "execution_count": 25,
   "id": "991d6cb4",
   "metadata": {
    "execution": {
     "iopub.execute_input": "2022-11-15T11:09:52.457663Z",
     "iopub.status.busy": "2022-11-15T11:09:52.457402Z",
     "iopub.status.idle": "2022-11-15T11:09:52.554330Z",
     "shell.execute_reply": "2022-11-15T11:09:52.553130Z"
    },
    "papermill": {
     "duration": 0.106556,
     "end_time": "2022-11-15T11:09:52.555654",
     "exception": true,
     "start_time": "2022-11-15T11:09:52.449098",
     "status": "failed"
    },
    "tags": []
   },
   "outputs": [
    {
     "ename": "NameError",
     "evalue": "name 'model' is not defined",
     "output_type": "error",
     "traceback": [
      "\u001b[0;31m---------------------------------------------------------------------------\u001b[0m",
      "\u001b[0;31mNameError\u001b[0m                                 Traceback (most recent call last)",
      "\u001b[0;32m/tmp/ipykernel_23/3953668056.py\u001b[0m in \u001b[0;36m<module>\u001b[0;34m\u001b[0m\n\u001b[0;32m----> 1\u001b[0;31m \u001b[0mmodel\u001b[0m\u001b[0;34m.\u001b[0m\u001b[0mfit\u001b[0m\u001b[0;34m(\u001b[0m\u001b[0mxtrain\u001b[0m\u001b[0;34m,\u001b[0m\u001b[0mytrain\u001b[0m\u001b[0;34m)\u001b[0m\u001b[0;34m\u001b[0m\u001b[0;34m\u001b[0m\u001b[0m\n\u001b[0m\u001b[1;32m      2\u001b[0m \u001b[0mmodel\u001b[0m\u001b[0;34m.\u001b[0m\u001b[0mbest_params_\u001b[0m\u001b[0;34m\u001b[0m\u001b[0;34m\u001b[0m\u001b[0m\n",
      "\u001b[0;31mNameError\u001b[0m: name 'model' is not defined"
     ]
    }
   ],
   "source": [
    "model.fit(xtrain,ytrain)\n",
    "model.best_params_"
   ]
  },
  {
   "cell_type": "code",
   "execution_count": null,
   "id": "51ab06b7",
   "metadata": {
    "execution": {
     "iopub.execute_input": "2022-11-15T11:07:47.080014Z",
     "iopub.status.busy": "2022-11-15T11:07:47.079639Z",
     "iopub.status.idle": "2022-11-15T11:07:49.126033Z",
     "shell.execute_reply": "2022-11-15T11:07:49.125073Z",
     "shell.execute_reply.started": "2022-11-15T11:07:47.079983Z"
    },
    "papermill": {
     "duration": null,
     "end_time": null,
     "exception": null,
     "start_time": null,
     "status": "pending"
    },
    "tags": []
   },
   "outputs": [],
   "source": [
    "sv2 = SVC(C=0.2,gamma=0.8,kernel='linear')\n",
    "sv2.fit(xtrain,ytrain)\n",
    "sv2.score(xtest,ytest)"
   ]
  },
  {
   "cell_type": "code",
   "execution_count": null,
   "id": "95b09a6a",
   "metadata": {
    "execution": {
     "iopub.execute_input": "2022-11-15T11:07:58.618601Z",
     "iopub.status.busy": "2022-11-15T11:07:58.618254Z",
     "iopub.status.idle": "2022-11-15T11:07:58.959170Z",
     "shell.execute_reply": "2022-11-15T11:07:58.958078Z",
     "shell.execute_reply.started": "2022-11-15T11:07:58.618571Z"
    },
    "papermill": {
     "duration": null,
     "end_time": null,
     "exception": null,
     "start_time": null,
     "status": "pending"
    },
    "tags": []
   },
   "outputs": [],
   "source": [
    "lr=LogisticRegression()\n",
    "lr.fit(xtrain,ytrain)\n",
    "lr.score(xtest,ytest)"
   ]
  }
 ],
 "metadata": {
  "kernelspec": {
   "display_name": "Python 3",
   "language": "python",
   "name": "python3"
  },
  "language_info": {
   "codemirror_mode": {
    "name": "ipython",
    "version": 3
   },
   "file_extension": ".py",
   "mimetype": "text/x-python",
   "name": "python",
   "nbconvert_exporter": "python",
   "pygments_lexer": "ipython3",
   "version": "3.7.12"
  },
  "papermill": {
   "default_parameters": {},
   "duration": 16.343856,
   "end_time": "2022-11-15T11:09:53.082423",
   "environment_variables": {},
   "exception": true,
   "input_path": "__notebook__.ipynb",
   "output_path": "__notebook__.ipynb",
   "parameters": {},
   "start_time": "2022-11-15T11:09:36.738567",
   "version": "2.3.4"
  }
 },
 "nbformat": 4,
 "nbformat_minor": 5
}
