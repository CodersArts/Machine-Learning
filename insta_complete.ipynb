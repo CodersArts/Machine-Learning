{
 "cells": [
  {
   "cell_type": "code",
   "execution_count": 1,
   "metadata": {},
   "outputs": [],
   "source": [
    "import pandas as pd\n",
    "import numpy as np\n",
    "import matplotlib.pyplot as plt\n",
    "%matplotlib inline\n",
    "import seaborn as sns\n",
    "sns.set_palette(\"dark\")"
   ]
  },
  {
   "cell_type": "markdown",
   "metadata": {},
   "source": [
    "**worked with only 20000 instances of the dataset as it was a very large file. Remove the nrows argument to work with the full dataset.**"
   ]
  },
  {
   "cell_type": "code",
   "execution_count": 2,
   "metadata": {},
   "outputs": [
    {
     "data": {
      "text/html": [
       "<div>\n",
       "<style scoped>\n",
       "    .dataframe tbody tr th:only-of-type {\n",
       "        vertical-align: middle;\n",
       "    }\n",
       "\n",
       "    .dataframe tbody tr th {\n",
       "        vertical-align: top;\n",
       "    }\n",
       "\n",
       "    .dataframe thead th {\n",
       "        text-align: right;\n",
       "    }\n",
       "</style>\n",
       "<table border=\"1\" class=\"dataframe\">\n",
       "  <thead>\n",
       "    <tr style=\"text-align: right;\">\n",
       "      <th></th>\n",
       "      <th>_id</th>\n",
       "      <th>content</th>\n",
       "      <th>display_url</th>\n",
       "      <th>num_comment</th>\n",
       "      <th>num_like</th>\n",
       "      <th>post_type</th>\n",
       "      <th>shortcode</th>\n",
       "      <th>taken_at_timestamp</th>\n",
       "      <th>topic</th>\n",
       "      <th>user_id</th>\n",
       "      <th>video_view_count</th>\n",
       "      <th>num_follower</th>\n",
       "      <th>num_following</th>\n",
       "      <th>num_post</th>\n",
       "      <th>gender</th>\n",
       "    </tr>\n",
       "  </thead>\n",
       "  <tbody>\n",
       "    <tr>\n",
       "      <th>0</th>\n",
       "      <td>2288326814807672508</td>\n",
       "      <td>ช่วงนี้ถึงจะกักตัวอยู่บ้าน แต่ก็ต้องไม่หยุดดูแ...</td>\n",
       "      <td>6h1RnCDHPNBuys9vloPAyA==</td>\n",
       "      <td>7.0</td>\n",
       "      <td>1975.0</td>\n",
       "      <td>GraphSidecar</td>\n",
       "      <td>B_BxR0unMa8</td>\n",
       "      <td>1.587010e+09</td>\n",
       "      <td>NaN</td>\n",
       "      <td>47205.0</td>\n",
       "      <td>NaN</td>\n",
       "      <td>431654.0</td>\n",
       "      <td>597.0</td>\n",
       "      <td>3431.0</td>\n",
       "      <td>Unknown</td>\n",
       "    </tr>\n",
       "    <tr>\n",
       "      <th>1</th>\n",
       "      <td>2287844442962378768</td>\n",
       "      <td>😙😙💖</td>\n",
       "      <td>m9+H60faz9ytqDeY6nlygw==</td>\n",
       "      <td>11.0</td>\n",
       "      <td>5276.0</td>\n",
       "      <td>GraphImage</td>\n",
       "      <td>B_ADmY8H8AQ</td>\n",
       "      <td>1.586952e+09</td>\n",
       "      <td>NaN</td>\n",
       "      <td>47205.0</td>\n",
       "      <td>NaN</td>\n",
       "      <td>431654.0</td>\n",
       "      <td>597.0</td>\n",
       "      <td>3431.0</td>\n",
       "      <td>Unknown</td>\n",
       "    </tr>\n",
       "    <tr>\n",
       "      <th>2</th>\n",
       "      <td>2287716870547034065</td>\n",
       "      <td>miss this🌱</td>\n",
       "      <td>HIWn1zUl0/S7yjg2bGMEuA==</td>\n",
       "      <td>17.0</td>\n",
       "      <td>6638.0</td>\n",
       "      <td>GraphImage</td>\n",
       "      <td>B-_ml93n8_R</td>\n",
       "      <td>1.586937e+09</td>\n",
       "      <td>NaN</td>\n",
       "      <td>47205.0</td>\n",
       "      <td>NaN</td>\n",
       "      <td>431654.0</td>\n",
       "      <td>597.0</td>\n",
       "      <td>3431.0</td>\n",
       "      <td>Unknown</td>\n",
       "    </tr>\n",
       "    <tr>\n",
       "      <th>3</th>\n",
       "      <td>2287087956841720166</td>\n",
       "      <td>สงกรานต์อยู่บ้านก็ไม่เหงาเพราะช่วงนี้ติดเกมหนั...</td>\n",
       "      <td>HDzZH0MQldmlknRWnoGrVg==</td>\n",
       "      <td>5.0</td>\n",
       "      <td>5506.0</td>\n",
       "      <td>GraphImage</td>\n",
       "      <td>B-9XmEVn-lm</td>\n",
       "      <td>1.586862e+09</td>\n",
       "      <td>NaN</td>\n",
       "      <td>47205.0</td>\n",
       "      <td>NaN</td>\n",
       "      <td>431654.0</td>\n",
       "      <td>597.0</td>\n",
       "      <td>3431.0</td>\n",
       "      <td>Unknown</td>\n",
       "    </tr>\n",
       "    <tr>\n",
       "      <th>4</th>\n",
       "      <td>2287083593708375761</td>\n",
       "      <td>รอวันที่จะได้ออกไปข้างนอกได้อย่างสบายใจอีกครั้ง🥺</td>\n",
       "      <td>Ytsqg9RMXgb+lsaSpausXg==</td>\n",
       "      <td>15.0</td>\n",
       "      <td>9384.0</td>\n",
       "      <td>GraphImage</td>\n",
       "      <td>B-9Wmk2nI7R</td>\n",
       "      <td>1.586862e+09</td>\n",
       "      <td>NaN</td>\n",
       "      <td>47205.0</td>\n",
       "      <td>NaN</td>\n",
       "      <td>431654.0</td>\n",
       "      <td>597.0</td>\n",
       "      <td>3431.0</td>\n",
       "      <td>Unknown</td>\n",
       "    </tr>\n",
       "  </tbody>\n",
       "</table>\n",
       "</div>"
      ],
      "text/plain": [
       "                   _id                                            content  \\\n",
       "0  2288326814807672508  ช่วงนี้ถึงจะกักตัวอยู่บ้าน แต่ก็ต้องไม่หยุดดูแ...   \n",
       "1  2287844442962378768                                                😙😙💖   \n",
       "2  2287716870547034065                                         miss this🌱   \n",
       "3  2287087956841720166  สงกรานต์อยู่บ้านก็ไม่เหงาเพราะช่วงนี้ติดเกมหนั...   \n",
       "4  2287083593708375761   รอวันที่จะได้ออกไปข้างนอกได้อย่างสบายใจอีกครั้ง🥺   \n",
       "\n",
       "                display_url  num_comment  num_like     post_type    shortcode  \\\n",
       "0  6h1RnCDHPNBuys9vloPAyA==          7.0    1975.0  GraphSidecar  B_BxR0unMa8   \n",
       "1  m9+H60faz9ytqDeY6nlygw==         11.0    5276.0    GraphImage  B_ADmY8H8AQ   \n",
       "2  HIWn1zUl0/S7yjg2bGMEuA==         17.0    6638.0    GraphImage  B-_ml93n8_R   \n",
       "3  HDzZH0MQldmlknRWnoGrVg==          5.0    5506.0    GraphImage  B-9XmEVn-lm   \n",
       "4  Ytsqg9RMXgb+lsaSpausXg==         15.0    9384.0    GraphImage  B-9Wmk2nI7R   \n",
       "\n",
       "   taken_at_timestamp topic  user_id  video_view_count  num_follower  \\\n",
       "0        1.587010e+09   NaN  47205.0               NaN      431654.0   \n",
       "1        1.586952e+09   NaN  47205.0               NaN      431654.0   \n",
       "2        1.586937e+09   NaN  47205.0               NaN      431654.0   \n",
       "3        1.586862e+09   NaN  47205.0               NaN      431654.0   \n",
       "4        1.586862e+09   NaN  47205.0               NaN      431654.0   \n",
       "\n",
       "   num_following  num_post   gender  \n",
       "0          597.0    3431.0  Unknown  \n",
       "1          597.0    3431.0  Unknown  \n",
       "2          597.0    3431.0  Unknown  \n",
       "3          597.0    3431.0  Unknown  \n",
       "4          597.0    3431.0  Unknown  "
      ]
     },
     "execution_count": 2,
     "metadata": {},
     "output_type": "execute_result"
    }
   ],
   "source": [
    "# importing the first 20,000 rows into a pandas dataframe\n",
    "ig_df=pd.read_csv('ig_all.csv',nrows=20000)\n",
    "ig_df.head()"
   ]
  },
  {
   "cell_type": "code",
   "execution_count": 3,
   "metadata": {
    "scrolled": true
   },
   "outputs": [
    {
     "name": "stdout",
     "output_type": "stream",
     "text": [
      "<class 'pandas.core.frame.DataFrame'>\n",
      "RangeIndex: 20000 entries, 0 to 19999\n",
      "Data columns (total 15 columns):\n",
      " #   Column              Non-Null Count  Dtype  \n",
      "---  ------              --------------  -----  \n",
      " 0   _id                 20000 non-null  int64  \n",
      " 1   content             19650 non-null  object \n",
      " 2   display_url         20000 non-null  object \n",
      " 3   num_comment         20000 non-null  float64\n",
      " 4   num_like            20000 non-null  float64\n",
      " 5   post_type           20000 non-null  object \n",
      " 6   shortcode           20000 non-null  object \n",
      " 7   taken_at_timestamp  20000 non-null  float64\n",
      " 8   topic               12948 non-null  object \n",
      " 9   user_id             20000 non-null  float64\n",
      " 10  video_view_count    2283 non-null   float64\n",
      " 11  num_follower        20000 non-null  float64\n",
      " 12  num_following       20000 non-null  float64\n",
      " 13  num_post            20000 non-null  float64\n",
      " 14  gender              20000 non-null  object \n",
      "dtypes: float64(8), int64(1), object(6)\n",
      "memory usage: 2.3+ MB\n"
     ]
    }
   ],
   "source": [
    "ig_df.info()"
   ]
  },
  {
   "cell_type": "code",
   "execution_count": 4,
   "metadata": {},
   "outputs": [],
   "source": [
    "# filling missing numerical values with zeroes\n",
    "ig_df['video_view_count']= ig_df['video_view_count'].fillna(0)"
   ]
  },
  {
   "cell_type": "code",
   "execution_count": 5,
   "metadata": {},
   "outputs": [
    {
     "name": "stdout",
     "output_type": "stream",
     "text": [
      "<class 'pandas.core.frame.DataFrame'>\n",
      "RangeIndex: 20000 entries, 0 to 19999\n",
      "Data columns (total 15 columns):\n",
      " #   Column              Non-Null Count  Dtype  \n",
      "---  ------              --------------  -----  \n",
      " 0   _id                 20000 non-null  int64  \n",
      " 1   content             19650 non-null  object \n",
      " 2   display_url         20000 non-null  object \n",
      " 3   num_comment         20000 non-null  float64\n",
      " 4   num_like            20000 non-null  float64\n",
      " 5   post_type           20000 non-null  object \n",
      " 6   shortcode           20000 non-null  object \n",
      " 7   taken_at_timestamp  20000 non-null  float64\n",
      " 8   topic               12948 non-null  object \n",
      " 9   user_id             20000 non-null  float64\n",
      " 10  video_view_count    20000 non-null  float64\n",
      " 11  num_follower        20000 non-null  float64\n",
      " 12  num_following       20000 non-null  float64\n",
      " 13  num_post            20000 non-null  float64\n",
      " 14  gender              20000 non-null  object \n",
      "dtypes: float64(8), int64(1), object(6)\n",
      "memory usage: 2.3+ MB\n"
     ]
    }
   ],
   "source": [
    "ig_df.info()"
   ]
  },
  {
   "cell_type": "code",
   "execution_count": 6,
   "metadata": {},
   "outputs": [
    {
     "data": {
      "text/html": [
       "<div>\n",
       "<style scoped>\n",
       "    .dataframe tbody tr th:only-of-type {\n",
       "        vertical-align: middle;\n",
       "    }\n",
       "\n",
       "    .dataframe tbody tr th {\n",
       "        vertical-align: top;\n",
       "    }\n",
       "\n",
       "    .dataframe thead th {\n",
       "        text-align: right;\n",
       "    }\n",
       "</style>\n",
       "<table border=\"1\" class=\"dataframe\">\n",
       "  <thead>\n",
       "    <tr style=\"text-align: right;\">\n",
       "      <th></th>\n",
       "      <th>_id</th>\n",
       "      <th>content</th>\n",
       "      <th>display_url</th>\n",
       "      <th>num_comment</th>\n",
       "      <th>num_like</th>\n",
       "      <th>post_type</th>\n",
       "      <th>shortcode</th>\n",
       "      <th>taken_at_timestamp</th>\n",
       "      <th>topic</th>\n",
       "      <th>user_id</th>\n",
       "      <th>video_view_count</th>\n",
       "      <th>num_follower</th>\n",
       "      <th>num_following</th>\n",
       "      <th>num_post</th>\n",
       "      <th>gender</th>\n",
       "    </tr>\n",
       "  </thead>\n",
       "  <tbody>\n",
       "    <tr>\n",
       "      <th>0</th>\n",
       "      <td>2288326814807672508</td>\n",
       "      <td>ช่วงนี้ถึงจะกักตัวอยู่บ้าน แต่ก็ต้องไม่หยุดดูแ...</td>\n",
       "      <td>6h1RnCDHPNBuys9vloPAyA==</td>\n",
       "      <td>7.0</td>\n",
       "      <td>1975.0</td>\n",
       "      <td>GraphSidecar</td>\n",
       "      <td>B_BxR0unMa8</td>\n",
       "      <td>1.587010e+09</td>\n",
       "      <td>NaN</td>\n",
       "      <td>47205.0</td>\n",
       "      <td>0.0</td>\n",
       "      <td>431654.0</td>\n",
       "      <td>597.0</td>\n",
       "      <td>3431.0</td>\n",
       "      <td>Unknown</td>\n",
       "    </tr>\n",
       "    <tr>\n",
       "      <th>1</th>\n",
       "      <td>2287844442962378768</td>\n",
       "      <td>😙😙💖</td>\n",
       "      <td>m9+H60faz9ytqDeY6nlygw==</td>\n",
       "      <td>11.0</td>\n",
       "      <td>5276.0</td>\n",
       "      <td>GraphImage</td>\n",
       "      <td>B_ADmY8H8AQ</td>\n",
       "      <td>1.586952e+09</td>\n",
       "      <td>NaN</td>\n",
       "      <td>47205.0</td>\n",
       "      <td>0.0</td>\n",
       "      <td>431654.0</td>\n",
       "      <td>597.0</td>\n",
       "      <td>3431.0</td>\n",
       "      <td>Unknown</td>\n",
       "    </tr>\n",
       "    <tr>\n",
       "      <th>2</th>\n",
       "      <td>2287716870547034065</td>\n",
       "      <td>miss this🌱</td>\n",
       "      <td>HIWn1zUl0/S7yjg2bGMEuA==</td>\n",
       "      <td>17.0</td>\n",
       "      <td>6638.0</td>\n",
       "      <td>GraphImage</td>\n",
       "      <td>B-_ml93n8_R</td>\n",
       "      <td>1.586937e+09</td>\n",
       "      <td>NaN</td>\n",
       "      <td>47205.0</td>\n",
       "      <td>0.0</td>\n",
       "      <td>431654.0</td>\n",
       "      <td>597.0</td>\n",
       "      <td>3431.0</td>\n",
       "      <td>Unknown</td>\n",
       "    </tr>\n",
       "    <tr>\n",
       "      <th>3</th>\n",
       "      <td>2287087956841720166</td>\n",
       "      <td>สงกรานต์อยู่บ้านก็ไม่เหงาเพราะช่วงนี้ติดเกมหนั...</td>\n",
       "      <td>HDzZH0MQldmlknRWnoGrVg==</td>\n",
       "      <td>5.0</td>\n",
       "      <td>5506.0</td>\n",
       "      <td>GraphImage</td>\n",
       "      <td>B-9XmEVn-lm</td>\n",
       "      <td>1.586862e+09</td>\n",
       "      <td>NaN</td>\n",
       "      <td>47205.0</td>\n",
       "      <td>0.0</td>\n",
       "      <td>431654.0</td>\n",
       "      <td>597.0</td>\n",
       "      <td>3431.0</td>\n",
       "      <td>Unknown</td>\n",
       "    </tr>\n",
       "    <tr>\n",
       "      <th>4</th>\n",
       "      <td>2287083593708375761</td>\n",
       "      <td>รอวันที่จะได้ออกไปข้างนอกได้อย่างสบายใจอีกครั้ง🥺</td>\n",
       "      <td>Ytsqg9RMXgb+lsaSpausXg==</td>\n",
       "      <td>15.0</td>\n",
       "      <td>9384.0</td>\n",
       "      <td>GraphImage</td>\n",
       "      <td>B-9Wmk2nI7R</td>\n",
       "      <td>1.586862e+09</td>\n",
       "      <td>NaN</td>\n",
       "      <td>47205.0</td>\n",
       "      <td>0.0</td>\n",
       "      <td>431654.0</td>\n",
       "      <td>597.0</td>\n",
       "      <td>3431.0</td>\n",
       "      <td>Unknown</td>\n",
       "    </tr>\n",
       "  </tbody>\n",
       "</table>\n",
       "</div>"
      ],
      "text/plain": [
       "                   _id                                            content  \\\n",
       "0  2288326814807672508  ช่วงนี้ถึงจะกักตัวอยู่บ้าน แต่ก็ต้องไม่หยุดดูแ...   \n",
       "1  2287844442962378768                                                😙😙💖   \n",
       "2  2287716870547034065                                         miss this🌱   \n",
       "3  2287087956841720166  สงกรานต์อยู่บ้านก็ไม่เหงาเพราะช่วงนี้ติดเกมหนั...   \n",
       "4  2287083593708375761   รอวันที่จะได้ออกไปข้างนอกได้อย่างสบายใจอีกครั้ง🥺   \n",
       "\n",
       "                display_url  num_comment  num_like     post_type    shortcode  \\\n",
       "0  6h1RnCDHPNBuys9vloPAyA==          7.0    1975.0  GraphSidecar  B_BxR0unMa8   \n",
       "1  m9+H60faz9ytqDeY6nlygw==         11.0    5276.0    GraphImage  B_ADmY8H8AQ   \n",
       "2  HIWn1zUl0/S7yjg2bGMEuA==         17.0    6638.0    GraphImage  B-_ml93n8_R   \n",
       "3  HDzZH0MQldmlknRWnoGrVg==          5.0    5506.0    GraphImage  B-9XmEVn-lm   \n",
       "4  Ytsqg9RMXgb+lsaSpausXg==         15.0    9384.0    GraphImage  B-9Wmk2nI7R   \n",
       "\n",
       "   taken_at_timestamp topic  user_id  video_view_count  num_follower  \\\n",
       "0        1.587010e+09   NaN  47205.0               0.0      431654.0   \n",
       "1        1.586952e+09   NaN  47205.0               0.0      431654.0   \n",
       "2        1.586937e+09   NaN  47205.0               0.0      431654.0   \n",
       "3        1.586862e+09   NaN  47205.0               0.0      431654.0   \n",
       "4        1.586862e+09   NaN  47205.0               0.0      431654.0   \n",
       "\n",
       "   num_following  num_post   gender  \n",
       "0          597.0    3431.0  Unknown  \n",
       "1          597.0    3431.0  Unknown  \n",
       "2          597.0    3431.0  Unknown  \n",
       "3          597.0    3431.0  Unknown  \n",
       "4          597.0    3431.0  Unknown  "
      ]
     },
     "execution_count": 6,
     "metadata": {},
     "output_type": "execute_result"
    }
   ],
   "source": [
    "ig_df.head()"
   ]
  },
  {
   "cell_type": "markdown",
   "metadata": {},
   "source": [
    "# Question 1"
   ]
  },
  {
   "cell_type": "code",
   "execution_count": 7,
   "metadata": {},
   "outputs": [
    {
     "data": {
      "text/html": [
       "<div>\n",
       "<style scoped>\n",
       "    .dataframe tbody tr th:only-of-type {\n",
       "        vertical-align: middle;\n",
       "    }\n",
       "\n",
       "    .dataframe tbody tr th {\n",
       "        vertical-align: top;\n",
       "    }\n",
       "\n",
       "    .dataframe thead th {\n",
       "        text-align: right;\n",
       "    }\n",
       "</style>\n",
       "<table border=\"1\" class=\"dataframe\">\n",
       "  <thead>\n",
       "    <tr style=\"text-align: right;\">\n",
       "      <th></th>\n",
       "      <th>sum</th>\n",
       "    </tr>\n",
       "    <tr>\n",
       "      <th>_id</th>\n",
       "      <th></th>\n",
       "    </tr>\n",
       "  </thead>\n",
       "  <tbody>\n",
       "    <tr>\n",
       "      <th>1046187881339249816</th>\n",
       "      <td>5899.0</td>\n",
       "    </tr>\n",
       "    <tr>\n",
       "      <th>1047066334397687590</th>\n",
       "      <td>5899.0</td>\n",
       "    </tr>\n",
       "    <tr>\n",
       "      <th>1065340582396388513</th>\n",
       "      <td>5899.0</td>\n",
       "    </tr>\n",
       "    <tr>\n",
       "      <th>1073613790220347262</th>\n",
       "      <td>5899.0</td>\n",
       "    </tr>\n",
       "    <tr>\n",
       "      <th>1101960403632219437</th>\n",
       "      <td>5899.0</td>\n",
       "    </tr>\n",
       "  </tbody>\n",
       "</table>\n",
       "</div>"
      ],
      "text/plain": [
       "                        sum\n",
       "_id                        \n",
       "1046187881339249816  5899.0\n",
       "1047066334397687590  5899.0\n",
       "1065340582396388513  5899.0\n",
       "1073613790220347262  5899.0\n",
       "1101960403632219437  5899.0"
      ]
     },
     "execution_count": 7,
     "metadata": {},
     "output_type": "execute_result"
    }
   ],
   "source": [
    "# grouping the dataframe by _id and then summing over the num_follower for each id.\n",
    "max_follower=ig_df.groupby('_id')['num_follower'].agg(['sum'])\n",
    "max_follower.head()"
   ]
  },
  {
   "cell_type": "code",
   "execution_count": 8,
   "metadata": {},
   "outputs": [
    {
     "name": "stdout",
     "output_type": "stream",
     "text": [
      "max number of followers= 26280948.0 \n",
      "\n",
      "Ids with the max followers is [2053657551225881312 2053811981908728430 2054544082723514844\n",
      " 2055157062351844210 2055509581288695214 2055793451858807002\n",
      " 2057960418644557485 2059109082154734461 2059995089230153281\n",
      " 2060134066545331768 2060704945805256020 2060710363134736834\n",
      " 2274745455451446849 2276719918892009433 2282843945801026492\n",
      " 2283190016439933203 2287037339771303750 2287756184320231336\n",
      " 2289293448963859570 2290479338171950095 2292144044351738133\n",
      " 2293453619617278217 2294276992521979098 2295542011855270358]\n"
     ]
    }
   ],
   "source": [
    "# ids with maximum followers\n",
    "id_max_follower=max_follower[max_follower['sum']==max_follower['sum'].max()].index.values\n",
    "print('max number of followers=',max_follower['sum'].max(),'\\n')\n",
    "print('Ids with the max followers is',id_max_follower)"
   ]
  },
  {
   "cell_type": "markdown",
   "metadata": {},
   "source": [
    "# Question 2"
   ]
  },
  {
   "cell_type": "code",
   "execution_count": 9,
   "metadata": {},
   "outputs": [
    {
     "data": {
      "text/html": [
       "<div>\n",
       "<style scoped>\n",
       "    .dataframe tbody tr th:only-of-type {\n",
       "        vertical-align: middle;\n",
       "    }\n",
       "\n",
       "    .dataframe tbody tr th {\n",
       "        vertical-align: top;\n",
       "    }\n",
       "\n",
       "    .dataframe thead th {\n",
       "        text-align: right;\n",
       "    }\n",
       "</style>\n",
       "<table border=\"1\" class=\"dataframe\">\n",
       "  <thead>\n",
       "    <tr style=\"text-align: right;\">\n",
       "      <th></th>\n",
       "      <th>sum</th>\n",
       "    </tr>\n",
       "    <tr>\n",
       "      <th>_id</th>\n",
       "      <th></th>\n",
       "    </tr>\n",
       "  </thead>\n",
       "  <tbody>\n",
       "    <tr>\n",
       "      <th>1046187881339249816</th>\n",
       "      <td>0.0</td>\n",
       "    </tr>\n",
       "    <tr>\n",
       "      <th>1047066334397687590</th>\n",
       "      <td>2.0</td>\n",
       "    </tr>\n",
       "    <tr>\n",
       "      <th>1065340582396388513</th>\n",
       "      <td>7.0</td>\n",
       "    </tr>\n",
       "    <tr>\n",
       "      <th>1073613790220347262</th>\n",
       "      <td>0.0</td>\n",
       "    </tr>\n",
       "    <tr>\n",
       "      <th>1101960403632219437</th>\n",
       "      <td>1.0</td>\n",
       "    </tr>\n",
       "  </tbody>\n",
       "</table>\n",
       "</div>"
      ],
      "text/plain": [
       "                     sum\n",
       "_id                     \n",
       "1046187881339249816  0.0\n",
       "1047066334397687590  2.0\n",
       "1065340582396388513  7.0\n",
       "1073613790220347262  0.0\n",
       "1101960403632219437  1.0"
      ]
     },
     "execution_count": 9,
     "metadata": {},
     "output_type": "execute_result"
    }
   ],
   "source": [
    "# grouping the dataframe by _id and then summing over the num_comment for each id.\n",
    "max_comments=ig_df.groupby('_id')['num_comment'].agg(['sum'])\n",
    "max_comments.head()"
   ]
  },
  {
   "cell_type": "code",
   "execution_count": 10,
   "metadata": {},
   "outputs": [
    {
     "name": "stdout",
     "output_type": "stream",
     "text": [
      "max number of comments= 96623.0 \n",
      "\n",
      "Ids with the max comments is [2199148278017001460]\n"
     ]
    }
   ],
   "source": [
    "# ids with maximum comments\n",
    "id_max_comment=max_comments[max_comments['sum']==max_comments['sum'].max()].index.values\n",
    "print('max number of comments=',max_comments['sum'].max(),'\\n')\n",
    "print('Ids with the max comments is',id_max_comment)"
   ]
  },
  {
   "cell_type": "markdown",
   "metadata": {},
   "source": [
    "# Question 3"
   ]
  },
  {
   "cell_type": "code",
   "execution_count": 11,
   "metadata": {},
   "outputs": [
    {
     "data": {
      "text/html": [
       "<div>\n",
       "<style scoped>\n",
       "    .dataframe tbody tr th:only-of-type {\n",
       "        vertical-align: middle;\n",
       "    }\n",
       "\n",
       "    .dataframe tbody tr th {\n",
       "        vertical-align: top;\n",
       "    }\n",
       "\n",
       "    .dataframe thead th {\n",
       "        text-align: right;\n",
       "    }\n",
       "</style>\n",
       "<table border=\"1\" class=\"dataframe\">\n",
       "  <thead>\n",
       "    <tr style=\"text-align: right;\">\n",
       "      <th></th>\n",
       "      <th>sum</th>\n",
       "    </tr>\n",
       "    <tr>\n",
       "      <th>_id</th>\n",
       "      <th></th>\n",
       "    </tr>\n",
       "  </thead>\n",
       "  <tbody>\n",
       "    <tr>\n",
       "      <th>1046187881339249816</th>\n",
       "      <td>136.0</td>\n",
       "    </tr>\n",
       "    <tr>\n",
       "      <th>1047066334397687590</th>\n",
       "      <td>109.0</td>\n",
       "    </tr>\n",
       "    <tr>\n",
       "      <th>1065340582396388513</th>\n",
       "      <td>112.0</td>\n",
       "    </tr>\n",
       "    <tr>\n",
       "      <th>1073613790220347262</th>\n",
       "      <td>131.0</td>\n",
       "    </tr>\n",
       "    <tr>\n",
       "      <th>1101960403632219437</th>\n",
       "      <td>94.0</td>\n",
       "    </tr>\n",
       "  </tbody>\n",
       "</table>\n",
       "</div>"
      ],
      "text/plain": [
       "                       sum\n",
       "_id                       \n",
       "1046187881339249816  136.0\n",
       "1047066334397687590  109.0\n",
       "1065340582396388513  112.0\n",
       "1073613790220347262  131.0\n",
       "1101960403632219437   94.0"
      ]
     },
     "execution_count": 11,
     "metadata": {},
     "output_type": "execute_result"
    }
   ],
   "source": [
    "# grouping the dataframe by _id and then summing over the num_likes for each id.\n",
    "max_likes=ig_df.groupby('_id')['num_like'].agg(['sum'])\n",
    "max_likes.head()"
   ]
  },
  {
   "cell_type": "code",
   "execution_count": 12,
   "metadata": {},
   "outputs": [
    {
     "name": "stdout",
     "output_type": "stream",
     "text": [
      "max number of likes= 335208.0 \n",
      "\n",
      "Ids with the max likes is [2283190016439933203]\n"
     ]
    }
   ],
   "source": [
    "# ids with maximum likes\n",
    "id_max_like=max_likes[max_likes['sum']==max_likes['sum'].max()].index.values\n",
    "print('max number of likes=',max_likes['sum'].max(),'\\n')\n",
    "print('Ids with the max likes is',id_max_like)"
   ]
  },
  {
   "cell_type": "markdown",
   "metadata": {},
   "source": [
    "# Question 4"
   ]
  },
  {
   "cell_type": "code",
   "execution_count": 13,
   "metadata": {},
   "outputs": [
    {
     "data": {
      "text/html": [
       "<div>\n",
       "<style scoped>\n",
       "    .dataframe tbody tr th:only-of-type {\n",
       "        vertical-align: middle;\n",
       "    }\n",
       "\n",
       "    .dataframe tbody tr th {\n",
       "        vertical-align: top;\n",
       "    }\n",
       "\n",
       "    .dataframe thead th {\n",
       "        text-align: right;\n",
       "    }\n",
       "</style>\n",
       "<table border=\"1\" class=\"dataframe\">\n",
       "  <thead>\n",
       "    <tr style=\"text-align: right;\">\n",
       "      <th></th>\n",
       "      <th>sum</th>\n",
       "    </tr>\n",
       "    <tr>\n",
       "      <th>_id</th>\n",
       "      <th></th>\n",
       "    </tr>\n",
       "  </thead>\n",
       "  <tbody>\n",
       "    <tr>\n",
       "      <th>1046187881339249816</th>\n",
       "      <td>165.0</td>\n",
       "    </tr>\n",
       "    <tr>\n",
       "      <th>1047066334397687590</th>\n",
       "      <td>165.0</td>\n",
       "    </tr>\n",
       "    <tr>\n",
       "      <th>1065340582396388513</th>\n",
       "      <td>165.0</td>\n",
       "    </tr>\n",
       "    <tr>\n",
       "      <th>1073613790220347262</th>\n",
       "      <td>165.0</td>\n",
       "    </tr>\n",
       "    <tr>\n",
       "      <th>1101960403632219437</th>\n",
       "      <td>165.0</td>\n",
       "    </tr>\n",
       "  </tbody>\n",
       "</table>\n",
       "</div>"
      ],
      "text/plain": [
       "                       sum\n",
       "_id                       \n",
       "1046187881339249816  165.0\n",
       "1047066334397687590  165.0\n",
       "1065340582396388513  165.0\n",
       "1073613790220347262  165.0\n",
       "1101960403632219437  165.0"
      ]
     },
     "execution_count": 13,
     "metadata": {},
     "output_type": "execute_result"
    }
   ],
   "source": [
    "# grouping the dataframe by _id and then summing over the num_likes for each id.\n",
    "max_posts=ig_df.groupby('_id')['num_post'].agg(['sum'])\n",
    "max_posts.head()"
   ]
  },
  {
   "cell_type": "code",
   "execution_count": 14,
   "metadata": {},
   "outputs": [
    {
     "name": "stdout",
     "output_type": "stream",
     "text": [
      "max number of posts= 17816.0 \n",
      "\n",
      "Ids with the max posts is [2023489855060727450 2023671756153268292 2024270956981181438\n",
      " 2024311403116147980 2024850437651330901 2024865985592337534\n",
      " 2025870536474678106 2025911065145175037 2025963768353305945\n",
      " 2026994137861035377 2027066606592533756 2027521861734282390\n",
      " 2027983787740160545 2028002072733126618 2028192584597270997\n",
      " 2028519915136361379 2028990819444205941 2029061363728407151\n",
      " 2029207970096707065 2029479002128848974 2029609024504333563\n",
      " 2030327958853607288 2031020603489694743 2031154650962703718\n",
      " 2031405266297202794 2031717130558319719 2031835376628352077\n",
      " 2031842729285311621 2032447283370419721 2032717147154732449\n",
      " 2033202974343538364 2033317668777611929 2033479262585097801\n",
      " 2033809791750749527 2033986828155105764 2034027119310306594\n",
      " 2034053221546306089 2034600096888366149 2034665040803724121\n",
      " 2034670475312915993 2035422352908737783 2036077423501690128\n",
      " 2036405851689900953 2036813955573230113 2036878208997054542\n",
      " 2036900320168254012 2036955508535064590 2037646181873735056\n",
      " 2037727510166449256 2038622743712363501 2038947105036444217\n",
      " 2038967407539908985 2038979020703434460 2039305797552425899\n",
      " 2039695070990453338 2039730855684886063 2039839571591649442\n",
      " 2039939439102313943 2040436008012695471 2040521206456840361\n",
      " 2040531584649753981 2041127486279954837 2041174828009918231\n",
      " 2041340902047426405 2041515484054278822 2042026710932685681\n",
      " 2042090941430565177 2042885566374131998 2043288819427598369\n",
      " 2043599236083350585 2044140240876156759 2044162121033514288\n",
      " 2044810176971764925 2044953988582903701 2045504090829508315\n",
      " 2045687154406971387 2045727214540087837 2046242306369906449\n",
      " 2046324838142594859 2046576201195478058 2046998446921060543\n",
      " 2047692895150385032 2047713321646138654 2047928698971443589\n",
      " 2048602365262662384 2048785872094027340 2048831836012061017\n",
      " 2049175607652284694 2049417738916590260 2049443642502015068\n",
      " 2050544691224699105 2051360039486288428 2051442889916976873\n",
      " 2051646567064132469 2052271762477151992 2052276987841486915\n",
      " 2052363246094060249 2052810443860392469 2053045090925996484\n",
      " 2053515945246401089 2053739357247987935 2053858469911616881\n",
      " 2054599123264449880 2055049022951014464 2055062991962959001\n",
      " 2055182353466289269 2055245642619506190 2055639483377917919\n",
      " 2056004791259281751 2056401201121073287 2056490664585123808\n",
      " 2056592890007898400 2056602417235007431 2057129613255137284\n",
      " 2057360780306737689 2058179026706735448 2058662914524628352\n",
      " 2058692328532500619 2058826749415992703 2058918311382563812\n",
      " 2058921646458211416 2058924565232521685 2059264862093294943\n",
      " 2059497901046084303 2059575016856700660 2060081672329701375\n",
      " 2060698731615074027 2060873146956817959 2060975247389127562\n",
      " 2061009522125816524 2061017783503885037 2061048175321605790\n",
      " 2061388838361708921 2061536538210107551 2061636293481408418\n",
      " 2062441850668720723 2062497552393115975 2062509891314178703\n",
      " 2062880509721171926 2062948430250071275 2063108101153982447\n",
      " 2064330820730053900 2064359350486645330 2065102989881899752\n",
      " 2065208130354171368 2065736005373157038 2065890194304809889\n",
      " 2066015818113691394 2066107156901459724 2066212972396658171\n",
      " 2066537456932695624 2067180815351219558 2067911032227204276\n",
      " 2068199936054317567 2068639601421125947 2069415134153063910\n",
      " 2069420936259521356 2069596736904747587 2069788869884215174\n",
      " 2070186332038178440 2070388534107254334 2070839427835489113\n",
      " 2070949462297082075 2070980207770162564 2071058259825021883\n",
      " 2071192855845709361 2071227078245667014 2071549157432183663\n",
      " 2071629775235106627 2071711413897791834 2071767861008800804\n",
      " 2071771953114616284 2071932106212370147 2071950103559582504\n",
      " 2072443808355806382 2073098319755881434 2074065394171221902\n",
      " 2074455573067255590 2074476347597567257 2074580813323813527\n",
      " 2075178538495104136 2075317410482856424 2075432876618351757\n",
      " 2075527622724582699 2076253523460300705 2076747602690461296\n",
      " 2076854070592929271 2077369564546670212 2077647698634311058\n",
      " 2078299300194036438 2078953359112641036 2079076339167670911\n",
      " 2080568810297027558 2082528043330531264 2082713654310170564\n",
      " 2082760173713296017 2083142978905320444 2083494163516661058\n",
      " 2083881904901281532 2084249145173954692 2084709005996867414\n",
      " 2084880087487876553 2085612543610457856 2085631275011626478\n",
      " 2085661676937588589 2085698123149296210 2085725688123430371\n",
      " 2086031335796974358 2086320948998387038 2086438956907448391\n",
      " 2086804675511772241 2086819767783543905 2087076001757702828\n",
      " 2087599644673620895 2087647223021194802 2087833850674778571\n",
      " 2087887185603822974 2087910235879677882 2088357501207635611\n",
      " 2088492006681711440 2089041647923889958 2089247083096887878\n",
      " 2089254997345740223 2089730659965956005 2090049918986273542\n",
      " 2090445207056344168 2090692428435751890 2091138132660455846\n",
      " 2091253098877086117 2091460926396957772 2091847575593414690\n",
      " 2091964137046503992 2092107298364256366 2092659824692073380\n",
      " 2092780763874332422 2093288535812515292 2093431451679826157\n",
      " 2093545307664059292 2093605844657673003 2094042673920069650\n",
      " 2094890009353231588 2095072136560424134 2095517668567204016\n",
      " 2095837197004499408 2096189478711452874 2096335431993022142\n",
      " 2096496445963284511 2096545883502973088 2097108450147550798\n",
      " 2097163043485150318 2097169037866992198 2097265151802815422\n",
      " 2097709854713123440 2097767944665795614 2098344164659028105\n",
      " 2098666186668537826 2099214635059353085 2099338259854422490\n",
      " 2099465432418319751 2099823015364771288 2099908402368092163\n",
      " 2100107323484679726 2100203086080532137 2100493959737555410\n",
      " 2100924462915466976 2100943967259708351 2100959175537430428\n",
      " 2101007269842951148 2101253779205867698 2101300086779872920\n",
      " 2101533122259792590 2101538385356145937 2101675127258479582\n",
      " 2101713332603085256 2102125856888520436 2102752885422006919\n",
      " 2102859383120749440 2102955478140105690 2102973352074486045\n",
      " 2103434158000035166 2103497915807892720 2103659819775870532\n",
      " 2103869941361972872 2104136894895086965 2104472493883462902\n",
      " 2104603074420261991 2104928062742422932 2105287654492034179\n",
      " 2105806183024801667 2105947382129827018 2106579035067778744\n",
      " 2106633164700007699 2107050780048637656 2107461186915254637\n",
      " 2107815163255141223 2107835536768161232 2108663181042878136\n",
      " 2108784503635041434 2108820606458791901 2109231669339831578\n",
      " 2109623981450691368 2110113419784088309 2110318628061737602\n",
      " 2110323295877393447 2110715042411563628 2110857392190378797\n",
      " 2110929707267670251 2111088753983424109 2111418652183114954\n",
      " 2111513479415385054 2111820017397121425 2112893164804277773\n",
      " 2112958396331224993 2113080153839052465 2113198457069231318\n",
      " 2113227490804674604 2113622672784035334 2114007757505039148\n",
      " 2115145303660422002 2115185549466745672 2115394982508773241\n",
      " 2115770260811630616 2115805517795347373 2115872212564209776\n",
      " 2115989788501930999 2116094830642758041 2116558544647214919\n",
      " 2117722846292853150 2118170507932278648 2118287945457901721\n",
      " 2118326940430744828 2118410457898300709 2118425843779902200\n",
      " 2118774151199132385 2118814688040076465 2118916299794125340\n",
      " 2119671087481691903 2120235441755219744 2120585989318630786\n",
      " 2121127163855032898 2121255153670739515 2122688873145347432\n",
      " 2122863866563127311 2123136883826365454 2123176521391734888\n",
      " 2123321404832123991 2123365379626571696 2123423045895882379\n",
      " 2123875580293303235 2123939803249593638 2123996311521920538\n",
      " 2124132791279954265 2124146204488180316 2124228262891623606\n",
      " 2124609457991225668 2124734275696817521 2125013795817395017\n",
      " 2125015739332268239 2125020200544962681 2125370418964505948\n",
      " 2125642451900186791 2126785477771052698 2126792279296503586\n",
      " 2127043297250819906 2127048643444801043 2127105590021913149\n",
      " 2127420300084850584 2128150206464673434 2128826629579937631\n",
      " 2128907991351715898 2129188944229711499 2129269981077283010\n",
      " 2129559951692075296 2129695293116206575 2129932825518966337\n",
      " 2130304010173884216 2130598794834742584 2131664994520152826\n",
      " 2131741311986852082 2131891544054212471 2132016633240211253\n",
      " 2132029317721578172 2132471762921785274 2133233703634314552\n",
      " 2133400149026831994 2134063299829070687 2134260572651319280\n",
      " 2134327005301282702 2134794611577662139 2135320156115735416\n",
      " 2135478327656494411 2136153158387473992 2136301337485474512\n",
      " 2136816579420254272 2136877091113876434 2136889013288605057\n",
      " 2137086951830921117 2137180632399405784 2137185194376159174\n",
      " 2139043762360446400 2139052742130402677 2139853404489511565\n",
      " 2140133145842849077 2140430521535250266 2140513191828994849\n",
      " 2140695520555914343 2140810582864155287 2140822524039215396\n",
      " 2141124778243730425 2141906203318615936 2142385170446150372\n",
      " 2142431746388641518 2143144891591544636 2143207153375224344\n",
      " 2143252597031737727 2143382340829741708 2143479871089904924\n",
      " 2143863247412015409 2143936651666262358 2144169140905105933\n",
      " 2144783005279934152 2144810430432916291 2144813840083263441\n",
      " 2144819412006372508 2144853999596126734 2144878785785236439\n",
      " 2144902082837129502 2145174607362060296 2145221307598522784\n",
      " 2145227329964742193 2145229269435989117 2145356400769900555\n",
      " 2145623530304416161 2145878868307774249 2145959612082319306\n",
      " 2146001635166620173 2146408207910945499 2146955980397766692\n",
      " 2146969510056443003 2147002233118687986 2147106101651568801\n",
      " 2147269208679912281 2147686856433791227 2147736855112721885\n",
      " 2147851729549638076 2148403763692584076 2148621690400371596\n",
      " 2148704332969880637 2149259938378275699 2149402141482140154\n",
      " 2149860082546985014 2150010197475648422 2150162861559764102\n",
      " 2150531017373442481 2150575055879475026 2150601412323817922\n",
      " 2150699518637816944 2150881540903667699 2151260122817506120\n",
      " 2151333021129786469 2151612885997115551 2151923170574299528\n",
      " 2152064305992969904 2152246336957771213 2152265716865285324\n",
      " 2152803417477845932 2153103356778907263 2153492324418636814\n",
      " 2154278114228902977 2154306083752207867 2154447681466936187\n",
      " 2154930243599830657 2155126328209243414 2155311600096024203\n",
      " 2155342872935908683 2155371828649043803 2155614670990572670\n",
      " 2155638247810858080 2155673089709570175 2155692360296798647\n",
      " 2155981125913227613 2156053844692346433 2156066645993345618\n",
      " 2156336067068903265 2156409518181945632 2156453210003511526\n",
      " 2156495766040903489 2156710730546658797 2157159602326650730\n",
      " 2157217524138290942 2157357077130052870 2157400194701017433\n",
      " 2157791282922077792 2157853208733658530 2158600947264134329\n",
      " 2159446677159826361 2159669385390906452 2159732876248236370\n",
      " 2160040593642967880 2160371394030316370 2160690691334903082\n",
      " 2160730960042272652 2160797024423955678 2160869991061164475\n",
      " 2161066636172583923 2161507536384150122 2161560304830484126\n",
      " 2161771328401611250 2161861874466003101 2162136191040986456\n",
      " 2162264813257007277 2162975180547263781 2163057678648267604\n",
      " 2163099607108895474 2163126570418548115 2163345540920711941\n",
      " 2163615052836450148 2163628932023287772 2164516338972973930\n",
      " 2164670732829831023 2165441775920095072 2165448542716683505\n",
      " 2165500282098859256 2166201530261246827 2166527055099991391\n",
      " 2166570393559828323 2166658699605810438 2166703008359000966\n",
      " 2166915937872132030 2167161107716946315 2167289993670939222\n",
      " 2167365919095978925 2167410459198809064 2167524658008782276\n",
      " 2168039116346811987 2168046759367146587 2168050094912407405\n",
      " 2168061884153098209 2168110440813638468 2168161539138291486\n",
      " 2168179574242846584 2168318175454884309 2168681984275011499\n",
      " 2168707373689012664 2168955131469637845 2169128112175153167\n",
      " 2169415561812073270 2169654840471408282 2169714223872004068\n",
      " 2169743976897224098 2170148193214552850 2170224302174032623\n",
      " 2170392185290292307 2170395381198963603 2170408697367505454\n",
      " 2170439548696411030 2170531816975536984 2170768643762221982\n",
      " 2170869054099771521 2170892263423645674 2170902881178278948\n",
      " 2170942193198597011 2170952941681503713 2171070068149036183\n",
      " 2171105740335453543 2171176391809269496 2171682505160311397\n",
      " 2171713664820749644 2171822502102298012 2172310492402486698\n",
      " 2172466321139320922 2172573261337067479 2173049422701802686\n",
      " 2173307867812214786 2173910631785343646 2174108223240640067\n",
      " 2174778572760257587 2174790627383041142 2174811800011313722\n",
      " 2174846862773922765 2174888687643518951 2175427358776055428\n",
      " 2176235084754055835 2176643402630923641 2176766719648048189\n",
      " 2176833294359009355 2177004952046782852 2177387488576923806\n",
      " 2177488343896493619 2178059059152605606 2178146486481774820\n",
      " 2178160106720490430 2178313573443373736 2178883337874246964\n",
      " 2179132721660450634 2179609714638329892 2179685931844612776\n",
      " 2179835265986614721 2179936252957144073 2180321052222242797\n",
      " 2180555872789385103 2180967060182532831 2181075029561904086\n",
      " 2181709093553771207 2181749242195075825 2181833012889652226\n",
      " 2181997521285588520 2182113775899919573 2182478190813944775\n",
      " 2182529943081214842 2182605804627056236 2182625612059989206\n",
      " 2182843262262537129 2182845244188573087 2183204727725126413\n",
      " 2183255656994437906 2183311361319117192 2183921417685425877\n",
      " 2184085083621848274 2184238375811374713 2184257997344251689\n",
      " 2184326090300874271 2184956757594384135 2185695722882709972\n",
      " 2186023376861072741 2186093158067184026 2187091823082751935\n",
      " 2187132781165908628 2187231301382297936 2187614827281795529\n",
      " 2187883348964250255 2188349517525598959 2189027675715314572\n",
      " 2189365678383933959 2189457535118001887 2189685353210797784\n",
      " 2189700477166503402 2189717333528831762 2190059176217163970\n",
      " 2190074720265937983 2190324821160874008 2190767171628434310\n",
      " 2190976953048127226 2190985735702788780 2190988975534022701\n",
      " 2191199918129973714 2191211944533525138 2191607230372125828\n",
      " 2191822520985047921 2191953884119880203 2191965572630221513\n",
      " 2191988542576651239 2192282819508806875 2192388039295254536\n",
      " 2192411802669922098 2192515216808533582 2192555728903031541\n",
      " 2193041520540778386 2193087643137390232 2193113714520053143\n",
      " 2193207420665384192 2193255400390887517 2193722291723075917\n",
      " 2193728393806169871 2194058825731006667 2194071600238695641\n",
      " 2194671916936140746 2194677845819847953 2195135460534303126\n",
      " 2195189587851202620 2195570338127999507 2195862932087153727\n",
      " 2196547717772158102 2197642314229323166 2198469384060546267\n",
      " 2198573104039664656 2199951276366764252 2200759391584707924\n",
      " 2200908856085969979 2201336117838708431 2201395898624411139\n",
      " 2201544393461204670 2202406797594146693 2202758246689877731\n",
      " 2202847157193638426 2202859586158030757 2203191914520443098\n",
      " 2203518660868531611 2203573755123491446 2203831461239404244\n",
      " 2204249570869987979 2204290233103709646 2204328526923038519\n",
      " 2204555147860948094 2204919139544427231 2205182644579393267\n",
      " 2205759962557274155 2205909614837574705 2205979682439077143\n",
      " 2206125169037036885 2206430574841720182 2206433631407360920\n",
      " 2206589666143072571 2206662707539700117 2207321260470555551\n",
      " 2207483253936386071 2207959863840064963 2208096680224584259\n",
      " 2208161135923018836 2208655245352043656 2208740828590094211\n",
      " 2209559723320216090 2209598224942016766 2210343928991999537\n",
      " 2210727709133485608 2210903684873778246 2210972705073666435\n",
      " 2211092058842672807 2211474136130243322 2212171873372900850\n",
      " 2213030364983825692 2213083271280136985 2213093738736019327\n",
      " 2213199099652522564 2213215436332496333 2214404480462528197\n",
      " 2215187824397820298 2215289274067182278 2215853198785147112\n",
      " 2215897984808398781 2216788524399685788 2217334040502034573\n",
      " 2218064232916813315 2218626963113973061 2218724800254367239\n",
      " 2218888722529848600 2219073801344504564 2219615977144890471\n",
      " 2220255708992217559 2220459298922879943 2221720707178522163\n",
      " 2221962755320136097 2222368545063431822 2222504502655888639\n",
      " 2223146662090759398 2223219628803425601 2223310828868805146\n",
      " 2223318884071538467 2223327653497193440 2223986489543483277\n",
      " 2224640207523870520 2225250914325865179 2225368925573672720\n",
      " 2225550942848226962 2225958105571804707 2226230612623312838\n",
      " 2226278392817257072 2226339224712454792 2226796680555044287\n",
      " 2227123133595325300 2227409813619406083 2227708335883342210\n",
      " 2227798557342069236 2228138216760924551 2228506477348280750\n",
      " 2228888452915617061 2229125623241076507 2229211537292238781\n",
      " 2229553108709790468 2229852565808588299 2230573603978590443\n",
      " 2230654165997138725 2231410502624362784 2232028407330245795\n",
      " 2232131606133596625 2232169605160313862 2232821927695634541\n",
      " 2233473070876790327 2233608588008518341 2233884385055266145\n",
      " 2233925088317753046 2234244527290514835 2234768729676359749\n",
      " 2234972631352914390 2234982506992742179 2235342182871544614\n",
      " 2236075553041975478 2236837605457243458 2236866833288315473\n",
      " 2237198170025136084 2237580736435754509 2237706451269322943\n",
      " 2237749389533767121 2237818704937143890 2237943870652495172\n",
      " 2238244970207319347 2238340771845430771 2238494963115507753\n",
      " 2238671003163056931 2239015861237151541 2239225593474328187\n",
      " 2239271033347584958 2239273062065438571 2239724874866154871\n",
      " 2239838163671584034 2240382037083106021 2240437358637712238\n",
      " 2240518785780141278 2241884131078405065 2243306167797492787\n",
      " 2243313461163692430 2244116245941287827 2244781287980284108\n",
      " 2244806245146096531 2245057432877400828 2247001502528957759\n",
      " 2247696190068181019 2247958215964901729 2248032646774920107\n",
      " 2248387396595054138 2248469258873020449 2248595825871641494\n",
      " 2248680389071763020 2249194517855154363 2249850584561749033\n",
      " 2249937705205202134 2250003960620549202 2250241175455844445\n",
      " 2250501128980660130 2250678177858889380 2251348358893540742\n",
      " 2251632962955130250 2252010627432421085 2252736303781369456\n",
      " 2253025745628694704 2253070071251527770 2253520149288246173\n",
      " 2253726932686373084 2254363891687710203 2254370351964368331\n",
      " 2254976126390659671 2255025628933833246 2255079187746612110\n",
      " 2255752073628879852 2255917023273988615 2256376635240625416\n",
      " 2257032513992096914 2257177460481439800 2257817040620406813\n",
      " 2258550016710933448 2258810837559068160 2259439728178944342\n",
      " 2259590012272145439 2259941092025696351 2260116809724380414\n",
      " 2260125235535886283 2260370895468144796 2260715425329374137\n",
      " 2261043917858346726 2261422397968343335 2261504046278072720\n",
      " 2261632871028571557 2262158076381699447 2262294214748431429\n",
      " 2262489599681163431 2262509953623513799 2262868493357797004\n",
      " 2262929220605035285 2263271350879722164 2263310628087138421\n",
      " 2264515570835760214 2264749220781233419 2265368901925875429\n",
      " 2265813831681008723 2265925297222292508 2265975116930442790\n",
      " 2266167636725410521 2266617556628557757 2267207908833928238\n",
      " 2267257434580017822 2267275747297282212 2267532411103478732\n",
      " 2268081391138856998 2268307387989500616 2269021450973249959\n",
      " 2269422348136489749 2269559785361772942 2269704962395136437\n",
      " 2269719497814558776 2270173487350109898 2270879660898368574\n",
      " 2270981062190463727 2271602616872102281 2271673081791580381\n",
      " 2271778078055405774 2272383331574322198 2272439923791385098\n",
      " 2272532491577543550 2273032592905446786 2273110046651062885\n",
      " 2273810948319873432 2273998970277608630 2274087455705671857\n",
      " 2274155740493007749 2274529993507742390 2274915785505984969\n",
      " 2275294639353387670 2275517296120249081 2275920146864299604\n",
      " 2275946054459393475 2276819250704413748 2276938934464529493\n",
      " 2277036858385075361 2277427994882595591 2278131547779439195\n",
      " 2278239774705841578 2278287568086965593 2278337814221322835\n",
      " 2278360424716157738 2278849960734847578 2278958136339619891\n",
      " 2279059465028443376 2279585057196945410 2279647878886580380\n",
      " 2279891265598419250 2280287999453500707 2280521621682861144\n",
      " 2280671545024103701 2281379315058887129 2281411517884675066\n",
      " 2281685095943415602 2281779299801543635 2281829448745678991\n",
      " 2282031889806030650 2282564655786329392 2282598960378132288\n",
      " 2283202903697137738 2283932120374215057 2284160786798702661\n",
      " 2284632905340759908 2284673332936793915 2284681039576159714\n",
      " 2284962314979415831 2285439881637429766 2286093923266875760\n",
      " 2286830039406328359 2286863630739888027 2286997572574917989\n",
      " 2287152344942643483 2287620330006728827 2287696496990126604\n",
      " 2288237170609138824 2288357019046032492 2288542145482590433\n",
      " 2289026350599655117 2289114774673441951 2289186710107480608\n",
      " 2289364138536793871 2290006806858280772 2290587244081352303]\n"
     ]
    }
   ],
   "source": [
    "# ids with maximum posts\n",
    "id_max_post=max_posts[max_posts['sum']==max_posts['sum'].max()].index.values\n",
    "print('max number of posts=',max_posts['sum'].max(),'\\n')\n",
    "print('Ids with the max posts is',id_max_post)"
   ]
  },
  {
   "cell_type": "markdown",
   "metadata": {},
   "source": [
    "# Question 5"
   ]
  },
  {
   "cell_type": "code",
   "execution_count": 15,
   "metadata": {},
   "outputs": [
    {
     "data": {
      "image/png": "[encoded data removed]",
      "text/plain": [
       "<Figure size 936x432 with 1 Axes>"
      ]
     },
     "metadata": {
      "needs_background": "light"
     },
     "output_type": "display_data"
    }
   ],
   "source": [
    "ig_df.groupby('gender')['num_follower'].agg(['mean']).plot.bar(figsize=(13,6))\n",
    "plt.show()"
   ]
  },
  {
   "cell_type": "markdown",
   "metadata": {},
   "source": [
    "**We can see that on an average males do NOT have a greater number of followers.**"
   ]
  },
  {
   "cell_type": "markdown",
   "metadata": {},
   "source": [
    "# Question 6"
   ]
  },
  {
   "cell_type": "code",
   "execution_count": 16,
   "metadata": {},
   "outputs": [
    {
     "data": {
      "image/png": "[encoded data removed]",
      "text/plain": [
       "<Figure size 936x432 with 1 Axes>"
      ]
     },
     "metadata": {
      "needs_background": "light"
     },
     "output_type": "display_data"
    }
   ],
   "source": [
    "ig_df.groupby('gender')['num_like'].agg(['mean']).plot.bar(figsize=(13,6))\n",
    "plt.show()"
   ]
  },
  {
   "cell_type": "markdown",
   "metadata": {},
   "source": [
    "**No males do NOT get a greater number of likes on their posts on an average.**"
   ]
  },
  {
   "cell_type": "markdown",
   "metadata": {},
   "source": [
    "# Question 7"
   ]
  },
  {
   "cell_type": "code",
   "execution_count": 17,
   "metadata": {},
   "outputs": [
    {
     "data": {
      "image/png": "[encoded data removed]",
      "text/plain": [
       "<Figure size 936x432 with 1 Axes>"
      ]
     },
     "metadata": {
      "needs_background": "light"
     },
     "output_type": "display_data"
    }
   ],
   "source": [
    "ig_df.groupby('gender')['num_comment'].agg(['mean']).plot.bar(figsize=(13,6))\n",
    "plt.show()"
   ]
  },
  {
   "cell_type": "markdown",
   "metadata": {},
   "source": [
    "**Yes, females get a greater number of comments on an average and this implies that females better at\n",
    "conversations in Instagram interactio.**"
   ]
  },
  {
   "cell_type": "markdown",
   "metadata": {},
   "source": [
    "# Question 8"
   ]
  },
  {
   "cell_type": "code",
   "execution_count": 18,
   "metadata": {},
   "outputs": [
    {
     "data": {
      "text/html": [
       "<div>\n",
       "<style scoped>\n",
       "    .dataframe tbody tr th:only-of-type {\n",
       "        vertical-align: middle;\n",
       "    }\n",
       "\n",
       "    .dataframe tbody tr th {\n",
       "        vertical-align: top;\n",
       "    }\n",
       "\n",
       "    .dataframe thead th {\n",
       "        text-align: right;\n",
       "    }\n",
       "</style>\n",
       "<table border=\"1\" class=\"dataframe\">\n",
       "  <thead>\n",
       "    <tr style=\"text-align: right;\">\n",
       "      <th></th>\n",
       "      <th>_id</th>\n",
       "      <th>content</th>\n",
       "      <th>display_url</th>\n",
       "      <th>num_comment</th>\n",
       "      <th>num_like</th>\n",
       "      <th>post_type</th>\n",
       "      <th>shortcode</th>\n",
       "      <th>taken_at_timestamp</th>\n",
       "      <th>topic</th>\n",
       "      <th>user_id</th>\n",
       "      <th>video_view_count</th>\n",
       "      <th>num_follower</th>\n",
       "      <th>num_following</th>\n",
       "      <th>num_post</th>\n",
       "      <th>gender</th>\n",
       "    </tr>\n",
       "  </thead>\n",
       "  <tbody>\n",
       "    <tr>\n",
       "      <th>0</th>\n",
       "      <td>2288326814807672508</td>\n",
       "      <td>ช่วงนี้ถึงจะกักตัวอยู่บ้าน แต่ก็ต้องไม่หยุดดูแ...</td>\n",
       "      <td>6h1RnCDHPNBuys9vloPAyA==</td>\n",
       "      <td>7.0</td>\n",
       "      <td>1975.0</td>\n",
       "      <td>GraphSidecar</td>\n",
       "      <td>B_BxR0unMa8</td>\n",
       "      <td>1.587010e+09</td>\n",
       "      <td>{\"image_topic\": {\"fashion\": 0.0, \"art\": 0.0, \"...</td>\n",
       "      <td>47205.0</td>\n",
       "      <td>0.0</td>\n",
       "      <td>431654.0</td>\n",
       "      <td>597.0</td>\n",
       "      <td>3431.0</td>\n",
       "      <td>Unknown</td>\n",
       "    </tr>\n",
       "    <tr>\n",
       "      <th>1</th>\n",
       "      <td>2287844442962378768</td>\n",
       "      <td>😙😙💖</td>\n",
       "      <td>m9+H60faz9ytqDeY6nlygw==</td>\n",
       "      <td>11.0</td>\n",
       "      <td>5276.0</td>\n",
       "      <td>GraphImage</td>\n",
       "      <td>B_ADmY8H8AQ</td>\n",
       "      <td>1.586952e+09</td>\n",
       "      <td>{\"image_topic\": {\"fashion\": 0.0, \"art\": 0.0, \"...</td>\n",
       "      <td>47205.0</td>\n",
       "      <td>0.0</td>\n",
       "      <td>431654.0</td>\n",
       "      <td>597.0</td>\n",
       "      <td>3431.0</td>\n",
       "      <td>Unknown</td>\n",
       "    </tr>\n",
       "    <tr>\n",
       "      <th>2</th>\n",
       "      <td>2287716870547034065</td>\n",
       "      <td>miss this🌱</td>\n",
       "      <td>HIWn1zUl0/S7yjg2bGMEuA==</td>\n",
       "      <td>17.0</td>\n",
       "      <td>6638.0</td>\n",
       "      <td>GraphImage</td>\n",
       "      <td>B-_ml93n8_R</td>\n",
       "      <td>1.586937e+09</td>\n",
       "      <td>{\"image_topic\": {\"fashion\": 0.0, \"art\": 0.0, \"...</td>\n",
       "      <td>47205.0</td>\n",
       "      <td>0.0</td>\n",
       "      <td>431654.0</td>\n",
       "      <td>597.0</td>\n",
       "      <td>3431.0</td>\n",
       "      <td>Unknown</td>\n",
       "    </tr>\n",
       "    <tr>\n",
       "      <th>3</th>\n",
       "      <td>2287087956841720166</td>\n",
       "      <td>สงกรานต์อยู่บ้านก็ไม่เหงาเพราะช่วงนี้ติดเกมหนั...</td>\n",
       "      <td>HDzZH0MQldmlknRWnoGrVg==</td>\n",
       "      <td>5.0</td>\n",
       "      <td>5506.0</td>\n",
       "      <td>GraphImage</td>\n",
       "      <td>B-9XmEVn-lm</td>\n",
       "      <td>1.586862e+09</td>\n",
       "      <td>{\"image_topic\": {\"fashion\": 0.0, \"art\": 0.0, \"...</td>\n",
       "      <td>47205.0</td>\n",
       "      <td>0.0</td>\n",
       "      <td>431654.0</td>\n",
       "      <td>597.0</td>\n",
       "      <td>3431.0</td>\n",
       "      <td>Unknown</td>\n",
       "    </tr>\n",
       "    <tr>\n",
       "      <th>4</th>\n",
       "      <td>2287083593708375761</td>\n",
       "      <td>รอวันที่จะได้ออกไปข้างนอกได้อย่างสบายใจอีกครั้ง🥺</td>\n",
       "      <td>Ytsqg9RMXgb+lsaSpausXg==</td>\n",
       "      <td>15.0</td>\n",
       "      <td>9384.0</td>\n",
       "      <td>GraphImage</td>\n",
       "      <td>B-9Wmk2nI7R</td>\n",
       "      <td>1.586862e+09</td>\n",
       "      <td>{\"image_topic\": {\"fashion\": 0.0, \"art\": 0.0, \"...</td>\n",
       "      <td>47205.0</td>\n",
       "      <td>0.0</td>\n",
       "      <td>431654.0</td>\n",
       "      <td>597.0</td>\n",
       "      <td>3431.0</td>\n",
       "      <td>Unknown</td>\n",
       "    </tr>\n",
       "  </tbody>\n",
       "</table>\n",
       "</div>"
      ],
      "text/plain": [
       "                   _id                                            content  \\\n",
       "0  2288326814807672508  ช่วงนี้ถึงจะกักตัวอยู่บ้าน แต่ก็ต้องไม่หยุดดูแ...   \n",
       "1  2287844442962378768                                                😙😙💖   \n",
       "2  2287716870547034065                                         miss this🌱   \n",
       "3  2287087956841720166  สงกรานต์อยู่บ้านก็ไม่เหงาเพราะช่วงนี้ติดเกมหนั...   \n",
       "4  2287083593708375761   รอวันที่จะได้ออกไปข้างนอกได้อย่างสบายใจอีกครั้ง🥺   \n",
       "\n",
       "                display_url  num_comment  num_like     post_type    shortcode  \\\n",
       "0  6h1RnCDHPNBuys9vloPAyA==          7.0    1975.0  GraphSidecar  B_BxR0unMa8   \n",
       "1  m9+H60faz9ytqDeY6nlygw==         11.0    5276.0    GraphImage  B_ADmY8H8AQ   \n",
       "2  HIWn1zUl0/S7yjg2bGMEuA==         17.0    6638.0    GraphImage  B-_ml93n8_R   \n",
       "3  HDzZH0MQldmlknRWnoGrVg==          5.0    5506.0    GraphImage  B-9XmEVn-lm   \n",
       "4  Ytsqg9RMXgb+lsaSpausXg==         15.0    9384.0    GraphImage  B-9Wmk2nI7R   \n",
       "\n",
       "   taken_at_timestamp                                              topic  \\\n",
       "0        1.587010e+09  {\"image_topic\": {\"fashion\": 0.0, \"art\": 0.0, \"...   \n",
       "1        1.586952e+09  {\"image_topic\": {\"fashion\": 0.0, \"art\": 0.0, \"...   \n",
       "2        1.586937e+09  {\"image_topic\": {\"fashion\": 0.0, \"art\": 0.0, \"...   \n",
       "3        1.586862e+09  {\"image_topic\": {\"fashion\": 0.0, \"art\": 0.0, \"...   \n",
       "4        1.586862e+09  {\"image_topic\": {\"fashion\": 0.0, \"art\": 0.0, \"...   \n",
       "\n",
       "   user_id  video_view_count  num_follower  num_following  num_post   gender  \n",
       "0  47205.0               0.0      431654.0          597.0    3431.0  Unknown  \n",
       "1  47205.0               0.0      431654.0          597.0    3431.0  Unknown  \n",
       "2  47205.0               0.0      431654.0          597.0    3431.0  Unknown  \n",
       "3  47205.0               0.0      431654.0          597.0    3431.0  Unknown  \n",
       "4  47205.0               0.0      431654.0          597.0    3431.0  Unknown  "
      ]
     },
     "execution_count": 18,
     "metadata": {},
     "output_type": "execute_result"
    }
   ],
   "source": [
    "#making copy of the original data_frame\n",
    "copy_df=ig_df.copy()\n",
    "# replacing the missing values with the most frequent values of the column topic\n",
    "copy_df['topic']=copy_df['topic'].fillna(copy_df['topic'].value_counts().index[0])\n",
    "copy_df.head()"
   ]
  },
  {
   "cell_type": "code",
   "execution_count": 19,
   "metadata": {},
   "outputs": [
    {
     "data": {
      "text/plain": [
       "False"
      ]
     },
     "execution_count": 19,
     "metadata": {},
     "output_type": "execute_result"
    }
   ],
   "source": [
    "#checking or missing values\n",
    "copy_df.topic.isnull().any()"
   ]
  },
  {
   "cell_type": "code",
   "execution_count": 20,
   "metadata": {},
   "outputs": [],
   "source": [
    "import json\n",
    "\n",
    "topics = []\n",
    "for i in copy_df.topic:\n",
    "    res = json.loads(i)\n",
    "    topics.append(res)"
   ]
  },
  {
   "cell_type": "code",
   "execution_count": 21,
   "metadata": {},
   "outputs": [
    {
     "name": "stdout",
     "output_type": "stream",
     "text": [
      "topic :  fashion\n",
      "topic :  art\n",
      "topic :  beauty\n",
      "topic :  travel\n",
      "topic :  beverage\n",
      "topic :  vehicle\n",
      "topic :  animals\n",
      "topic :  sport\n",
      "topic :  book\n",
      "topic :  kid\n"
     ]
    }
   ],
   "source": [
    "unit =topics[2]['image_topic']\n",
    "for i in unit.keys():\n",
    "    print('topic : ',i)"
   ]
  },
  {
   "cell_type": "code",
   "execution_count": 22,
   "metadata": {},
   "outputs": [],
   "source": [
    "occ = []\n",
    "for i in range(len(topics)):\n",
    "    unit = topics[i]['image_topic']\n",
    "    if type(unit) == dict:\n",
    "        for i in unit.keys():\n",
    "            if unit[i] == 1.0:\n",
    "                occ.append(i)\n",
    "    "
   ]
  },
  {
   "cell_type": "code",
   "execution_count": 23,
   "metadata": {},
   "outputs": [
    {
     "name": "stdout",
     "output_type": "stream",
     "text": [
      "most popular topic :  beverage\n"
     ]
    }
   ],
   "source": [
    "def popular(List): \n",
    "    counter = 0\n",
    "    num = List[0] \n",
    "      \n",
    "    for i in List: \n",
    "        curr_frequency = List.count(i) \n",
    "        if(curr_frequency> counter): \n",
    "            counter = curr_frequency \n",
    "            num = i \n",
    "  \n",
    "    return num \n",
    "  \n",
    "print('most popular topic : ',popular(occ)) "
   ]
  },
  {
   "cell_type": "markdown",
   "metadata": {},
   "source": [
    "# Question 9"
   ]
  },
  {
   "cell_type": "code",
   "execution_count": 24,
   "metadata": {},
   "outputs": [
    {
     "name": "stderr",
     "output_type": "stream",
     "text": [
      "/home/codersarts/anaconda3/lib/python3.7/site-packages/scipy/stats/stats.py:1713: FutureWarning: Using a non-tuple sequence for multidimensional indexing is deprecated; use `arr[tuple(seq)]` instead of `arr[seq]`. In the future this will be interpreted as an array index, `arr[np.array(seq)]`, which will result either in an error or a different result.\n",
      "  return np.add.reduce(sorted[indexer] * weights, axis=axis) / sumval\n"
     ]
    },
    {
     "data": {
      "image/png": "[encoded data removed]",
      "text/plain": [
       "<Figure size 432x288 with 1 Axes>"
      ]
     },
     "metadata": {
      "needs_background": "light"
     },
     "output_type": "display_data"
    }
   ],
   "source": [
    "# lineplot showing the relation between no. of followers and number of posts\n",
    "sns.lineplot('num_post','num_follower', data=ig_df)\n",
    "plt.xlabel('# posts')\n",
    "plt.ylabel('# followers')\n",
    "plt.show()"
   ]
  },
  {
   "cell_type": "code",
   "execution_count": 25,
   "metadata": {},
   "outputs": [
    {
     "data": {
      "text/plain": [
       "0.48183843116233394"
      ]
     },
     "execution_count": 25,
     "metadata": {},
     "output_type": "execute_result"
    }
   ],
   "source": [
    "# correlation between two columns \n",
    "ig_df['num_post'].corr(ig_df['num_follower'])"
   ]
  },
  {
   "cell_type": "markdown",
   "metadata": {},
   "source": [
    "**The correlation between the two features can be considered moderate since its value lies in the middle, but it is not strong. Thus we can safely say that large no. of posts doesn't correspond to large no. of followers.**"
   ]
  },
  {
   "cell_type": "code",
   "execution_count": 26,
   "metadata": {},
   "outputs": [
    {
     "data": {
      "image/png": "[encoded data removed]",
      "text/plain": [
       "<Figure size 432x288 with 1 Axes>"
      ]
     },
     "metadata": {
      "needs_background": "light"
     },
     "output_type": "display_data"
    }
   ],
   "source": [
    "# scatterplot showing the relation between no. of followers and number of posts\n",
    "plt.scatter('num_post','num_follower',data=ig_df)\n",
    "plt.xlabel('# posts')\n",
    "plt.ylabel('# followers')\n",
    "plt.show()"
   ]
  },
  {
   "cell_type": "markdown",
   "metadata": {},
   "source": [
    "**Instagrammers with a greater number of posts  do NOT have more followers.**"
   ]
  },
  {
   "cell_type": "markdown",
   "metadata": {},
   "source": [
    "# Question 10"
   ]
  },
  {
   "cell_type": "code",
   "execution_count": 27,
   "metadata": {},
   "outputs": [
    {
     "data": {
      "image/png": "[encoded data removed]",
      "text/plain": [
       "<Figure size 936x432 with 1 Axes>"
      ]
     },
     "metadata": {
      "needs_background": "light"
     },
     "output_type": "display_data"
    }
   ],
   "source": [
    "ig_df.post_type.value_counts().plot.bar(figsize=(13,6))\n",
    "plt.show()"
   ]
  },
  {
   "cell_type": "markdown",
   "metadata": {},
   "source": [
    "**Instagrammers “like” GraphImage the most.**"
   ]
  },
  {
   "cell_type": "markdown",
   "metadata": {},
   "source": [
    "# Question 11 and 12"
   ]
  },
  {
   "cell_type": "code",
   "execution_count": 28,
   "metadata": {},
   "outputs": [
    {
     "data": {
      "text/plain": [
       "0       1970-01-01 00:00:01.587009835\n",
       "1       1970-01-01 00:00:01.586952332\n",
       "2       1970-01-01 00:00:01.586937124\n",
       "3       1970-01-01 00:00:01.586862152\n",
       "4       1970-01-01 00:00:01.586861632\n",
       "                     ...             \n",
       "19995   1970-01-01 00:00:01.572754995\n",
       "19996   1970-01-01 00:00:01.572686717\n",
       "19997   1970-01-01 00:00:01.572674182\n",
       "19998   1970-01-01 00:00:01.572588013\n",
       "19999   1970-01-01 00:00:01.572528783\n",
       "Name: taken_at_timestamp, Length: 20000, dtype: datetime64[ns]"
      ]
     },
     "execution_count": 28,
     "metadata": {},
     "output_type": "execute_result"
    }
   ],
   "source": [
    "# converting the column into a datetime format\n",
    "ig_df['taken_at_timestamp']=ig_df['taken_at_timestamp'].apply(pd.to_datetime)\n",
    "ig_df['taken_at_timestamp']"
   ]
  },
  {
   "cell_type": "code",
   "execution_count": 29,
   "metadata": {},
   "outputs": [
    {
     "data": {
      "text/plain": [
       "0    20000\n",
       "Name: taken_at_timestamp, dtype: int64"
      ]
     },
     "execution_count": 29,
     "metadata": {},
     "output_type": "execute_result"
    }
   ],
   "source": [
    "#counting the frequency of hours\n",
    "import datetime as dt\n",
    "ig_df['taken_at_timestamp'].dt.hour.value_counts()"
   ]
  },
  {
   "cell_type": "markdown",
   "metadata": {},
   "source": [
    "**we can observe that the data corresponds to the zero hour only i.e. midnight. Therefore the hour of the day with the highest engagement can't be determined.**"
   ]
  },
  {
   "cell_type": "code",
   "execution_count": null,
   "metadata": {},
   "outputs": [],
   "source": []
  },
  {
   "cell_type": "code",
   "execution_count": null,
   "metadata": {},
   "outputs": [],
   "source": []
  }
 ],
 "metadata": {
  "kernelspec": {
   "display_name": "Python 2",
   "language": "python",
   "name": "python2"
  },
  "language_info": {
   "codemirror_mode": {
    "name": "ipython",
    "version": 3
   },
   "file_extension": ".py",
   "mimetype": "text/x-python",
   "name": "python",
   "nbconvert_exporter": "python",
   "pygments_lexer": "ipython3",
   "version": "3.7.4"
  }
 },
 "nbformat": 4,
 "nbformat_minor": 2
}
