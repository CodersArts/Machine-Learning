{
 "cells": [
  {
   "cell_type": "code",
   "execution_count": 1,
   "id": "2cfc9527",
   "metadata": {
    "_cell_guid": "b1076dfc-b9ad-4769-8c92-a6c4dae69d19",
    "_uuid": "8f2839f25d086af736a60e9eeb907d3b93b6e0e5",
    "execution": {
     "iopub.execute_input": "2022-11-15T10:13:05.695389Z",
     "iopub.status.busy": "2022-11-15T10:13:05.694909Z",
     "iopub.status.idle": "2022-11-15T10:13:07.530311Z",
     "shell.execute_reply": "2022-11-15T10:13:07.528855Z"
    },
    "papermill": {
     "duration": 1.846838,
     "end_time": "2022-11-15T10:13:07.533434",
     "exception": false,
     "start_time": "2022-11-15T10:13:05.686596",
     "status": "completed"
    },
    "tags": []
   },
   "outputs": [
    {
     "name": "stdout",
     "output_type": "stream",
     "text": [
      "/kaggle/input/credit-risk-analysis-for-extending-bank-loans/bankloans.csv\n"
     ]
    }
   ],
   "source": [
    "# This Python 3 environment comes with many helpful analytics libraries installed\n",
    "# It is defined by the kaggle/python Docker image: https://github.com/kaggle/docker-python\n",
    "# For example, here's several helpful packages to load\n",
    "\n",
    "import numpy as np # linear algebra\n",
    "import pandas as pd # data processing, CSV file I/O (e.g. pd.read_csv)\n",
    "import matplotlib.pyplot as plt\n",
    "import seaborn as sns\n",
    "from sklearn.ensemble import RandomForestClassifier\n",
    "from sklearn.svm import SVC\n",
    "from sklearn.linear_model import LogisticRegression\n",
    "\n",
    "from sklearn.metrics import confusion_matrix\n",
    "from sklearn.preprocessing import StandardScaler\n",
    "from sklearn.model_selection import train_test_split,GridSearchCV,cross_val_score\n",
    "\n",
    "%matplotlib inline\n",
    "# Input data files are available in the read-only \"../input/\" directory\n",
    "# For example, running this (by clicking run or pressing Shift+Enter) will list all files under the input directory\n",
    "\n",
    "import os\n",
    "for dirname, _, filenames in os.walk('/kaggle/input'):\n",
    "    for filename in filenames:\n",
    "        print(os.path.join(dirname, filename))\n",
    "\n",
    "# You can write up to 20GB to the current directory (/kaggle/working/) that gets preserved as output when you create a version using \"Save & Run All\" \n",
    "# You can also write temporary files to /kaggle/temp/, but they won't be saved outside of the current session"
   ]
  },
  {
   "cell_type": "code",
   "execution_count": 2,
   "id": "fb09c5de",
   "metadata": {
    "execution": {
     "iopub.execute_input": "2022-11-15T10:13:07.546738Z",
     "iopub.status.busy": "2022-11-15T10:13:07.546390Z",
     "iopub.status.idle": "2022-11-15T10:13:07.581433Z",
     "shell.execute_reply": "2022-11-15T10:13:07.580151Z"
    },
    "papermill": {
     "duration": 0.044974,
     "end_time": "2022-11-15T10:13:07.584552",
     "exception": false,
     "start_time": "2022-11-15T10:13:07.539578",
     "status": "completed"
    },
    "tags": []
   },
   "outputs": [
    {
     "data": {
      "text/html": [
       "<div>\n",
       "<style scoped>\n",
       "    .dataframe tbody tr th:only-of-type {\n",
       "        vertical-align: middle;\n",
       "    }\n",
       "\n",
       "    .dataframe tbody tr th {\n",
       "        vertical-align: top;\n",
       "    }\n",
       "\n",
       "    .dataframe thead th {\n",
       "        text-align: right;\n",
       "    }\n",
       "</style>\n",
       "<table border=\"1\" class=\"dataframe\">\n",
       "  <thead>\n",
       "    <tr style=\"text-align: right;\">\n",
       "      <th></th>\n",
       "      <th>age</th>\n",
       "      <th>ed</th>\n",
       "      <th>employ</th>\n",
       "      <th>address</th>\n",
       "      <th>income</th>\n",
       "      <th>debtinc</th>\n",
       "      <th>creddebt</th>\n",
       "      <th>othdebt</th>\n",
       "      <th>default</th>\n",
       "    </tr>\n",
       "  </thead>\n",
       "  <tbody>\n",
       "    <tr>\n",
       "      <th>0</th>\n",
       "      <td>41</td>\n",
       "      <td>3</td>\n",
       "      <td>17</td>\n",
       "      <td>12</td>\n",
       "      <td>176</td>\n",
       "      <td>9.3</td>\n",
       "      <td>11.359392</td>\n",
       "      <td>5.008608</td>\n",
       "      <td>1.0</td>\n",
       "    </tr>\n",
       "    <tr>\n",
       "      <th>1</th>\n",
       "      <td>27</td>\n",
       "      <td>1</td>\n",
       "      <td>10</td>\n",
       "      <td>6</td>\n",
       "      <td>31</td>\n",
       "      <td>17.3</td>\n",
       "      <td>1.362202</td>\n",
       "      <td>4.000798</td>\n",
       "      <td>0.0</td>\n",
       "    </tr>\n",
       "    <tr>\n",
       "      <th>2</th>\n",
       "      <td>40</td>\n",
       "      <td>1</td>\n",
       "      <td>15</td>\n",
       "      <td>14</td>\n",
       "      <td>55</td>\n",
       "      <td>5.5</td>\n",
       "      <td>0.856075</td>\n",
       "      <td>2.168925</td>\n",
       "      <td>0.0</td>\n",
       "    </tr>\n",
       "    <tr>\n",
       "      <th>3</th>\n",
       "      <td>41</td>\n",
       "      <td>1</td>\n",
       "      <td>15</td>\n",
       "      <td>14</td>\n",
       "      <td>120</td>\n",
       "      <td>2.9</td>\n",
       "      <td>2.658720</td>\n",
       "      <td>0.821280</td>\n",
       "      <td>0.0</td>\n",
       "    </tr>\n",
       "    <tr>\n",
       "      <th>4</th>\n",
       "      <td>24</td>\n",
       "      <td>2</td>\n",
       "      <td>2</td>\n",
       "      <td>0</td>\n",
       "      <td>28</td>\n",
       "      <td>17.3</td>\n",
       "      <td>1.787436</td>\n",
       "      <td>3.056564</td>\n",
       "      <td>1.0</td>\n",
       "    </tr>\n",
       "  </tbody>\n",
       "</table>\n",
       "</div>"
      ],
      "text/plain": [
       "   age  ed  employ  address  income  debtinc   creddebt   othdebt  default\n",
       "0   41   3      17       12     176      9.3  11.359392  5.008608      1.0\n",
       "1   27   1      10        6      31     17.3   1.362202  4.000798      0.0\n",
       "2   40   1      15       14      55      5.5   0.856075  2.168925      0.0\n",
       "3   41   1      15       14     120      2.9   2.658720  0.821280      0.0\n",
       "4   24   2       2        0      28     17.3   1.787436  3.056564      1.0"
      ]
     },
     "execution_count": 2,
     "metadata": {},
     "output_type": "execute_result"
    }
   ],
   "source": [
    "df = pd.read_csv('../input/credit-risk-analysis-for-extending-bank-loans/bankloans.csv')\n",
    "df.head()"
   ]
  },
  {
   "cell_type": "code",
   "execution_count": 3,
   "id": "af408b64",
   "metadata": {
    "execution": {
     "iopub.execute_input": "2022-11-15T10:13:07.599306Z",
     "iopub.status.busy": "2022-11-15T10:13:07.598995Z",
     "iopub.status.idle": "2022-11-15T10:13:07.609401Z",
     "shell.execute_reply": "2022-11-15T10:13:07.607835Z"
    },
    "papermill": {
     "duration": 0.020769,
     "end_time": "2022-11-15T10:13:07.612209",
     "exception": false,
     "start_time": "2022-11-15T10:13:07.591440",
     "status": "completed"
    },
    "tags": []
   },
   "outputs": [
    {
     "data": {
      "text/plain": [
       "age           0\n",
       "ed            0\n",
       "employ        0\n",
       "address       0\n",
       "income        0\n",
       "debtinc       0\n",
       "creddebt      0\n",
       "othdebt       0\n",
       "default     450\n",
       "dtype: int64"
      ]
     },
     "execution_count": 3,
     "metadata": {},
     "output_type": "execute_result"
    }
   ],
   "source": [
    "df.isnull().sum()"
   ]
  },
  {
   "cell_type": "code",
   "execution_count": 4,
   "id": "930453e4",
   "metadata": {
    "execution": {
     "iopub.execute_input": "2022-11-15T10:13:07.627024Z",
     "iopub.status.busy": "2022-11-15T10:13:07.626720Z",
     "iopub.status.idle": "2022-11-15T10:13:07.656115Z",
     "shell.execute_reply": "2022-11-15T10:13:07.654904Z"
    },
    "papermill": {
     "duration": 0.039504,
     "end_time": "2022-11-15T10:13:07.658606",
     "exception": false,
     "start_time": "2022-11-15T10:13:07.619102",
     "status": "completed"
    },
    "tags": []
   },
   "outputs": [
    {
     "data": {
      "text/plain": [
       "age  ed  employ  address  income  debtinc  creddebt  othdebt    default\n",
       "20   1   4       0        14      9.7      0.200984  1.157016   1.0        1\n",
       "39   1   10      4        31      4.8      0.184512  1.303488   0.0        1\n",
       "         0       8        39      7.9      1.066026  2.014974   0.0        1\n",
       "         2       15       22      23.1     1.915914  3.166086   1.0        1\n",
       "         4       9        38      6.5      1.178190  1.291810   0.0        1\n",
       "                                                                          ..\n",
       "30   2   8       4        56      6.4      0.333312  3.250688   0.0        1\n",
       "         10      4        22      16.1     1.409716  2.132284   0.0        1\n",
       "         12      9        68      20.1     2.856612  10.811388  0.0        1\n",
       "                          98      7.2      2.935296  4.120704   0.0        1\n",
       "56   1   11      20       59      15.0     4.672800  4.177200   0.0        1\n",
       "Length: 700, dtype: int64"
      ]
     },
     "execution_count": 4,
     "metadata": {},
     "output_type": "execute_result"
    }
   ],
   "source": [
    "df.value_counts()"
   ]
  },
  {
   "cell_type": "code",
   "execution_count": 5,
   "id": "2f356805",
   "metadata": {
    "execution": {
     "iopub.execute_input": "2022-11-15T10:13:07.674068Z",
     "iopub.status.busy": "2022-11-15T10:13:07.673417Z",
     "iopub.status.idle": "2022-11-15T10:13:07.682266Z",
     "shell.execute_reply": "2022-11-15T10:13:07.681276Z"
    },
    "papermill": {
     "duration": 0.01916,
     "end_time": "2022-11-15T10:13:07.684751",
     "exception": false,
     "start_time": "2022-11-15T10:13:07.665591",
     "status": "completed"
    },
    "tags": []
   },
   "outputs": [],
   "source": [
    "df = df.dropna()"
   ]
  },
  {
   "cell_type": "code",
   "execution_count": 6,
   "id": "f2396d91",
   "metadata": {
    "execution": {
     "iopub.execute_input": "2022-11-15T10:13:07.699794Z",
     "iopub.status.busy": "2022-11-15T10:13:07.699427Z",
     "iopub.status.idle": "2022-11-15T10:13:08.813682Z",
     "shell.execute_reply": "2022-11-15T10:13:08.812696Z"
    },
    "papermill": {
     "duration": 1.128001,
     "end_time": "2022-11-15T10:13:08.819664",
     "exception": false,
     "start_time": "2022-11-15T10:13:07.691663",
     "status": "completed"
    },
    "tags": []
   },
   "outputs": [
    {
     "data": {
      "text/plain": [
       "<AxesSubplot:xlabel='age', ylabel='income'>"
      ]
     },
     "execution_count": 6,
     "metadata": {},
     "output_type": "execute_result"
    },
    {
     "data": {
      "image/png": "[encoded data removed]",
      "text/plain": [
       "<Figure size 1440x720 with 1 Axes>"
      ]
     },
     "metadata": {
      "needs_background": "light"
     },
     "output_type": "display_data"
    }
   ],
   "source": [
    "fig,ax = plt.subplots(figsize=(20,10))\n",
    "sns.lineplot(x='age',y='income',data=df,ax=ax)"
   ]
  },
  {
   "cell_type": "code",
   "execution_count": 7,
   "id": "da8c3c30",
   "metadata": {
    "execution": {
     "iopub.execute_input": "2022-11-15T10:13:08.836187Z",
     "iopub.status.busy": "2022-11-15T10:13:08.835845Z",
     "iopub.status.idle": "2022-11-15T10:13:09.861939Z",
     "shell.execute_reply": "2022-11-15T10:13:09.860862Z"
    },
    "papermill": {
     "duration": 1.036692,
     "end_time": "2022-11-15T10:13:09.864577",
     "exception": false,
     "start_time": "2022-11-15T10:13:08.827885",
     "status": "completed"
    },
    "tags": []
   },
   "outputs": [
    {
     "data": {
      "text/plain": [
       "<AxesSubplot:xlabel='age', ylabel='debtinc'>"
      ]
     },
     "execution_count": 7,
     "metadata": {},
     "output_type": "execute_result"
    },
    {
     "data": {
      "image/png": "[encoded data removed]",
      "text/plain": [
       "<Figure size 1440x720 with 1 Axes>"
      ]
     },
     "metadata": {
      "needs_background": "light"
     },
     "output_type": "display_data"
    }
   ],
   "source": [
    "fig,ax = plt.subplots(figsize=(20,10))\n",
    "sns.lineplot(x='age',y='debtinc',data=df,ax=ax)"
   ]
  },
  {
   "cell_type": "code",
   "execution_count": 8,
   "id": "57bcb02f",
   "metadata": {
    "execution": {
     "iopub.execute_input": "2022-11-15T10:13:09.885036Z",
     "iopub.status.busy": "2022-11-15T10:13:09.883240Z",
     "iopub.status.idle": "2022-11-15T10:13:09.896147Z",
     "shell.execute_reply": "2022-11-15T10:13:09.894590Z"
    },
    "papermill": {
     "duration": 0.024439,
     "end_time": "2022-11-15T10:13:09.898656",
     "exception": false,
     "start_time": "2022-11-15T10:13:09.874217",
     "status": "completed"
    },
    "tags": []
   },
   "outputs": [
    {
     "data": {
      "text/plain": [
       "0.0    517\n",
       "1.0    183\n",
       "Name: default, dtype: int64"
      ]
     },
     "execution_count": 8,
     "metadata": {},
     "output_type": "execute_result"
    }
   ],
   "source": [
    "df['default'].value_counts()"
   ]
  },
  {
   "cell_type": "code",
   "execution_count": 9,
   "id": "366f7160",
   "metadata": {
    "execution": {
     "iopub.execute_input": "2022-11-15T10:13:09.918013Z",
     "iopub.status.busy": "2022-11-15T10:13:09.917513Z",
     "iopub.status.idle": "2022-11-15T10:13:09.923435Z",
     "shell.execute_reply": "2022-11-15T10:13:09.922313Z"
    },
    "papermill": {
     "duration": 0.018194,
     "end_time": "2022-11-15T10:13:09.926224",
     "exception": false,
     "start_time": "2022-11-15T10:13:09.908030",
     "status": "completed"
    },
    "tags": []
   },
   "outputs": [],
   "source": [
    "x=df.drop(['default'],axis=1)\n",
    "y=df['default']"
   ]
  },
  {
   "cell_type": "code",
   "execution_count": 10,
   "id": "9f6a3394",
   "metadata": {
    "execution": {
     "iopub.execute_input": "2022-11-15T10:13:09.943237Z",
     "iopub.status.busy": "2022-11-15T10:13:09.942859Z",
     "iopub.status.idle": "2022-11-15T10:13:09.949849Z",
     "shell.execute_reply": "2022-11-15T10:13:09.948960Z"
    },
    "papermill": {
     "duration": 0.017928,
     "end_time": "2022-11-15T10:13:09.952004",
     "exception": false,
     "start_time": "2022-11-15T10:13:09.934076",
     "status": "completed"
    },
    "tags": []
   },
   "outputs": [],
   "source": [
    "xtrain,xtest,ytrain,ytest = train_test_split(x,y,test_size=0.2,random_state=42)"
   ]
  },
  {
   "cell_type": "code",
   "execution_count": 11,
   "id": "6c45e93b",
   "metadata": {
    "execution": {
     "iopub.execute_input": "2022-11-15T10:13:09.969805Z",
     "iopub.status.busy": "2022-11-15T10:13:09.969465Z",
     "iopub.status.idle": "2022-11-15T10:13:09.982098Z",
     "shell.execute_reply": "2022-11-15T10:13:09.981127Z"
    },
    "papermill": {
     "duration": 0.023954,
     "end_time": "2022-11-15T10:13:09.984388",
     "exception": false,
     "start_time": "2022-11-15T10:13:09.960434",
     "status": "completed"
    },
    "tags": []
   },
   "outputs": [],
   "source": [
    "sc = StandardScaler()\n",
    "xtrain=sc.fit_transform(xtrain)\n",
    "xtest=sc.fit_transform(xtest)"
   ]
  },
  {
   "cell_type": "markdown",
   "id": "9b907431",
   "metadata": {
    "papermill": {
     "duration": 0.007806,
     "end_time": "2022-11-15T10:13:10.000300",
     "exception": false,
     "start_time": "2022-11-15T10:13:09.992494",
     "status": "completed"
    },
    "tags": []
   },
   "source": [
    "# **Creating Model**"
   ]
  },
  {
   "cell_type": "markdown",
   "id": "b0368a85",
   "metadata": {
    "papermill": {
     "duration": 0.007903,
     "end_time": "2022-11-15T10:13:10.016553",
     "exception": false,
     "start_time": "2022-11-15T10:13:10.008650",
     "status": "completed"
    },
    "tags": []
   },
   "source": [
    "Random Forest"
   ]
  },
  {
   "cell_type": "code",
   "execution_count": 12,
   "id": "fa71d81b",
   "metadata": {
    "execution": {
     "iopub.execute_input": "2022-11-15T10:13:10.034204Z",
     "iopub.status.busy": "2022-11-15T10:13:10.033900Z",
     "iopub.status.idle": "2022-11-15T10:13:10.038702Z",
     "shell.execute_reply": "2022-11-15T10:13:10.037498Z"
    },
    "papermill": {
     "duration": 0.016143,
     "end_time": "2022-11-15T10:13:10.041200",
     "exception": false,
     "start_time": "2022-11-15T10:13:10.025057",
     "status": "completed"
    },
    "tags": []
   },
   "outputs": [],
   "source": [
    "rfc = RandomForestClassifier(n_estimators=200)"
   ]
  },
  {
   "cell_type": "code",
   "execution_count": 13,
   "id": "6242e0d9",
   "metadata": {
    "execution": {
     "iopub.execute_input": "2022-11-15T10:13:10.058253Z",
     "iopub.status.busy": "2022-11-15T10:13:10.057998Z",
     "iopub.status.idle": "2022-11-15T10:13:10.440792Z",
     "shell.execute_reply": "2022-11-15T10:13:10.439696Z"
    },
    "papermill": {
     "duration": 0.394202,
     "end_time": "2022-11-15T10:13:10.443441",
     "exception": false,
     "start_time": "2022-11-15T10:13:10.049239",
     "status": "completed"
    },
    "tags": []
   },
   "outputs": [
    {
     "data": {
      "text/plain": [
       "RandomForestClassifier(n_estimators=200)"
      ]
     },
     "execution_count": 13,
     "metadata": {},
     "output_type": "execute_result"
    }
   ],
   "source": [
    "rfc.fit(xtrain,ytrain)"
   ]
  },
  {
   "cell_type": "code",
   "execution_count": 14,
   "id": "15db2fbe",
   "metadata": {
    "execution": {
     "iopub.execute_input": "2022-11-15T10:13:10.461001Z",
     "iopub.status.busy": "2022-11-15T10:13:10.460718Z",
     "iopub.status.idle": "2022-11-15T10:13:10.495826Z",
     "shell.execute_reply": "2022-11-15T10:13:10.494546Z"
    },
    "papermill": {
     "duration": 0.046432,
     "end_time": "2022-11-15T10:13:10.498188",
     "exception": false,
     "start_time": "2022-11-15T10:13:10.451756",
     "status": "completed"
    },
    "tags": []
   },
   "outputs": [
    {
     "data": {
      "text/plain": [
       "0.8"
      ]
     },
     "execution_count": 14,
     "metadata": {},
     "output_type": "execute_result"
    }
   ],
   "source": [
    "rfc.score(xtest,ytest)"
   ]
  },
  {
   "cell_type": "code",
   "execution_count": 15,
   "id": "6d9ab637",
   "metadata": {
    "execution": {
     "iopub.execute_input": "2022-11-15T10:13:10.516162Z",
     "iopub.status.busy": "2022-11-15T10:13:10.515890Z",
     "iopub.status.idle": "2022-11-15T10:13:14.176208Z",
     "shell.execute_reply": "2022-11-15T10:13:14.174941Z"
    },
    "papermill": {
     "duration": 3.672732,
     "end_time": "2022-11-15T10:13:14.179524",
     "exception": false,
     "start_time": "2022-11-15T10:13:10.506792",
     "status": "completed"
    },
    "tags": []
   },
   "outputs": [
    {
     "data": {
      "text/plain": [
       "0.7821428571428571"
      ]
     },
     "execution_count": 15,
     "metadata": {},
     "output_type": "execute_result"
    }
   ],
   "source": [
    "rfc2 = cross_val_score(estimator=rfc,X=xtrain,y=ytrain,cv=10)\n",
    "rfc2.mean()"
   ]
  },
  {
   "cell_type": "markdown",
   "id": "88879645",
   "metadata": {
    "papermill": {
     "duration": 0.007703,
     "end_time": "2022-11-15T10:13:14.196838",
     "exception": false,
     "start_time": "2022-11-15T10:13:14.189135",
     "status": "completed"
    },
    "tags": []
   },
   "source": [
    "SVM"
   ]
  },
  {
   "cell_type": "code",
   "execution_count": 16,
   "id": "7102cf61",
   "metadata": {
    "execution": {
     "iopub.execute_input": "2022-11-15T10:13:14.214263Z",
     "iopub.status.busy": "2022-11-15T10:13:14.213939Z",
     "iopub.status.idle": "2022-11-15T10:13:14.237189Z",
     "shell.execute_reply": "2022-11-15T10:13:14.236119Z"
    },
    "papermill": {
     "duration": 0.03432,
     "end_time": "2022-11-15T10:13:14.239448",
     "exception": false,
     "start_time": "2022-11-15T10:13:14.205128",
     "status": "completed"
    },
    "tags": []
   },
   "outputs": [
    {
     "data": {
      "text/plain": [
       "SVC()"
      ]
     },
     "execution_count": 16,
     "metadata": {},
     "output_type": "execute_result"
    }
   ],
   "source": [
    "sv = SVC()\n",
    "sv.fit(xtrain,ytrain)"
   ]
  },
  {
   "cell_type": "code",
   "execution_count": 17,
   "id": "4ab98416",
   "metadata": {
    "execution": {
     "iopub.execute_input": "2022-11-15T10:13:14.257764Z",
     "iopub.status.busy": "2022-11-15T10:13:14.257465Z",
     "iopub.status.idle": "2022-11-15T10:13:14.268110Z",
     "shell.execute_reply": "2022-11-15T10:13:14.266444Z"
    },
    "papermill": {
     "duration": 0.022637,
     "end_time": "2022-11-15T10:13:14.270384",
     "exception": false,
     "start_time": "2022-11-15T10:13:14.247747",
     "status": "completed"
    },
    "tags": []
   },
   "outputs": [
    {
     "data": {
      "text/plain": [
       "0.7928571428571428"
      ]
     },
     "execution_count": 17,
     "metadata": {},
     "output_type": "execute_result"
    }
   ],
   "source": [
    "sv.score(xtest,ytest)"
   ]
  },
  {
   "cell_type": "code",
   "execution_count": 18,
   "id": "db23123a",
   "metadata": {
    "execution": {
     "iopub.execute_input": "2022-11-15T10:13:14.289421Z",
     "iopub.status.busy": "2022-11-15T10:13:14.288608Z",
     "iopub.status.idle": "2022-11-15T10:13:14.294307Z",
     "shell.execute_reply": "2022-11-15T10:13:14.293381Z"
    },
    "papermill": {
     "duration": 0.017241,
     "end_time": "2022-11-15T10:13:14.296453",
     "exception": false,
     "start_time": "2022-11-15T10:13:14.279212",
     "status": "completed"
    },
    "tags": []
   },
   "outputs": [],
   "source": [
    "model = GridSearchCV(sv,{\n",
    "    'C':[0.1,0.2,0.4,0.8,1.2,1.8,4.0,7.0],\n",
    "    'gamma':[0.1,0.4,0.8,1.0,2.0,3.0],\n",
    "    'kernel':['rbf','linear']\n",
    "},scoring='accuracy',cv=10)"
   ]
  },
  {
   "cell_type": "code",
   "execution_count": 19,
   "id": "3e41d557",
   "metadata": {
    "execution": {
     "iopub.execute_input": "2022-11-15T10:13:14.316441Z",
     "iopub.status.busy": "2022-11-15T10:13:14.315555Z",
     "iopub.status.idle": "2022-11-15T10:13:28.380595Z",
     "shell.execute_reply": "2022-11-15T10:13:28.379413Z"
    },
    "papermill": {
     "duration": 14.077374,
     "end_time": "2022-11-15T10:13:28.382999",
     "exception": false,
     "start_time": "2022-11-15T10:13:14.305625",
     "status": "completed"
    },
    "tags": []
   },
   "outputs": [
    {
     "data": {
      "text/plain": [
       "GridSearchCV(cv=10, estimator=SVC(),\n",
       "             param_grid={'C': [0.1, 0.2, 0.4, 0.8, 1.2, 1.8, 4.0, 7.0],\n",
       "                         'gamma': [0.1, 0.4, 0.8, 1.0, 2.0, 3.0],\n",
       "                         'kernel': ['rbf', 'linear']},\n",
       "             scoring='accuracy')"
      ]
     },
     "execution_count": 19,
     "metadata": {},
     "output_type": "execute_result"
    }
   ],
   "source": [
    "model.fit(xtrain,ytrain)"
   ]
  },
  {
   "cell_type": "code",
   "execution_count": 20,
   "id": "fca0fc6d",
   "metadata": {
    "execution": {
     "iopub.execute_input": "2022-11-15T10:13:28.402777Z",
     "iopub.status.busy": "2022-11-15T10:13:28.402441Z",
     "iopub.status.idle": "2022-11-15T10:13:28.409751Z",
     "shell.execute_reply": "2022-11-15T10:13:28.408690Z"
    },
    "papermill": {
     "duration": 0.019545,
     "end_time": "2022-11-15T10:13:28.411941",
     "exception": false,
     "start_time": "2022-11-15T10:13:28.392396",
     "status": "completed"
    },
    "tags": []
   },
   "outputs": [
    {
     "data": {
      "text/plain": [
       "{'C': 0.1, 'gamma': 0.1, 'kernel': 'linear'}"
      ]
     },
     "execution_count": 20,
     "metadata": {},
     "output_type": "execute_result"
    }
   ],
   "source": [
    "model.best_params_"
   ]
  },
  {
   "cell_type": "code",
   "execution_count": 21,
   "id": "21550912",
   "metadata": {
    "execution": {
     "iopub.execute_input": "2022-11-15T10:13:28.431402Z",
     "iopub.status.busy": "2022-11-15T10:13:28.431097Z",
     "iopub.status.idle": "2022-11-15T10:13:28.450224Z",
     "shell.execute_reply": "2022-11-15T10:13:28.449037Z"
    },
    "papermill": {
     "duration": 0.031525,
     "end_time": "2022-11-15T10:13:28.452560",
     "exception": false,
     "start_time": "2022-11-15T10:13:28.421035",
     "status": "completed"
    },
    "tags": []
   },
   "outputs": [
    {
     "data": {
      "text/plain": [
       "0.8214285714285714"
      ]
     },
     "execution_count": 21,
     "metadata": {},
     "output_type": "execute_result"
    }
   ],
   "source": [
    "model2 = SVC(C=0.1,gamma=0.1,kernel='linear')\n",
    "model2.fit(xtrain,ytrain)\n",
    "model2.score(xtest,ytest)"
   ]
  },
  {
   "cell_type": "code",
   "execution_count": 22,
   "id": "27499780",
   "metadata": {
    "execution": {
     "iopub.execute_input": "2022-11-15T10:13:28.472508Z",
     "iopub.status.busy": "2022-11-15T10:13:28.471563Z",
     "iopub.status.idle": "2022-11-15T10:13:28.490632Z",
     "shell.execute_reply": "2022-11-15T10:13:28.489525Z"
    },
    "papermill": {
     "duration": 0.030634,
     "end_time": "2022-11-15T10:13:28.492853",
     "exception": false,
     "start_time": "2022-11-15T10:13:28.462219",
     "status": "completed"
    },
    "tags": []
   },
   "outputs": [
    {
     "data": {
      "text/plain": [
       "0.8357142857142857"
      ]
     },
     "execution_count": 22,
     "metadata": {},
     "output_type": "execute_result"
    }
   ],
   "source": [
    "lr = LogisticRegression()\n",
    "lr.fit(xtrain,ytrain)\n",
    "lr.score(xtest,ytest)"
   ]
  },
  {
   "cell_type": "code",
   "execution_count": 23,
   "id": "691c26b7",
   "metadata": {
    "execution": {
     "iopub.execute_input": "2022-11-15T10:13:28.512043Z",
     "iopub.status.busy": "2022-11-15T10:13:28.511251Z",
     "iopub.status.idle": "2022-11-15T10:13:28.763406Z",
     "shell.execute_reply": "2022-11-15T10:13:28.762532Z"
    },
    "papermill": {
     "duration": 0.263506,
     "end_time": "2022-11-15T10:13:28.765573",
     "exception": false,
     "start_time": "2022-11-15T10:13:28.502067",
     "status": "completed"
    },
    "tags": []
   },
   "outputs": [
    {
     "data": {
      "text/plain": [
       "<AxesSubplot:>"
      ]
     },
     "execution_count": 23,
     "metadata": {},
     "output_type": "execute_result"
    },
    {
     "data": {
      "image/png": "[encoded data removed]",
      "text/plain": [
       "<Figure size 1440x720 with 2 Axes>"
      ]
     },
     "metadata": {
      "needs_background": "light"
     },
     "output_type": "display_data"
    }
   ],
   "source": [
    "yp = lr.predict(xtest)\n",
    "c= confusion_matrix(ytest,yp)\n",
    "fig ,ax = plt.subplots(figsize=(20,10))\n",
    "sns.heatmap(c,ax=ax)"
   ]
  }
 ],
 "metadata": {
  "kernelspec": {
   "display_name": "Python 3",
   "language": "python",
   "name": "python3"
  },
  "language_info": {
   "codemirror_mode": {
    "name": "ipython",
    "version": 3
   },
   "file_extension": ".py",
   "mimetype": "text/x-python",
   "name": "python",
   "nbconvert_exporter": "python",
   "pygments_lexer": "ipython3",
   "version": "3.7.12"
  },
  "papermill": {
   "default_parameters": {},
   "duration": 32.231167,
   "end_time": "2022-11-15T10:13:29.394735",
   "environment_variables": {},
   "exception": null,
   "input_path": "__notebook__.ipynb",
   "output_path": "__notebook__.ipynb",
   "parameters": {},
   "start_time": "2022-11-15T10:12:57.163568",
   "version": "2.3.4"
  }
 },
 "nbformat": 4,
 "nbformat_minor": 5
}
