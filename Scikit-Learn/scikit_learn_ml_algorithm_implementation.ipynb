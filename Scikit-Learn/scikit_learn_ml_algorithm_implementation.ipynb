{
  "nbformat": 4,
  "nbformat_minor": 0,
  "metadata": {
    "colab": {
      "provenance": []
    },
    "kernelspec": {
      "name": "python3",
      "display_name": "Python 3"
    },
    "language_info": {
      "name": "python"
    }
  },
  "cells": [
    {
      "cell_type": "code",
      "execution_count": null,
      "metadata": {
        "colab": {
          "base_uri": "https://localhost:8080/"
        },
        "id": "oApWfMvyLat0",
        "outputId": "2029926a-fc77-4862-a384-e29befb19cf9"
      },
      "outputs": [
        {
          "output_type": "stream",
          "name": "stdout",
          "text": [
            "Column Names  ['sepal length (cm)', 'sepal width (cm)', 'petal length (cm)', 'petal width (cm)']\n",
            "Target Names  ['setosa' 'versicolor' 'virginica']\n",
            "Rows \n",
            " [[5.1 3.5 1.4 0.2]\n",
            " [4.9 3.  1.4 0.2]\n",
            " [4.7 3.2 1.3 0.2]\n",
            " [4.6 3.1 1.5 0.2]\n",
            " [5.  3.6 1.4 0.2]]\n"
          ]
        }
      ],
      "source": [
        "from sklearn.datasets import load_iris\n",
        "iris = load_iris()\n",
        "x = iris.data\n",
        "col_names = iris.feature_names\n",
        "t_name = iris.target_names\n",
        "print(\"Column Names \", col_names)\n",
        "print(\"Target Names \", t_name)\n",
        "print(\"Rows \\n\", x[:5])"
      ]
    },
    {
      "cell_type": "markdown",
      "source": [
        "Linear Regression"
      ],
      "metadata": {
        "id": "9FMrqmHQF1CD"
      }
    },
    {
      "cell_type": "code",
      "source": [
        "import pandas as pd\n",
        "from sklearn.datasets import load_iris\n",
        "iris = load_iris()\n",
        "df = pd.DataFrame(data = iris.data, columns = iris.feature_names)"
      ],
      "metadata": {
        "id": "rkov1ZGb-0Ql"
      },
      "execution_count": null,
      "outputs": []
    },
    {
      "cell_type": "code",
      "source": [
        "#EDA\n",
        "df.head()\n",
        "df.shape\n",
        "df.plot.scatter(x='petal width (cm)', y='petal length (cm)', title='Scatterplot');\n",
        "print(df.corr())\n",
        "print(df.describe())"
      ],
      "metadata": {
        "colab": {
          "base_uri": "https://localhost:8080/",
          "height": 816
        },
        "id": "bYgcH6qV_S-O",
        "outputId": "8dcbd3af-9c58-4cc5-8276-52856c325054"
      },
      "execution_count": null,
      "outputs": [
        {
          "output_type": "stream",
          "name": "stdout",
          "text": [
            "                   sepal length (cm)  sepal width (cm)  petal length (cm)  \\\n",
            "sepal length (cm)           1.000000         -0.117570           0.871754   \n",
            "sepal width (cm)           -0.117570          1.000000          -0.428440   \n",
            "petal length (cm)           0.871754         -0.428440           1.000000   \n",
            "petal width (cm)            0.817941         -0.366126           0.962865   \n",
            "\n",
            "                   petal width (cm)  \n",
            "sepal length (cm)          0.817941  \n",
            "sepal width (cm)          -0.366126  \n",
            "petal length (cm)          0.962865  \n",
            "petal width (cm)           1.000000  \n",
            "       sepal length (cm)  sepal width (cm)  petal length (cm)  \\\n",
            "count         150.000000        150.000000         150.000000   \n",
            "mean            5.843333          3.057333           3.758000   \n",
            "std             0.828066          0.435866           1.765298   \n",
            "min             4.300000          2.000000           1.000000   \n",
            "25%             5.100000          2.800000           1.600000   \n",
            "50%             5.800000          3.000000           4.350000   \n",
            "75%             6.400000          3.300000           5.100000   \n",
            "max             7.900000          4.400000           6.900000   \n",
            "\n",
            "       petal width (cm)  \n",
            "count        150.000000  \n",
            "mean           1.199333  \n",
            "std            0.762238  \n",
            "min            0.100000  \n",
            "25%            0.300000  \n",
            "50%            1.300000  \n",
            "75%            1.800000  \n",
            "max            2.500000  \n"
          ]
        },
        {
          "output_type": "display_data",
          "data": {
            "text/plain": [
              "<Figure size 432x288 with 1 Axes>"
            ],
            "image/png": "[encoded data removed]"
          },
          "metadata": {
            "needs_background": "light"
          }
        }
      ]
    },
    {
      "cell_type": "code",
      "source": [
        "#Pre processing\n",
        "y = df['petal width (cm)'].values.reshape(-1,1)\n",
        "X = df['petal length (cm)'].values.reshape(-1,1)\n",
        "from sklearn.model_selection import train_test_split\n",
        "X_train, X_test, y_train, y_test = train_test_split(X,y,test_size=0.2)\n",
        "print(X_train)\n",
        "print(y_train)"
      ],
      "metadata": {
        "colab": {
          "base_uri": "https://localhost:8080/"
        },
        "id": "3JBfmgpdH8yj",
        "outputId": "08f25ee6-0762-4974-8433-99e72000de10"
      },
      "execution_count": null,
      "outputs": [
        {
          "output_type": "stream",
          "name": "stdout",
          "text": [
            "[[1.3]\n",
            " [5.1]\n",
            " [6.4]\n",
            " [4.2]\n",
            " [4.2]\n",
            " [1.4]\n",
            " [4. ]\n",
            " [4.6]\n",
            " [5.6]\n",
            " [1.4]\n",
            " [5.5]\n",
            " [1.5]\n",
            " [1.4]\n",
            " [1.5]\n",
            " [5.1]\n",
            " [4.7]\n",
            " [1.7]\n",
            " [1.5]\n",
            " [4.7]\n",
            " [5. ]\n",
            " [3.3]\n",
            " [4. ]\n",
            " [4.5]\n",
            " [5.1]\n",
            " [1.5]\n",
            " [4.6]\n",
            " [5.1]\n",
            " [1.7]\n",
            " [3.8]\n",
            " [4.5]\n",
            " [1.4]\n",
            " [1.3]\n",
            " [5.8]\n",
            " [4.4]\n",
            " [4.4]\n",
            " [5.6]\n",
            " [4.8]\n",
            " [1.4]\n",
            " [6.9]\n",
            " [5.9]\n",
            " [5.8]\n",
            " [5. ]\n",
            " [4.2]\n",
            " [1.5]\n",
            " [1.3]\n",
            " [3.5]\n",
            " [1.4]\n",
            " [4.1]\n",
            " [1. ]\n",
            " [4.7]\n",
            " [5.8]\n",
            " [5.6]\n",
            " [4.7]\n",
            " [1.3]\n",
            " [4.5]\n",
            " [4. ]\n",
            " [5.5]\n",
            " [3.3]\n",
            " [4.9]\n",
            " [1.7]\n",
            " [4.6]\n",
            " [3.9]\n",
            " [5. ]\n",
            " [1.5]\n",
            " [5.2]\n",
            " [4.8]\n",
            " [1.6]\n",
            " [4.1]\n",
            " [5.1]\n",
            " [6.1]\n",
            " [1.5]\n",
            " [4.9]\n",
            " [1.4]\n",
            " [5.9]\n",
            " [4.3]\n",
            " [4.5]\n",
            " [5.6]\n",
            " [5.7]\n",
            " [1.6]\n",
            " [1.4]\n",
            " [1.5]\n",
            " [1.3]\n",
            " [4.1]\n",
            " [4.5]\n",
            " [1.2]\n",
            " [1.6]\n",
            " [6. ]\n",
            " [6.1]\n",
            " [4.4]\n",
            " [1.5]\n",
            " [1.5]\n",
            " [5.7]\n",
            " [5.1]\n",
            " [4.5]\n",
            " [5.6]\n",
            " [5.7]\n",
            " [5. ]\n",
            " [6.3]\n",
            " [4.5]\n",
            " [5.3]\n",
            " [4. ]\n",
            " [4.7]\n",
            " [6.6]\n",
            " [1.9]\n",
            " [6.7]\n",
            " [4. ]\n",
            " [1.4]\n",
            " [1.3]\n",
            " [1.6]\n",
            " [1.6]\n",
            " [5.1]\n",
            " [5.2]\n",
            " [6. ]\n",
            " [3.9]\n",
            " [4.4]\n",
            " [1.4]\n",
            " [4.2]\n",
            " [6.7]\n",
            " [1.4]\n",
            " [3.7]]\n",
            "[[0.2]\n",
            " [1.6]\n",
            " [2. ]\n",
            " [1.5]\n",
            " [1.3]\n",
            " [0.1]\n",
            " [1.3]\n",
            " [1.3]\n",
            " [2.1]\n",
            " [0.2]\n",
            " [1.8]\n",
            " [0.4]\n",
            " [0.2]\n",
            " [0.2]\n",
            " [1.9]\n",
            " [1.5]\n",
            " [0.5]\n",
            " [0.2]\n",
            " [1.6]\n",
            " [1.9]\n",
            " [1. ]\n",
            " [1.3]\n",
            " [1.5]\n",
            " [1.5]\n",
            " [0.4]\n",
            " [1.4]\n",
            " [2. ]\n",
            " [0.2]\n",
            " [1.1]\n",
            " [1.3]\n",
            " [0.3]\n",
            " [0.4]\n",
            " [1.8]\n",
            " [1.4]\n",
            " [1.4]\n",
            " [1.8]\n",
            " [1.8]\n",
            " [0.2]\n",
            " [2.3]\n",
            " [2.3]\n",
            " [2.2]\n",
            " [1.7]\n",
            " [1.3]\n",
            " [0.3]\n",
            " [0.2]\n",
            " [1. ]\n",
            " [0.2]\n",
            " [1.3]\n",
            " [0.2]\n",
            " [1.2]\n",
            " [1.6]\n",
            " [2.4]\n",
            " [1.4]\n",
            " [0.2]\n",
            " [1.5]\n",
            " [1. ]\n",
            " [1.8]\n",
            " [1. ]\n",
            " [1.5]\n",
            " [0.4]\n",
            " [1.5]\n",
            " [1.4]\n",
            " [2. ]\n",
            " [0.4]\n",
            " [2.3]\n",
            " [1.8]\n",
            " [0.2]\n",
            " [1. ]\n",
            " [1.8]\n",
            " [2.3]\n",
            " [0.2]\n",
            " [2. ]\n",
            " [0.3]\n",
            " [2.1]\n",
            " [1.3]\n",
            " [1.7]\n",
            " [2.2]\n",
            " [2.3]\n",
            " [0.2]\n",
            " [0.2]\n",
            " [0.1]\n",
            " [0.2]\n",
            " [1.3]\n",
            " [1.5]\n",
            " [0.2]\n",
            " [0.4]\n",
            " [1.8]\n",
            " [2.5]\n",
            " [1.2]\n",
            " [0.2]\n",
            " [0.2]\n",
            " [2.1]\n",
            " [1.9]\n",
            " [1.5]\n",
            " [1.4]\n",
            " [2.5]\n",
            " [1.5]\n",
            " [1.8]\n",
            " [1.6]\n",
            " [2.3]\n",
            " [1.3]\n",
            " [1.4]\n",
            " [2.1]\n",
            " [0.4]\n",
            " [2.2]\n",
            " [1.2]\n",
            " [0.2]\n",
            " [0.3]\n",
            " [0.2]\n",
            " [0.2]\n",
            " [2.4]\n",
            " [2. ]\n",
            " [2.5]\n",
            " [1.2]\n",
            " [1.3]\n",
            " [0.2]\n",
            " [1.2]\n",
            " [2. ]\n",
            " [0.3]\n",
            " [1. ]]\n"
          ]
        }
      ]
    },
    {
      "cell_type": "code",
      "source": [
        "#Pre processing\n",
        "y = df['petal width (cm)'].values.reshape(-1,1)\n",
        "X = df['petal length (cm)'].values.reshape(-1,1)\n",
        "from sklearn.model_selection import train_test_split\n",
        "X_train, X_test, y_train, y_test = train_test_split(X, y, test_size=0.2)\n",
        "print(X_train)\n",
        "print(y_train)"
      ],
      "metadata": {
        "colab": {
          "base_uri": "https://localhost:8080/"
        },
        "id": "a7CaD2jNAZIf",
        "outputId": "bd97652e-e15c-4089-985a-bd603c670546"
      },
      "execution_count": null,
      "outputs": [
        {
          "output_type": "stream",
          "name": "stdout",
          "text": [
            "[[1.3]\n",
            " [1.4]\n",
            " [1.7]\n",
            " [5.5]\n",
            " [3.8]\n",
            " [1.5]\n",
            " [4.3]\n",
            " [5.2]\n",
            " [1.9]\n",
            " [6.7]\n",
            " [4. ]\n",
            " [3.3]\n",
            " [5.6]\n",
            " [4.7]\n",
            " [1.6]\n",
            " [6.3]\n",
            " [4.5]\n",
            " [4.2]\n",
            " [1.4]\n",
            " [1.4]\n",
            " [4.5]\n",
            " [1.7]\n",
            " [5.8]\n",
            " [5.9]\n",
            " [4.2]\n",
            " [5.1]\n",
            " [1.3]\n",
            " [5.1]\n",
            " [6.1]\n",
            " [4.9]\n",
            " [4.5]\n",
            " [3.5]\n",
            " [4.8]\n",
            " [5.1]\n",
            " [1.6]\n",
            " [1.4]\n",
            " [1.5]\n",
            " [5.1]\n",
            " [3.7]\n",
            " [5.6]\n",
            " [4.3]\n",
            " [1.3]\n",
            " [5.4]\n",
            " [1.5]\n",
            " [5.8]\n",
            " [1.1]\n",
            " [1.3]\n",
            " [1.5]\n",
            " [1.5]\n",
            " [6.9]\n",
            " [4. ]\n",
            " [1.4]\n",
            " [5.6]\n",
            " [4.7]\n",
            " [6.1]\n",
            " [5.6]\n",
            " [3.9]\n",
            " [4.8]\n",
            " [5.1]\n",
            " [5. ]\n",
            " [4.2]\n",
            " [4. ]\n",
            " [1.7]\n",
            " [3.9]\n",
            " [6.4]\n",
            " [1. ]\n",
            " [1.6]\n",
            " [1.4]\n",
            " [1.7]\n",
            " [1.5]\n",
            " [4.4]\n",
            " [4.1]\n",
            " [1.5]\n",
            " [4.7]\n",
            " [1.5]\n",
            " [5.1]\n",
            " [5.5]\n",
            " [3.9]\n",
            " [1.5]\n",
            " [1.4]\n",
            " [1.5]\n",
            " [1.5]\n",
            " [5.7]\n",
            " [4.4]\n",
            " [6.1]\n",
            " [3.6]\n",
            " [4.1]\n",
            " [4.7]\n",
            " [4.5]\n",
            " [4.6]\n",
            " [4.4]\n",
            " [1.4]\n",
            " [4.8]\n",
            " [4.6]\n",
            " [3.3]\n",
            " [5.8]\n",
            " [1.3]\n",
            " [1.6]\n",
            " [6. ]\n",
            " [4.8]\n",
            " [1.4]\n",
            " [4.9]\n",
            " [5.1]\n",
            " [4.4]\n",
            " [5.7]\n",
            " [5.6]\n",
            " [6.7]\n",
            " [4.2]\n",
            " [5.5]\n",
            " [1.4]\n",
            " [5.1]\n",
            " [1.5]\n",
            " [1.2]\n",
            " [1.6]\n",
            " [4.5]\n",
            " [4. ]\n",
            " [1.9]\n",
            " [1.6]\n",
            " [4.9]\n",
            " [4.5]]\n",
            "[[0.2]\n",
            " [0.2]\n",
            " [0.3]\n",
            " [2.1]\n",
            " [1.1]\n",
            " [0.4]\n",
            " [1.3]\n",
            " [2. ]\n",
            " [0.4]\n",
            " [2.2]\n",
            " [1.2]\n",
            " [1. ]\n",
            " [2.1]\n",
            " [1.2]\n",
            " [0.4]\n",
            " [1.8]\n",
            " [1.6]\n",
            " [1.3]\n",
            " [0.2]\n",
            " [0.1]\n",
            " [1.5]\n",
            " [0.4]\n",
            " [1.8]\n",
            " [2.1]\n",
            " [1.2]\n",
            " [1.9]\n",
            " [0.3]\n",
            " [2.3]\n",
            " [2.5]\n",
            " [2. ]\n",
            " [1.7]\n",
            " [1. ]\n",
            " [1.4]\n",
            " [2.4]\n",
            " [0.2]\n",
            " [0.2]\n",
            " [0.2]\n",
            " [1.9]\n",
            " [1. ]\n",
            " [2.4]\n",
            " [1.3]\n",
            " [0.4]\n",
            " [2.1]\n",
            " [0.2]\n",
            " [2.2]\n",
            " [0.1]\n",
            " [0.2]\n",
            " [0.2]\n",
            " [0.3]\n",
            " [2.3]\n",
            " [1.3]\n",
            " [0.2]\n",
            " [1.8]\n",
            " [1.4]\n",
            " [2.3]\n",
            " [1.4]\n",
            " [1.2]\n",
            " [1.8]\n",
            " [1.8]\n",
            " [1.5]\n",
            " [1.5]\n",
            " [1.3]\n",
            " [0.2]\n",
            " [1.4]\n",
            " [2. ]\n",
            " [0.2]\n",
            " [0.2]\n",
            " [0.3]\n",
            " [0.5]\n",
            " [0.1]\n",
            " [1.3]\n",
            " [1.3]\n",
            " [0.2]\n",
            " [1.5]\n",
            " [0.2]\n",
            " [1.6]\n",
            " [1.8]\n",
            " [1.1]\n",
            " [0.4]\n",
            " [0.2]\n",
            " [0.2]\n",
            " [0.4]\n",
            " [2.5]\n",
            " [1.4]\n",
            " [1.9]\n",
            " [1.3]\n",
            " [1. ]\n",
            " [1.6]\n",
            " [1.5]\n",
            " [1.4]\n",
            " [1.4]\n",
            " [0.3]\n",
            " [1.8]\n",
            " [1.5]\n",
            " [1. ]\n",
            " [1.6]\n",
            " [0.2]\n",
            " [0.6]\n",
            " [2.5]\n",
            " [1.8]\n",
            " [0.2]\n",
            " [1.5]\n",
            " [2. ]\n",
            " [1.2]\n",
            " [2.1]\n",
            " [2.2]\n",
            " [2. ]\n",
            " [1.3]\n",
            " [1.8]\n",
            " [0.1]\n",
            " [1.5]\n",
            " [0.1]\n",
            " [0.2]\n",
            " [0.2]\n",
            " [1.5]\n",
            " [1.3]\n",
            " [0.2]\n",
            " [0.2]\n",
            " [1.5]\n",
            " [1.5]]\n"
          ]
        }
      ]
    },
    {
      "cell_type": "code",
      "source": [
        "#train the model\n",
        "from sklearn.linear_model import LinearRegression\n",
        "regressor = LinearRegression()\n",
        "regressor.fit(X_train,y_train)\n",
        "print(regressor.intercept_)\n",
        "print(regressor.coef_)\n"
      ],
      "metadata": {
        "colab": {
          "base_uri": "https://localhost:8080/"
        },
        "id": "AeI9Dm6IBoZk",
        "outputId": "ac1ad8cb-bd95-4bf4-886c-9e971500b284"
      },
      "execution_count": null,
      "outputs": [
        {
          "output_type": "stream",
          "name": "stdout",
          "text": [
            "[-0.35340004]\n",
            "[[0.40934446]]\n"
          ]
        }
      ]
    },
    {
      "cell_type": "code",
      "source": [
        "#Predictions\n",
        "score = regressor.predict([[7.5]])\n",
        "print(score)"
      ],
      "metadata": {
        "colab": {
          "base_uri": "https://localhost:8080/"
        },
        "id": "PLYJOVP5CQFg",
        "outputId": "d2d433fa-8228-46cc-9ae7-6fad1647a186"
      },
      "execution_count": null,
      "outputs": [
        {
          "output_type": "stream",
          "name": "stdout",
          "text": [
            "[[2.71668339]]\n"
          ]
        }
      ]
    },
    {
      "cell_type": "code",
      "source": [
        "def calc(slope,intercept,value):\n",
        "  return slope*value + intercept"
      ],
      "metadata": {
        "id": "3WKsuTMQClGa"
      },
      "execution_count": null,
      "outputs": []
    },
    {
      "cell_type": "code",
      "source": [
        "score = calc(regressor.coef_,regressor.intercept_,7.5)\n",
        "print(score)"
      ],
      "metadata": {
        "colab": {
          "base_uri": "https://localhost:8080/"
        },
        "id": "5Wx6Z2RxCzvc",
        "outputId": "0223b839-94f6-4348-e7e8-8252ec03ae92"
      },
      "execution_count": null,
      "outputs": [
        {
          "output_type": "stream",
          "name": "stdout",
          "text": [
            "[[2.71668339]]\n"
          ]
        }
      ]
    },
    {
      "cell_type": "code",
      "source": [
        "y_pred = regressor.predict(X_test)\n",
        "df_pred = pd.DataFrame({'Actual': y_test.squeeze(), 'Predicted': y_pred.squeeze()})\n",
        "print(df_pred)"
      ],
      "metadata": {
        "colab": {
          "base_uri": "https://localhost:8080/"
        },
        "id": "16Gyr1bZDJsq",
        "outputId": "3825878a-effa-4412-c132-886749e718b3"
      },
      "execution_count": null,
      "outputs": [
        {
          "output_type": "stream",
          "name": "stdout",
          "text": [
            "    Actual  Predicted\n",
            "0      1.3   1.324912\n",
            "1      0.2   0.219682\n",
            "2      1.3   1.488650\n",
            "3      0.3   0.178748\n",
            "4      2.0   1.693322\n",
            "5      0.2   0.219682\n",
            "6      2.3   2.061732\n",
            "7      1.9   1.816126\n",
            "8      1.4   1.570519\n",
            "9      1.7   1.693322\n",
            "10     1.5   1.488650\n",
            "11     2.4   1.938929\n",
            "12     1.9   1.693322\n",
            "13     1.8   1.652388\n",
            "14     1.3   1.529584\n",
            "15     1.1   0.874633\n",
            "16     2.3   1.857060\n",
            "17     0.2   0.301551\n",
            "18     0.3   0.219682\n",
            "19     0.2   0.137813\n",
            "20     0.2   0.178748\n",
            "21     2.3   1.979863\n",
            "22     2.1   2.348273\n",
            "23     2.3   1.775191\n",
            "24     2.3   1.816126\n",
            "25     1.8   1.652388\n",
            "26     1.8   2.102667\n",
            "27     1.0   1.079306\n",
            "28     1.0   1.283978\n",
            "29     0.2   0.260617\n"
          ]
        }
      ]
    },
    {
      "cell_type": "code",
      "source": [
        "#Evaluating the model\n",
        "from sklearn.metrics import mean_absolute_error, mean_squared_error\n",
        "import numpy as np\n",
        "mae = mean_absolute_error(y_test,y_pred)\n",
        "mse = mean_squared_error(y_test,y_pred)\n",
        "rmse = np.sqrt(mse);\n",
        "print(mae)\n",
        "print(mse)\n",
        "print(rmse)"
      ],
      "metadata": {
        "colab": {
          "base_uri": "https://localhost:8080/"
        },
        "id": "9PuBk0lqD6nN",
        "outputId": "4a29157a-a3b6-427b-e00a-02f2e4d464df"
      },
      "execution_count": null,
      "outputs": [
        {
          "output_type": "stream",
          "name": "stdout",
          "text": [
            "0.18737925293660246\n",
            "0.05714508862677294\n",
            "0.2390503893047927\n"
          ]
        }
      ]
    },
    {
      "cell_type": "markdown",
      "source": [
        "Multiple Linear Regression"
      ],
      "metadata": {
        "id": "uxXRTddDu80H"
      }
    },
    {
      "cell_type": "code",
      "source": [
        "import pandas as pd\n",
        "from sklearn import linear_model\n",
        "from sklearn.datasets import load_iris\n",
        "data = load_iris()\n",
        "df = pd.DataFrame(data = data.data, columns = data.feature_names)"
      ],
      "metadata": {
        "id": "udWppA1es3mX"
      },
      "execution_count": null,
      "outputs": []
    },
    {
      "cell_type": "code",
      "source": [
        "y = df['petal width (cm)']\n",
        "X = df[['petal length (cm)','sepal length (cm)']]"
      ],
      "metadata": {
        "id": "fAkI04UBtOtK"
      },
      "execution_count": null,
      "outputs": []
    },
    {
      "cell_type": "code",
      "source": [
        "regr = linear_model.LinearRegression()\n",
        "regr.fit(X,y)\n",
        "print(regr.coef_)"
      ],
      "metadata": {
        "colab": {
          "base_uri": "https://localhost:8080/"
        },
        "id": "eY4x6m42tqjF",
        "outputId": "6cfc2565-3fea-4a98-9edc-d87314940131"
      },
      "execution_count": null,
      "outputs": [
        {
          "output_type": "stream",
          "name": "stdout",
          "text": [
            "[ 0.44937611 -0.08221782]\n"
          ]
        }
      ]
    },
    {
      "cell_type": "code",
      "source": [
        "pred = regr.predict([[7.2,6]])\n",
        "print(pred)"
      ],
      "metadata": {
        "colab": {
          "base_uri": "https://localhost:8080/"
        },
        "id": "1ZqDzLpYt4X0",
        "outputId": "e3559a71-e377-4921-fcef-d836fbc01859"
      },
      "execution_count": null,
      "outputs": [
        {
          "output_type": "stream",
          "name": "stdout",
          "text": [
            "[2.73320513]\n"
          ]
        },
        {
          "output_type": "stream",
          "name": "stderr",
          "text": [
            "/usr/local/lib/python3.7/dist-packages/sklearn/base.py:451: UserWarning: X does not have valid feature names, but LinearRegression was fitted with feature names\n",
            "  \"X does not have valid feature names, but\"\n"
          ]
        }
      ]
    },
    {
      "cell_type": "code",
      "source": [
        "def calc1(slope1,slope2, intercept, x1,x2):\n",
        "  return slope1*x1 + slope2*x2 + intercept"
      ],
      "metadata": {
        "id": "CEWcyLPVuGQv"
      },
      "execution_count": null,
      "outputs": []
    },
    {
      "cell_type": "code",
      "source": [
        "fpred = calc1(regr.coef_[0],regr.coef_[1], regr.intercept_, 7.2,6)\n",
        "print(fpred)"
      ],
      "metadata": {
        "colab": {
          "base_uri": "https://localhost:8080/"
        },
        "id": "sNYVhja3udJC",
        "outputId": "8c056094-5d56-4340-a9ec-364f9b7b865e"
      },
      "execution_count": null,
      "outputs": [
        {
          "output_type": "stream",
          "name": "stdout",
          "text": [
            "2.7332051290284105\n"
          ]
        }
      ]
    },
    {
      "cell_type": "markdown",
      "source": [
        "Logistic Regression"
      ],
      "metadata": {
        "id": "fyLEOVuqcs2S"
      }
    },
    {
      "cell_type": "code",
      "source": [
        "import numpy as np\n",
        "from sklearn.linear_model import LogisticRegression\n",
        "from sklearn.metrics import classification_report, confusion_matrix"
      ],
      "metadata": {
        "id": "aOlX64uPykYg"
      },
      "execution_count": null,
      "outputs": []
    },
    {
      "cell_type": "code",
      "source": [
        "x = np.arange(10).reshape(-1,1)\n",
        "y = np.array([0,1,0,0,1,1,1,1,1,1])\n",
        "print(x)\n",
        "print(y)"
      ],
      "metadata": {
        "colab": {
          "base_uri": "https://localhost:8080/"
        },
        "id": "DMpxanKsy8cN",
        "outputId": "8b2429df-b32d-41cc-f7d5-8f819351c707"
      },
      "execution_count": null,
      "outputs": [
        {
          "output_type": "stream",
          "name": "stdout",
          "text": [
            "[[0]\n",
            " [1]\n",
            " [2]\n",
            " [3]\n",
            " [4]\n",
            " [5]\n",
            " [6]\n",
            " [7]\n",
            " [8]\n",
            " [9]]\n",
            "[0 1 0 0 1 1 1 1 1 1]\n"
          ]
        }
      ]
    },
    {
      "cell_type": "code",
      "source": [
        "model = LogisticRegression(solver='liblinear',C=10.0, random_state=0)\n",
        "model.fit(x,y)"
      ],
      "metadata": {
        "colab": {
          "base_uri": "https://localhost:8080/"
        },
        "id": "t3Mk_2j0zYRJ",
        "outputId": "17cfa677-e21e-4639-9222-baed6185f397"
      },
      "execution_count": null,
      "outputs": [
        {
          "output_type": "execute_result",
          "data": {
            "text/plain": [
              "LogisticRegression(C=10.0, random_state=0, solver='liblinear')"
            ]
          },
          "metadata": {},
          "execution_count": 4
        }
      ]
    },
    {
      "cell_type": "code",
      "source": [
        "print(model.intercept_)\n",
        "print(model.coef_)"
      ],
      "metadata": {
        "colab": {
          "base_uri": "https://localhost:8080/"
        },
        "id": "SLejl6xKz5hz",
        "outputId": "c1df7812-e0de-415d-ec8f-afc6e1e05cf8"
      },
      "execution_count": null,
      "outputs": [
        {
          "output_type": "stream",
          "name": "stdout",
          "text": [
            "[-1.51632619]\n",
            "[[0.703457]]\n"
          ]
        }
      ]
    },
    {
      "cell_type": "code",
      "source": [
        "p_pred = model.predict_proba(x)\n",
        "y_pred = model.predict(x)\n",
        "print(p_pred)\n",
        "print(y_pred)"
      ],
      "metadata": {
        "colab": {
          "base_uri": "https://localhost:8080/"
        },
        "id": "durqbzvg0Dx3",
        "outputId": "fd4fe2de-28bc-4f09-957f-cb45798f99ab"
      },
      "execution_count": null,
      "outputs": [
        {
          "output_type": "stream",
          "name": "stdout",
          "text": [
            "[[0.81999686 0.18000314]\n",
            " [0.69272057 0.30727943]\n",
            " [0.52732579 0.47267421]\n",
            " [0.35570732 0.64429268]\n",
            " [0.21458576 0.78541424]\n",
            " [0.11910229 0.88089771]\n",
            " [0.06271329 0.93728671]\n",
            " [0.03205032 0.96794968]\n",
            " [0.0161218  0.9838782 ]\n",
            " [0.00804372 0.99195628]]\n",
            "[0 0 0 1 1 1 1 1 1 1]\n"
          ]
        }
      ]
    },
    {
      "cell_type": "code",
      "source": [
        "score = model.score(x,y)\n",
        "print(score)"
      ],
      "metadata": {
        "colab": {
          "base_uri": "https://localhost:8080/"
        },
        "id": "iJNSz4DR1QBn",
        "outputId": "69def64e-0f0b-4795-d075-46d860f14058"
      },
      "execution_count": null,
      "outputs": [
        {
          "output_type": "stream",
          "name": "stdout",
          "text": [
            "0.8\n"
          ]
        }
      ]
    },
    {
      "cell_type": "code",
      "source": [
        "#confusion matrix\n",
        "conf = confusion_matrix(y,y_pred)\n",
        "print(conf)"
      ],
      "metadata": {
        "colab": {
          "base_uri": "https://localhost:8080/"
        },
        "id": "tHshcyEN1WK_",
        "outputId": "3671ae3c-c371-4b1b-9109-ea02d687e5b6"
      },
      "execution_count": null,
      "outputs": [
        {
          "output_type": "stream",
          "name": "stdout",
          "text": [
            "[[2 1]\n",
            " [1 6]]\n"
          ]
        }
      ]
    },
    {
      "cell_type": "code",
      "source": [
        "report = classification_report(y,y_pred)\n",
        "print(report)"
      ],
      "metadata": {
        "colab": {
          "base_uri": "https://localhost:8080/"
        },
        "id": "jaLGOqTe2IPA",
        "outputId": "d25450b0-fbc8-42e7-9816-85112b04c458"
      },
      "execution_count": null,
      "outputs": [
        {
          "output_type": "stream",
          "name": "stdout",
          "text": [
            "              precision    recall  f1-score   support\n",
            "\n",
            "           0       0.67      0.67      0.67         3\n",
            "           1       0.86      0.86      0.86         7\n",
            "\n",
            "    accuracy                           0.80        10\n",
            "   macro avg       0.76      0.76      0.76        10\n",
            "weighted avg       0.80      0.80      0.80        10\n",
            "\n"
          ]
        }
      ]
    },
    {
      "cell_type": "markdown",
      "source": [
        "KNN"
      ],
      "metadata": {
        "id": "dC3_MQ7ll1Ye"
      }
    },
    {
      "cell_type": "code",
      "source": [
        "from sklearn import datasets\n",
        "import pandas as pd\n",
        "wine = datasets.load_wine()\n",
        "print(wine.feature_names)\n",
        "print(wine.data.shape)\n",
        "print(wine.data[:5])\n",
        "\n",
        "df = pd.DataFrame(data = wine.data, columns = wine.feature_names)\n",
        "df.head()"
      ],
      "metadata": {
        "colab": {
          "base_uri": "https://localhost:8080/",
          "height": 478
        },
        "id": "1s9xvpX0l2OK",
        "outputId": "e5011d21-6261-43ce-b614-18f33f63ded9"
      },
      "execution_count": null,
      "outputs": [
        {
          "output_type": "stream",
          "name": "stdout",
          "text": [
            "['alcohol', 'malic_acid', 'ash', 'alcalinity_of_ash', 'magnesium', 'total_phenols', 'flavanoids', 'nonflavanoid_phenols', 'proanthocyanins', 'color_intensity', 'hue', 'od280/od315_of_diluted_wines', 'proline']\n",
            "(178, 13)\n",
            "[[1.423e+01 1.710e+00 2.430e+00 1.560e+01 1.270e+02 2.800e+00 3.060e+00\n",
            "  2.800e-01 2.290e+00 5.640e+00 1.040e+00 3.920e+00 1.065e+03]\n",
            " [1.320e+01 1.780e+00 2.140e+00 1.120e+01 1.000e+02 2.650e+00 2.760e+00\n",
            "  2.600e-01 1.280e+00 4.380e+00 1.050e+00 3.400e+00 1.050e+03]\n",
            " [1.316e+01 2.360e+00 2.670e+00 1.860e+01 1.010e+02 2.800e+00 3.240e+00\n",
            "  3.000e-01 2.810e+00 5.680e+00 1.030e+00 3.170e+00 1.185e+03]\n",
            " [1.437e+01 1.950e+00 2.500e+00 1.680e+01 1.130e+02 3.850e+00 3.490e+00\n",
            "  2.400e-01 2.180e+00 7.800e+00 8.600e-01 3.450e+00 1.480e+03]\n",
            " [1.324e+01 2.590e+00 2.870e+00 2.100e+01 1.180e+02 2.800e+00 2.690e+00\n",
            "  3.900e-01 1.820e+00 4.320e+00 1.040e+00 2.930e+00 7.350e+02]]\n"
          ]
        },
        {
          "output_type": "execute_result",
          "data": {
            "text/plain": [
              "   alcohol  malic_acid   ash  alcalinity_of_ash  magnesium  total_phenols  \\\n",
              "0    14.23        1.71  2.43               15.6      127.0           2.80   \n",
              "1    13.20        1.78  2.14               11.2      100.0           2.65   \n",
              "2    13.16        2.36  2.67               18.6      101.0           2.80   \n",
              "3    14.37        1.95  2.50               16.8      113.0           3.85   \n",
              "4    13.24        2.59  2.87               21.0      118.0           2.80   \n",
              "\n",
              "   flavanoids  nonflavanoid_phenols  proanthocyanins  color_intensity   hue  \\\n",
              "0        3.06                  0.28             2.29             5.64  1.04   \n",
              "1        2.76                  0.26             1.28             4.38  1.05   \n",
              "2        3.24                  0.30             2.81             5.68  1.03   \n",
              "3        3.49                  0.24             2.18             7.80  0.86   \n",
              "4        2.69                  0.39             1.82             4.32  1.04   \n",
              "\n",
              "   od280/od315_of_diluted_wines  proline  \n",
              "0                          3.92   1065.0  \n",
              "1                          3.40   1050.0  \n",
              "2                          3.17   1185.0  \n",
              "3                          3.45   1480.0  \n",
              "4                          2.93    735.0  "
            ],
            "text/html": [
              "\n",
              "  <div id=\"df-d3f32a61-406c-4d74-9904-7f82a63b382a\">\n",
              "    <div class=\"colab-df-container\">\n",
              "      <div>\n",
              "<style scoped>\n",
              "    .dataframe tbody tr th:only-of-type {\n",
              "        vertical-align: middle;\n",
              "    }\n",
              "\n",
              "    .dataframe tbody tr th {\n",
              "        vertical-align: top;\n",
              "    }\n",
              "\n",
              "    .dataframe thead th {\n",
              "        text-align: right;\n",
              "    }\n",
              "</style>\n",
              "<table border=\"1\" class=\"dataframe\">\n",
              "  <thead>\n",
              "    <tr style=\"text-align: right;\">\n",
              "      <th></th>\n",
              "      <th>alcohol</th>\n",
              "      <th>malic_acid</th>\n",
              "      <th>ash</th>\n",
              "      <th>alcalinity_of_ash</th>\n",
              "      <th>magnesium</th>\n",
              "      <th>total_phenols</th>\n",
              "      <th>flavanoids</th>\n",
              "      <th>nonflavanoid_phenols</th>\n",
              "      <th>proanthocyanins</th>\n",
              "      <th>color_intensity</th>\n",
              "      <th>hue</th>\n",
              "      <th>od280/od315_of_diluted_wines</th>\n",
              "      <th>proline</th>\n",
              "    </tr>\n",
              "  </thead>\n",
              "  <tbody>\n",
              "    <tr>\n",
              "      <th>0</th>\n",
              "      <td>14.23</td>\n",
              "      <td>1.71</td>\n",
              "      <td>2.43</td>\n",
              "      <td>15.6</td>\n",
              "      <td>127.0</td>\n",
              "      <td>2.80</td>\n",
              "      <td>3.06</td>\n",
              "      <td>0.28</td>\n",
              "      <td>2.29</td>\n",
              "      <td>5.64</td>\n",
              "      <td>1.04</td>\n",
              "      <td>3.92</td>\n",
              "      <td>1065.0</td>\n",
              "    </tr>\n",
              "    <tr>\n",
              "      <th>1</th>\n",
              "      <td>13.20</td>\n",
              "      <td>1.78</td>\n",
              "      <td>2.14</td>\n",
              "      <td>11.2</td>\n",
              "      <td>100.0</td>\n",
              "      <td>2.65</td>\n",
              "      <td>2.76</td>\n",
              "      <td>0.26</td>\n",
              "      <td>1.28</td>\n",
              "      <td>4.38</td>\n",
              "      <td>1.05</td>\n",
              "      <td>3.40</td>\n",
              "      <td>1050.0</td>\n",
              "    </tr>\n",
              "    <tr>\n",
              "      <th>2</th>\n",
              "      <td>13.16</td>\n",
              "      <td>2.36</td>\n",
              "      <td>2.67</td>\n",
              "      <td>18.6</td>\n",
              "      <td>101.0</td>\n",
              "      <td>2.80</td>\n",
              "      <td>3.24</td>\n",
              "      <td>0.30</td>\n",
              "      <td>2.81</td>\n",
              "      <td>5.68</td>\n",
              "      <td>1.03</td>\n",
              "      <td>3.17</td>\n",
              "      <td>1185.0</td>\n",
              "    </tr>\n",
              "    <tr>\n",
              "      <th>3</th>\n",
              "      <td>14.37</td>\n",
              "      <td>1.95</td>\n",
              "      <td>2.50</td>\n",
              "      <td>16.8</td>\n",
              "      <td>113.0</td>\n",
              "      <td>3.85</td>\n",
              "      <td>3.49</td>\n",
              "      <td>0.24</td>\n",
              "      <td>2.18</td>\n",
              "      <td>7.80</td>\n",
              "      <td>0.86</td>\n",
              "      <td>3.45</td>\n",
              "      <td>1480.0</td>\n",
              "    </tr>\n",
              "    <tr>\n",
              "      <th>4</th>\n",
              "      <td>13.24</td>\n",
              "      <td>2.59</td>\n",
              "      <td>2.87</td>\n",
              "      <td>21.0</td>\n",
              "      <td>118.0</td>\n",
              "      <td>2.80</td>\n",
              "      <td>2.69</td>\n",
              "      <td>0.39</td>\n",
              "      <td>1.82</td>\n",
              "      <td>4.32</td>\n",
              "      <td>1.04</td>\n",
              "      <td>2.93</td>\n",
              "      <td>735.0</td>\n",
              "    </tr>\n",
              "  </tbody>\n",
              "</table>\n",
              "</div>\n",
              "      <button class=\"colab-df-convert\" onclick=\"convertToInteractive('df-d3f32a61-406c-4d74-9904-7f82a63b382a')\"\n",
              "              title=\"Convert this dataframe to an interactive table.\"\n",
              "              style=\"display:none;\">\n",
              "        \n",
              "  <svg xmlns=\"http://www.w3.org/2000/svg\" height=\"24px\"viewBox=\"0 0 24 24\"\n",
              "       width=\"24px\">\n",
              "    <path d=\"M0 0h24v24H0V0z\" fill=\"none\"/>\n",
              "    <path d=\"M18.56 5.44l.94 2.06.94-2.06 2.06-.94-2.06-.94-.94-2.06-.94 2.06-2.06.94zm-11 1L8.5 8.5l.94-2.06 2.06-.94-2.06-.94L8.5 2.5l-.94 2.06-2.06.94zm10 10l.94 2.06.94-2.06 2.06-.94-2.06-.94-.94-2.06-.94 2.06-2.06.94z\"/><path d=\"M17.41 7.96l-1.37-1.37c-.4-.4-.92-.59-1.43-.59-.52 0-1.04.2-1.43.59L10.3 9.45l-7.72 7.72c-.78.78-.78 2.05 0 2.83L4 21.41c.39.39.9.59 1.41.59.51 0 1.02-.2 1.41-.59l7.78-7.78 2.81-2.81c.8-.78.8-2.07 0-2.86zM5.41 20L4 18.59l7.72-7.72 1.47 1.35L5.41 20z\"/>\n",
              "  </svg>\n",
              "      </button>\n",
              "      \n",
              "  <style>\n",
              "    .colab-df-container {\n",
              "      display:flex;\n",
              "      flex-wrap:wrap;\n",
              "      gap: 12px;\n",
              "    }\n",
              "\n",
              "    .colab-df-convert {\n",
              "      background-color: #E8F0FE;\n",
              "      border: none;\n",
              "      border-radius: 50%;\n",
              "      cursor: pointer;\n",
              "      display: none;\n",
              "      fill: #1967D2;\n",
              "      height: 32px;\n",
              "      padding: 0 0 0 0;\n",
              "      width: 32px;\n",
              "    }\n",
              "\n",
              "    .colab-df-convert:hover {\n",
              "      background-color: #E2EBFA;\n",
              "      box-shadow: 0px 1px 2px rgba(60, 64, 67, 0.3), 0px 1px 3px 1px rgba(60, 64, 67, 0.15);\n",
              "      fill: #174EA6;\n",
              "    }\n",
              "\n",
              "    [theme=dark] .colab-df-convert {\n",
              "      background-color: #3B4455;\n",
              "      fill: #D2E3FC;\n",
              "    }\n",
              "\n",
              "    [theme=dark] .colab-df-convert:hover {\n",
              "      background-color: #434B5C;\n",
              "      box-shadow: 0px 1px 3px 1px rgba(0, 0, 0, 0.15);\n",
              "      filter: drop-shadow(0px 1px 2px rgba(0, 0, 0, 0.3));\n",
              "      fill: #FFFFFF;\n",
              "    }\n",
              "  </style>\n",
              "\n",
              "      <script>\n",
              "        const buttonEl =\n",
              "          document.querySelector('#df-d3f32a61-406c-4d74-9904-7f82a63b382a button.colab-df-convert');\n",
              "        buttonEl.style.display =\n",
              "          google.colab.kernel.accessAllowed ? 'block' : 'none';\n",
              "\n",
              "        async function convertToInteractive(key) {\n",
              "          const element = document.querySelector('#df-d3f32a61-406c-4d74-9904-7f82a63b382a');\n",
              "          const dataTable =\n",
              "            await google.colab.kernel.invokeFunction('convertToInteractive',\n",
              "                                                     [key], {});\n",
              "          if (!dataTable) return;\n",
              "\n",
              "          const docLinkHtml = 'Like what you see? Visit the ' +\n",
              "            '<a target=\"_blank\" href=https://colab.research.google.com/notebooks/data_table.ipynb>data table notebook</a>'\n",
              "            + ' to learn more about interactive tables.';\n",
              "          element.innerHTML = '';\n",
              "          dataTable['output_type'] = 'display_data';\n",
              "          await google.colab.output.renderOutput(dataTable, element);\n",
              "          const docLink = document.createElement('div');\n",
              "          docLink.innerHTML = docLinkHtml;\n",
              "          element.appendChild(docLink);\n",
              "        }\n",
              "      </script>\n",
              "    </div>\n",
              "  </div>\n",
              "  "
            ]
          },
          "metadata": {},
          "execution_count": 1
        }
      ]
    },
    {
      "cell_type": "code",
      "source": [
        "#without pre-processing\n",
        "from sklearn.model_selection import train_test_split\n",
        "X_train, X_test, y_train, y_test = train_test_split(wine.data,wine.target,test_size=0.3)"
      ],
      "metadata": {
        "id": "EjTjZ27AmqPj"
      },
      "execution_count": null,
      "outputs": []
    },
    {
      "cell_type": "code",
      "source": [
        "#model for k=5\n",
        "from sklearn.neighbors import KNeighborsClassifier\n",
        "knn = KNeighborsClassifier(n_neighbors=5)\n",
        "knn.fit(X_train,y_train)\n",
        "y_pred = knn.predict(X_test)"
      ],
      "metadata": {
        "id": "-H88YVG1nAgL"
      },
      "execution_count": null,
      "outputs": []
    },
    {
      "cell_type": "code",
      "source": [
        "from sklearn import metrics\n",
        "print(\"Accuracy: \",metrics.accuracy_score(y_test,y_pred))"
      ],
      "metadata": {
        "colab": {
          "base_uri": "https://localhost:8080/"
        },
        "id": "GTUE_NFTnZmY",
        "outputId": "03b79d11-572e-4002-a925-e1e22f7747d5"
      },
      "execution_count": null,
      "outputs": [
        {
          "output_type": "stream",
          "name": "stdout",
          "text": [
            "Accuracy:  0.6666666666666666\n"
          ]
        }
      ]
    },
    {
      "cell_type": "code",
      "source": [
        "#model for k=7\n",
        "from sklearn.neighbors import KNeighborsClassifier\n",
        "knn2 = KNeighborsClassifier(n_neighbors=7)\n",
        "knn.fit(X_train,y_train)\n",
        "y_pred2 = knn.predict(X_test)"
      ],
      "metadata": {
        "id": "oxwuuF_VnuYD"
      },
      "execution_count": null,
      "outputs": []
    },
    {
      "cell_type": "code",
      "source": [
        "from sklearn import metrics\n",
        "print(\"Accuracy: \",metrics.accuracy_score(y_test,y_pred2))"
      ],
      "metadata": {
        "colab": {
          "base_uri": "https://localhost:8080/"
        },
        "id": "cMZYxqLfn0AN",
        "outputId": "99041156-7d9a-473d-ed7e-de6638465877"
      },
      "execution_count": null,
      "outputs": [
        {
          "output_type": "stream",
          "name": "stdout",
          "text": [
            "Accuracy:  0.6666666666666666\n"
          ]
        }
      ]
    },
    {
      "cell_type": "code",
      "source": [
        "from sklearn import preprocessing\n",
        "from sklearn.preprocessing import MinMaxScaler\n",
        "scaler = MinMaxScaler()\n",
        "scaler.fit(wine.data)\n",
        "temp = scaler.fit_transform(wine.data)\n",
        "print(temp[:5])"
      ],
      "metadata": {
        "colab": {
          "base_uri": "https://localhost:8080/"
        },
        "id": "x7DhWMpMoCEO",
        "outputId": "3df1f4fd-8d23-4122-cfdc-3bde73ec80bc"
      },
      "execution_count": null,
      "outputs": [
        {
          "output_type": "stream",
          "name": "stdout",
          "text": [
            "[[0.84210526 0.1916996  0.57219251 0.25773196 0.61956522 0.62758621\n",
            "  0.57383966 0.28301887 0.59305994 0.37201365 0.45528455 0.97069597\n",
            "  0.56134094]\n",
            " [0.57105263 0.2055336  0.4171123  0.03092784 0.32608696 0.57586207\n",
            "  0.51054852 0.24528302 0.27444795 0.26450512 0.46341463 0.78021978\n",
            "  0.55064194]\n",
            " [0.56052632 0.3201581  0.70053476 0.41237113 0.33695652 0.62758621\n",
            "  0.61181435 0.32075472 0.75709779 0.37542662 0.44715447 0.6959707\n",
            "  0.64693295]\n",
            " [0.87894737 0.23913043 0.60962567 0.31958763 0.4673913  0.98965517\n",
            "  0.66455696 0.20754717 0.55835962 0.55631399 0.30894309 0.7985348\n",
            "  0.85734665]\n",
            " [0.58157895 0.36561265 0.80748663 0.53608247 0.52173913 0.62758621\n",
            "  0.49578059 0.49056604 0.44479495 0.25938567 0.45528455 0.60805861\n",
            "  0.32596291]]\n"
          ]
        }
      ]
    },
    {
      "cell_type": "code",
      "source": [
        "X_train, X_test, y_train, y_test = train_test_split(temp,wine.target,test_size=0.3)"
      ],
      "metadata": {
        "id": "wyS3dD2sosM5"
      },
      "execution_count": null,
      "outputs": []
    },
    {
      "cell_type": "code",
      "source": [
        "from sklearn.neighbors import KNeighborsClassifier\n",
        "knn3 = KNeighborsClassifier(n_neighbors=7)\n",
        "knn.fit(X_train,y_train)\n",
        "y_pred3 = knn.predict(X_test)\n",
        "print(\"Accuracy: \",metrics.accuracy_score(y_test,y_pred3))"
      ],
      "metadata": {
        "id": "-iVPSnV-o12T",
        "outputId": "128bcc60-ca1d-48a2-882e-a98375840464",
        "colab": {
          "base_uri": "https://localhost:8080/"
        }
      },
      "execution_count": null,
      "outputs": [
        {
          "output_type": "stream",
          "name": "stdout",
          "text": [
            "Accuracy:  0.9629629629629629\n"
          ]
        }
      ]
    },
    {
      "cell_type": "markdown",
      "source": [
        "Decision Tree"
      ],
      "metadata": {
        "id": "A7yPLEfFtHQd"
      }
    },
    {
      "cell_type": "code",
      "source": [
        "import pandas as pd\n",
        "import numpy as np\n",
        "dataset = pd.read_csv(\"/content/bill_authentication.csv\")\n",
        "print(dataset.shape)\n",
        "print(dataset.head())"
      ],
      "metadata": {
        "colab": {
          "base_uri": "https://localhost:8080/"
        },
        "id": "wOz86JnQtIfd",
        "outputId": "b366d4a3-730c-4459-c6a6-399631c7334a"
      },
      "execution_count": null,
      "outputs": [
        {
          "output_type": "stream",
          "name": "stdout",
          "text": [
            "(1372, 5)\n",
            "   Variance  Skewness  Curtosis  Entropy  Class\n",
            "0   3.62160    8.6661   -2.8073 -0.44699      0\n",
            "1   4.54590    8.1674   -2.4586 -1.46210      0\n",
            "2   3.86600   -2.6383    1.9242  0.10645      0\n",
            "3   3.45660    9.5228   -4.0112 -3.59440      0\n",
            "4   0.32924   -4.4552    4.5718 -0.98880      0\n"
          ]
        }
      ]
    },
    {
      "cell_type": "code",
      "source": [
        "X = dataset.drop('Class',axis=1)\n",
        "y = dataset['Class']"
      ],
      "metadata": {
        "id": "HQpNJbRwtl0p"
      },
      "execution_count": null,
      "outputs": []
    },
    {
      "cell_type": "code",
      "source": [
        "from sklearn.model_selection import train_test_split\n",
        "X_train, X_test, y_train, y_test = train_test_split(X, y, test_size=0.2)"
      ],
      "metadata": {
        "id": "6Wbcvz8Yt0FV"
      },
      "execution_count": null,
      "outputs": []
    },
    {
      "cell_type": "code",
      "source": [
        "from sklearn.tree import DecisionTreeClassifier\n",
        "classifier = DecisionTreeClassifier()\n",
        "classifier.fit(X_train, y_train)\n",
        "y_pred = classifier.predict(X_test)"
      ],
      "metadata": {
        "id": "4Dvh4zy9uFG1"
      },
      "execution_count": null,
      "outputs": []
    },
    {
      "cell_type": "code",
      "source": [
        "from sklearn.metrics import classification_report, confusion_matrix\n",
        "print(confusion_matrix(y_test,y_pred))\n",
        "print(classification_report(y_test,y_pred))"
      ],
      "metadata": {
        "colab": {
          "base_uri": "https://localhost:8080/"
        },
        "id": "oDGqQni7uaWa",
        "outputId": "2a4aae53-b427-45be-9b7e-b2906e03b866"
      },
      "execution_count": null,
      "outputs": [
        {
          "output_type": "stream",
          "name": "stdout",
          "text": [
            "[[147   3]\n",
            " [  1 124]]\n",
            "              precision    recall  f1-score   support\n",
            "\n",
            "           0       0.99      0.98      0.99       150\n",
            "           1       0.98      0.99      0.98       125\n",
            "\n",
            "    accuracy                           0.99       275\n",
            "   macro avg       0.98      0.99      0.99       275\n",
            "weighted avg       0.99      0.99      0.99       275\n",
            "\n"
          ]
        }
      ]
    },
    {
      "cell_type": "code",
      "source": [
        "import matplotlib.pyplot as plt\n",
        "from sklearn import metrics\n",
        "cm = metrics.confusion_matrix(y_test,y_pred)\n",
        "cm_display = metrics.ConfusionMatrixDisplay(confusion_matrix=cm, display_labels=[False,True])\n",
        "cm_display.plot()\n",
        "plt.show()"
      ],
      "metadata": {
        "colab": {
          "base_uri": "https://localhost:8080/",
          "height": 279
        },
        "id": "FdVgEBRmu4ub",
        "outputId": "830fb56a-1858-4d5c-bc26-05ec50af421c"
      },
      "execution_count": null,
      "outputs": [
        {
          "output_type": "display_data",
          "data": {
            "text/plain": [
              "<Figure size 432x288 with 2 Axes>"
            ],
            "image/png": "[encoded data removed]"
          },
          "metadata": {
            "needs_background": "light"
          }
        }
      ]
    },
    {
      "cell_type": "markdown",
      "source": [
        "Random Forest Classifier"
      ],
      "metadata": {
        "id": "WrJ_-VHKUtNk"
      }
    },
    {
      "cell_type": "code",
      "source": [
        "#importing library\n",
        "import numpy as np\n",
        "import matplotlib.pyplot as mtp\n",
        "import pandas as pd\n",
        "\n",
        "data_set = pd.read_csv('/content/heart.csv')\n",
        "print(data_set.head())"
      ],
      "metadata": {
        "colab": {
          "base_uri": "https://localhost:8080/"
        },
        "id": "lmoGbvaBUv_O",
        "outputId": "945d695b-d860-49fe-c07a-89c0f6c03fd1"
      },
      "execution_count": null,
      "outputs": [
        {
          "output_type": "stream",
          "name": "stdout",
          "text": [
            "   age  sex  cp  trestbps  chol  fbs  restecg  thalach  exang  oldpeak  slope  \\\n",
            "0   52    1   0       125   212    0        1      168      0      1.0      2   \n",
            "1   53    1   0       140   203    1        0      155      1      3.1      0   \n",
            "2   70    1   0       145   174    0        1      125      1      2.6      0   \n",
            "3   61    1   0       148   203    0        1      161      0      0.0      2   \n",
            "4   62    0   0       138   294    1        1      106      0      1.9      1   \n",
            "\n",
            "   ca  thal  target  \n",
            "0   2     3       0  \n",
            "1   0     3       0  \n",
            "2   0     3       0  \n",
            "3   1     3       0  \n",
            "4   3     2       0  \n"
          ]
        }
      ]
    },
    {
      "cell_type": "code",
      "source": [
        "x = data_set.drop('target', axis =1)\n",
        "y = data_set['target']"
      ],
      "metadata": {
        "id": "dfyaSy4kVRUc"
      },
      "execution_count": null,
      "outputs": []
    },
    {
      "cell_type": "code",
      "source": [
        "#splitting\n",
        "from sklearn.model_selection import train_test_split\n",
        "x_train, x_test, y_train, y_test = train_test_split(x, y, test_size = 0.2, random_state =0)"
      ],
      "metadata": {
        "id": "6yvT0-jnVfMf"
      },
      "execution_count": null,
      "outputs": []
    },
    {
      "cell_type": "code",
      "source": [
        "from sklearn.ensemble import RandomForestClassifier\n",
        "classifier = RandomForestClassifier(n_estimators = 10, criterion = \"entropy\")\n",
        "classifier.fit(x_train,y_train)"
      ],
      "metadata": {
        "colab": {
          "base_uri": "https://localhost:8080/"
        },
        "id": "FT_jFtlIVzcX",
        "outputId": "9c6f095c-8106-4672-ad40-6baad9d27290"
      },
      "execution_count": null,
      "outputs": [
        {
          "output_type": "execute_result",
          "data": {
            "text/plain": [
              "RandomForestClassifier(criterion='entropy', n_estimators=10)"
            ]
          },
          "metadata": {},
          "execution_count": 5
        }
      ]
    },
    {
      "cell_type": "code",
      "source": [
        "y_pred = classifier.predict(x_test)"
      ],
      "metadata": {
        "id": "dZET21ydWKJl"
      },
      "execution_count": null,
      "outputs": []
    },
    {
      "cell_type": "code",
      "source": [
        "from sklearn.metrics import confusion_matrix\n",
        "cm = confusion_matrix(y_test, y_pred)\n",
        "print(cm)"
      ],
      "metadata": {
        "colab": {
          "base_uri": "https://localhost:8080/"
        },
        "id": "VkJL6Ju-WPM9",
        "outputId": "bf022952-088b-4b27-db76-0ca0d24a1599"
      },
      "execution_count": null,
      "outputs": [
        {
          "output_type": "stream",
          "name": "stdout",
          "text": [
            "[[ 98   0]\n",
            " [  0 107]]\n"
          ]
        }
      ]
    },
    {
      "cell_type": "code",
      "source": [
        "from sklearn.metrics import accuracy_score\n",
        "accuracy_score(y_test, y_pred)"
      ],
      "metadata": {
        "colab": {
          "base_uri": "https://localhost:8080/"
        },
        "id": "Hq49L6aLWfQm",
        "outputId": "ca7fb850-78b6-4f34-bb61-bf210552b34a"
      },
      "execution_count": null,
      "outputs": [
        {
          "output_type": "execute_result",
          "data": {
            "text/plain": [
              "1.0"
            ]
          },
          "metadata": {},
          "execution_count": 8
        }
      ]
    }
  ]
}